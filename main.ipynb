{
 "cells": [
  {
   "cell_type": "code",
   "execution_count": 1,
   "id": "6b51a091-b546-447f-a61c-2cb499af836e",
   "metadata": {},
   "outputs": [],
   "source": [
    "import polars as pl"
   ]
  },
  {
   "cell_type": "code",
   "execution_count": 2,
   "id": "60eed280-3a82-42c2-bdcd-ff7132a86a66",
   "metadata": {},
   "outputs": [],
   "source": [
    "lf_1996 = pl.scan_csv(\"data/1996to2005.csv\", ignore_errors=True).select(\"DATE\", \"DailyAverageDryBulbTemperature\").drop_nulls()\n",
    "lf_2015 = pl.scan_csv(\"data/2005to2015.csv\", ignore_errors=True).select(\"DATE\", \"DailyAverageDryBulbTemperature\").drop_nulls()\n",
    "lf_2025 = pl.scan_csv(\"data/2015to2025.csv\", ignore_errors=True).select(\"DATE\", \"DailyAverageDryBulbTemperature\").drop_nulls()"
   ]
  },
  {
   "cell_type": "code",
   "execution_count": 3,
   "id": "00474561-6e5c-4924-a825-e30a0ec4e444",
   "metadata": {},
   "outputs": [
    {
     "data": {
      "text/html": [
       "<div><style>\n",
       ".dataframe > thead > tr,\n",
       ".dataframe > tbody > tr {\n",
       "  text-align: right;\n",
       "  white-space: pre-wrap;\n",
       "}\n",
       "</style>\n",
       "<small>shape: (10_332, 2)</small><table border=\"1\" class=\"dataframe\"><thead><tr><th>DATE</th><th>TEMP</th></tr><tr><td>str</td><td>i64</td></tr></thead><tbody><tr><td>&quot;1996-07-01T23:59:00&quot;</td><td>83</td></tr><tr><td>&quot;1996-07-02T23:59:00&quot;</td><td>83</td></tr><tr><td>&quot;1996-07-03T23:59:00&quot;</td><td>82</td></tr><tr><td>&quot;1996-07-04T23:59:00&quot;</td><td>79</td></tr><tr><td>&quot;1996-07-05T23:59:00&quot;</td><td>80</td></tr><tr><td>&hellip;</td><td>&hellip;</td></tr><tr><td>&quot;2025-07-06T23:59:00&quot;</td><td>81</td></tr><tr><td>&quot;2025-07-07T23:59:00&quot;</td><td>80</td></tr><tr><td>&quot;2025-07-08T23:59:00&quot;</td><td>80</td></tr><tr><td>&quot;2025-07-09T23:59:00&quot;</td><td>80</td></tr><tr><td>&quot;2025-07-10T23:59:00&quot;</td><td>79</td></tr></tbody></table></div>"
      ],
      "text/plain": [
       "shape: (10_332, 2)\n",
       "┌─────────────────────┬──────┐\n",
       "│ DATE                ┆ TEMP │\n",
       "│ ---                 ┆ ---  │\n",
       "│ str                 ┆ i64  │\n",
       "╞═════════════════════╪══════╡\n",
       "│ 1996-07-01T23:59:00 ┆ 83   │\n",
       "│ 1996-07-02T23:59:00 ┆ 83   │\n",
       "│ 1996-07-03T23:59:00 ┆ 82   │\n",
       "│ 1996-07-04T23:59:00 ┆ 79   │\n",
       "│ 1996-07-05T23:59:00 ┆ 80   │\n",
       "│ …                   ┆ …    │\n",
       "│ 2025-07-06T23:59:00 ┆ 81   │\n",
       "│ 2025-07-07T23:59:00 ┆ 80   │\n",
       "│ 2025-07-08T23:59:00 ┆ 80   │\n",
       "│ 2025-07-09T23:59:00 ┆ 80   │\n",
       "│ 2025-07-10T23:59:00 ┆ 79   │\n",
       "└─────────────────────┴──────┘"
      ]
     },
     "execution_count": 3,
     "metadata": {},
     "output_type": "execute_result"
    }
   ],
   "source": [
    "lf_1996 = lf_1996.with_columns(\n",
    "    pl.col(\"DailyAverageDryBulbTemperature\").str.replace_all(r\"[^0-9]\", \"\").cast(pl.Int64).alias(\"TEMP\")\n",
    ")\n",
    "\n",
    "lf_1996 = lf_1996.drop(\"DailyAverageDryBulbTemperature\")\n",
    "\n",
    "lf_2015 = lf_2015.rename({\"DailyAverageDryBulbTemperature\": \"TEMP\"})\n",
    "\n",
    "lf_2025 = lf_2025.rename({\"DailyAverageDryBulbTemperature\": \"TEMP\"})\n",
    "\n",
    "lf_full = pl.concat([lf_1996, lf_2015, lf_2025], how=\"vertical\")\n",
    "\n",
    "lf_full.collect()"
   ]
  },
  {
   "cell_type": "code",
   "execution_count": 4,
   "id": "d6c1c3ce-a93e-436e-8448-a7abe9c74d57",
   "metadata": {},
   "outputs": [
    {
     "data": {
      "text/html": [
       "<div><style>\n",
       ".dataframe > thead > tr,\n",
       ".dataframe > tbody > tr {\n",
       "  text-align: right;\n",
       "  white-space: pre-wrap;\n",
       "}\n",
       "</style>\n",
       "<small>shape: (10_332, 8)</small><table border=\"1\" class=\"dataframe\"><thead><tr><th>DATE</th><th>TEMP</th><th>YEAR</th><th>MONTH</th><th>DAY</th><th>HOUR</th><th>MINUTE</th><th>SECOND</th></tr><tr><td>str</td><td>i64</td><td>i32</td><td>i8</td><td>i8</td><td>i8</td><td>i8</td><td>i8</td></tr></thead><tbody><tr><td>&quot;1996-07-01T23:59:00&quot;</td><td>83</td><td>1996</td><td>7</td><td>1</td><td>23</td><td>59</td><td>0</td></tr><tr><td>&quot;1996-07-02T23:59:00&quot;</td><td>83</td><td>1996</td><td>7</td><td>2</td><td>23</td><td>59</td><td>0</td></tr><tr><td>&quot;1996-07-03T23:59:00&quot;</td><td>82</td><td>1996</td><td>7</td><td>3</td><td>23</td><td>59</td><td>0</td></tr><tr><td>&quot;1996-07-04T23:59:00&quot;</td><td>79</td><td>1996</td><td>7</td><td>4</td><td>23</td><td>59</td><td>0</td></tr><tr><td>&quot;1996-07-05T23:59:00&quot;</td><td>80</td><td>1996</td><td>7</td><td>5</td><td>23</td><td>59</td><td>0</td></tr><tr><td>&hellip;</td><td>&hellip;</td><td>&hellip;</td><td>&hellip;</td><td>&hellip;</td><td>&hellip;</td><td>&hellip;</td><td>&hellip;</td></tr><tr><td>&quot;2025-07-06T23:59:00&quot;</td><td>81</td><td>2025</td><td>7</td><td>6</td><td>23</td><td>59</td><td>0</td></tr><tr><td>&quot;2025-07-07T23:59:00&quot;</td><td>80</td><td>2025</td><td>7</td><td>7</td><td>23</td><td>59</td><td>0</td></tr><tr><td>&quot;2025-07-08T23:59:00&quot;</td><td>80</td><td>2025</td><td>7</td><td>8</td><td>23</td><td>59</td><td>0</td></tr><tr><td>&quot;2025-07-09T23:59:00&quot;</td><td>80</td><td>2025</td><td>7</td><td>9</td><td>23</td><td>59</td><td>0</td></tr><tr><td>&quot;2025-07-10T23:59:00&quot;</td><td>79</td><td>2025</td><td>7</td><td>10</td><td>23</td><td>59</td><td>0</td></tr></tbody></table></div>"
      ],
      "text/plain": [
       "shape: (10_332, 8)\n",
       "┌─────────────────────┬──────┬──────┬───────┬─────┬──────┬────────┬────────┐\n",
       "│ DATE                ┆ TEMP ┆ YEAR ┆ MONTH ┆ DAY ┆ HOUR ┆ MINUTE ┆ SECOND │\n",
       "│ ---                 ┆ ---  ┆ ---  ┆ ---   ┆ --- ┆ ---  ┆ ---    ┆ ---    │\n",
       "│ str                 ┆ i64  ┆ i32  ┆ i8    ┆ i8  ┆ i8   ┆ i8     ┆ i8     │\n",
       "╞═════════════════════╪══════╪══════╪═══════╪═════╪══════╪════════╪════════╡\n",
       "│ 1996-07-01T23:59:00 ┆ 83   ┆ 1996 ┆ 7     ┆ 1   ┆ 23   ┆ 59     ┆ 0      │\n",
       "│ 1996-07-02T23:59:00 ┆ 83   ┆ 1996 ┆ 7     ┆ 2   ┆ 23   ┆ 59     ┆ 0      │\n",
       "│ 1996-07-03T23:59:00 ┆ 82   ┆ 1996 ┆ 7     ┆ 3   ┆ 23   ┆ 59     ┆ 0      │\n",
       "│ 1996-07-04T23:59:00 ┆ 79   ┆ 1996 ┆ 7     ┆ 4   ┆ 23   ┆ 59     ┆ 0      │\n",
       "│ 1996-07-05T23:59:00 ┆ 80   ┆ 1996 ┆ 7     ┆ 5   ┆ 23   ┆ 59     ┆ 0      │\n",
       "│ …                   ┆ …    ┆ …    ┆ …     ┆ …   ┆ …    ┆ …      ┆ …      │\n",
       "│ 2025-07-06T23:59:00 ┆ 81   ┆ 2025 ┆ 7     ┆ 6   ┆ 23   ┆ 59     ┆ 0      │\n",
       "│ 2025-07-07T23:59:00 ┆ 80   ┆ 2025 ┆ 7     ┆ 7   ┆ 23   ┆ 59     ┆ 0      │\n",
       "│ 2025-07-08T23:59:00 ┆ 80   ┆ 2025 ┆ 7     ┆ 8   ┆ 23   ┆ 59     ┆ 0      │\n",
       "│ 2025-07-09T23:59:00 ┆ 80   ┆ 2025 ┆ 7     ┆ 9   ┆ 23   ┆ 59     ┆ 0      │\n",
       "│ 2025-07-10T23:59:00 ┆ 79   ┆ 2025 ┆ 7     ┆ 10  ┆ 23   ┆ 59     ┆ 0      │\n",
       "└─────────────────────┴──────┴──────┴───────┴─────┴──────┴────────┴────────┘"
      ]
     },
     "execution_count": 4,
     "metadata": {},
     "output_type": "execute_result"
    }
   ],
   "source": [
    "date_str = lf_full.select(\"DATE\").collect().to_series().str.to_datetime(\"%Y-%m-%dT%H:%M:%S\").dt\n",
    "\n",
    "lf_full = lf_full.with_columns(\n",
    "    date_str.year().alias(\"YEAR\"),\n",
    "    date_str.month().alias(\"MONTH\"),\n",
    "    date_str.day().alias(\"DAY\"),\n",
    "    date_str.hour().alias(\"HOUR\"),\n",
    "    date_str.minute().alias(\"MINUTE\"),\n",
    "    date_str.second().alias(\"SECOND\")\n",
    "    \n",
    ")\n",
    "\n",
    "lf_full.collect()\n"
   ]
  },
  {
   "cell_type": "code",
   "execution_count": 5,
   "id": "cd43c4e4-ef7b-4925-89a6-9e6ceb51e738",
   "metadata": {},
   "outputs": [
    {
     "data": {
      "text/html": [
       "<div><style>\n",
       ".dataframe > thead > tr,\n",
       ".dataframe > tbody > tr {\n",
       "  text-align: right;\n",
       "  white-space: pre-wrap;\n",
       "}\n",
       "</style>\n",
       "<small>shape: (10_332, 7)</small><table border=\"1\" class=\"dataframe\"><thead><tr><th>YEAR</th><th>MONTH</th><th>DAY</th><th>HOUR</th><th>MINUTE</th><th>SECOND</th><th>TEMP</th></tr><tr><td>i32</td><td>i8</td><td>i8</td><td>i8</td><td>i8</td><td>i8</td><td>i64</td></tr></thead><tbody><tr><td>1996</td><td>7</td><td>1</td><td>23</td><td>59</td><td>0</td><td>83</td></tr><tr><td>1996</td><td>7</td><td>2</td><td>23</td><td>59</td><td>0</td><td>83</td></tr><tr><td>1996</td><td>7</td><td>3</td><td>23</td><td>59</td><td>0</td><td>82</td></tr><tr><td>1996</td><td>7</td><td>4</td><td>23</td><td>59</td><td>0</td><td>79</td></tr><tr><td>1996</td><td>7</td><td>5</td><td>23</td><td>59</td><td>0</td><td>80</td></tr><tr><td>&hellip;</td><td>&hellip;</td><td>&hellip;</td><td>&hellip;</td><td>&hellip;</td><td>&hellip;</td><td>&hellip;</td></tr><tr><td>2025</td><td>7</td><td>6</td><td>23</td><td>59</td><td>0</td><td>81</td></tr><tr><td>2025</td><td>7</td><td>7</td><td>23</td><td>59</td><td>0</td><td>80</td></tr><tr><td>2025</td><td>7</td><td>8</td><td>23</td><td>59</td><td>0</td><td>80</td></tr><tr><td>2025</td><td>7</td><td>9</td><td>23</td><td>59</td><td>0</td><td>80</td></tr><tr><td>2025</td><td>7</td><td>10</td><td>23</td><td>59</td><td>0</td><td>79</td></tr></tbody></table></div>"
      ],
      "text/plain": [
       "shape: (10_332, 7)\n",
       "┌──────┬───────┬─────┬──────┬────────┬────────┬──────┐\n",
       "│ YEAR ┆ MONTH ┆ DAY ┆ HOUR ┆ MINUTE ┆ SECOND ┆ TEMP │\n",
       "│ ---  ┆ ---   ┆ --- ┆ ---  ┆ ---    ┆ ---    ┆ ---  │\n",
       "│ i32  ┆ i8    ┆ i8  ┆ i8   ┆ i8     ┆ i8     ┆ i64  │\n",
       "╞══════╪═══════╪═════╪══════╪════════╪════════╪══════╡\n",
       "│ 1996 ┆ 7     ┆ 1   ┆ 23   ┆ 59     ┆ 0      ┆ 83   │\n",
       "│ 1996 ┆ 7     ┆ 2   ┆ 23   ┆ 59     ┆ 0      ┆ 83   │\n",
       "│ 1996 ┆ 7     ┆ 3   ┆ 23   ┆ 59     ┆ 0      ┆ 82   │\n",
       "│ 1996 ┆ 7     ┆ 4   ┆ 23   ┆ 59     ┆ 0      ┆ 79   │\n",
       "│ 1996 ┆ 7     ┆ 5   ┆ 23   ┆ 59     ┆ 0      ┆ 80   │\n",
       "│ …    ┆ …     ┆ …   ┆ …    ┆ …      ┆ …      ┆ …    │\n",
       "│ 2025 ┆ 7     ┆ 6   ┆ 23   ┆ 59     ┆ 0      ┆ 81   │\n",
       "│ 2025 ┆ 7     ┆ 7   ┆ 23   ┆ 59     ┆ 0      ┆ 80   │\n",
       "│ 2025 ┆ 7     ┆ 8   ┆ 23   ┆ 59     ┆ 0      ┆ 80   │\n",
       "│ 2025 ┆ 7     ┆ 9   ┆ 23   ┆ 59     ┆ 0      ┆ 80   │\n",
       "│ 2025 ┆ 7     ┆ 10  ┆ 23   ┆ 59     ┆ 0      ┆ 79   │\n",
       "└──────┴───────┴─────┴──────┴────────┴────────┴──────┘"
      ]
     },
     "execution_count": 5,
     "metadata": {},
     "output_type": "execute_result"
    }
   ],
   "source": [
    "lf_full = lf_full.drop(\"DATE\")\n",
    "lf_full = lf_full.select([\"YEAR\", \"MONTH\", \"DAY\", \"HOUR\", \"MINUTE\", \"SECOND\", \"TEMP\"])\n",
    "\n",
    "lf_full.collect()"
   ]
  },
  {
   "cell_type": "code",
   "execution_count": 11,
   "id": "a305aa50-3b91-451b-abbc-f02097e0534e",
   "metadata": {},
   "outputs": [
    {
     "name": "stdout",
     "output_type": "stream",
     "text": [
      "YEAR: 0.1259503517472589\n",
      "MONTH: 0.42290630234541876\n",
      "DAY: 0.017572939318755688\n",
      "HOUR: nan\n",
      "MINUTE: nan\n",
      "SECOND: nan\n",
      "TEMP: 1.0\n"
     ]
    }
   ],
   "source": [
    "corr_schema = lf_full.collect_schema()\n",
    "\n",
    "for column in corr_schema.names():\n",
    "\n",
    "    corr = lf_full.select(pl.corr(column, \"TEMP\")).collect().item()\n",
    "    print(f\"{column}: {corr}\") \n"
   ]
  },
  {
   "cell_type": "code",
   "execution_count": null,
   "id": "7a734b28-c3f3-4481-abd9-622d7aa6ed04",
   "metadata": {},
   "outputs": [],
   "source": []
  }
 ],
 "metadata": {
  "kernelspec": {
   "display_name": "Python 3 (ipykernel)",
   "language": "python",
   "name": "python3"
  },
  "language_info": {
   "codemirror_mode": {
    "name": "ipython",
    "version": 3
   },
   "file_extension": ".py",
   "mimetype": "text/x-python",
   "name": "python",
   "nbconvert_exporter": "python",
   "pygments_lexer": "ipython3",
   "version": "3.10.18"
  }
 },
 "nbformat": 4,
 "nbformat_minor": 5
}
