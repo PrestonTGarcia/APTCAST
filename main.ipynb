{
 "cells": [
  {
   "cell_type": "markdown",
   "id": "caece6b3-310c-43d2-98b5-6e836b4942a2",
   "metadata": {},
   "source": [
    "# Atmospheric Precipitation, Temperature, and Cloudiness forecAST (APTCAST)\n",
    "\n",
    "This notebook is the main notebook for the temperature aspect of the APTCAST project - forecasting atmospheric phenomena. Specific forecasted phenomena include precipitation, temperature and cloudiness. Each of these notebooks follow the same process:\n",
    "\n",
    "1. Data Description\n",
    "2. Libraries\n",
    "3. Exploratory Data Analysis (EDA)\n",
    "4. Feature Engineering\n",
    "5. Non-ML Forecasting\n",
    "6. ML Forecasting (stretch)\n",
    "\n",
    "Due to compute limitations non-ML methods will the main focus of the forecasting. ML forecasting will be implemented after non-ML forecasting techniques are tested, as the non-ML forecasting can be used as a starting point for the ML predictions. "
   ]
  },
  {
   "cell_type": "markdown",
   "id": "b6c32604-6cfc-4e65-8b33-cc961b3ad409",
   "metadata": {},
   "source": [
    "## Data Description\n",
    "\n",
    "The data for this project is the data retrieved from the National Oceanic and Atmospheric Administration's (NOAA) National Centers for Environmental Information (NCEI). NCEI has a tool, the climate data online (CDO), that allows for retrieving from an archive of global historical weather. In [CDO's geospatial data repository](https://www.ncei.noaa.gov/maps-and-geospatial-products), local climatological data can be ordered. For the scope of this project, Maui will be the focus of our forecasts. Only Kahului airport has a full non-null dataset between the dry bulb temperature, so Kahului airport's data will be used. Records go all the way back to 1996."
   ]
  },
  {
   "cell_type": "markdown",
   "id": "186c3d93-300a-4351-ad0b-d9d90b30cd97",
   "metadata": {},
   "source": [
    "## Libraries\n",
    "\n",
    "Libraries used in this notebook are shown in the imports below. Throughout this project, initial goal was to gain experience in forecasting as well as the polars library, so polars is used instead of pandas.\n",
    "\n",
    "Statsmodels is another library I ended up employing that I have not used prior."
   ]
  },
  {
   "cell_type": "code",
   "execution_count": 1,
   "id": "6b51a091-b546-447f-a61c-2cb499af836e",
   "metadata": {},
   "outputs": [],
   "source": [
    "import numpy as np\n",
    "import polars as pl\n",
    "import itertools\n",
    "from scipy.optimize import curve_fit\n",
    "import matplotlib.pyplot as plt\n",
    "import statsmodels.api as sm\n",
    "from sklearn.metrics import mean_squared_error as mse\n",
    "from sklearn.metrics import mean_absolute_error as mae\n",
    "from statsmodels.graphics.tsaplots import plot_acf\n",
    "from statsmodels.graphics.tsaplots import plot_pacf"
   ]
  },
  {
   "cell_type": "markdown",
   "id": "4c810d4a-efdc-400c-9d53-7904b5a83816",
   "metadata": {},
   "source": [
    "## EDA\n",
    "\n",
    "In the EDA for this project, statistical methods will be used to find correlations within the data and find important relationships between fields, as well data cleaning."
   ]
  },
  {
   "cell_type": "markdown",
   "id": "2c59de5f-e251-4d23-952e-89395f28f5d4",
   "metadata": {},
   "source": [
    "### Loading Data\n",
    "\n",
    "Data is loaded using polars and individual csvs retrieved from CDO are concatenated."
   ]
  },
  {
   "cell_type": "code",
   "execution_count": 2,
   "id": "60eed280-3a82-42c2-bdcd-ff7132a86a66",
   "metadata": {},
   "outputs": [],
   "source": [
    "lf_1996 = pl.scan_csv(\"data/1996to2005.csv\", ignore_errors=True).select(\"DATE\", \"DailyAverageDryBulbTemperature\").drop_nulls()\n",
    "lf_2015 = pl.scan_csv(\"data/2005to2015.csv\", ignore_errors=True).select(\"DATE\", \"DailyAverageDryBulbTemperature\").drop_nulls()\n",
    "lf_2025 = pl.scan_csv(\"data/2015to2025.csv\", ignore_errors=True).select(\"DATE\", \"DailyAverageDryBulbTemperature\").drop_nulls()"
   ]
  },
  {
   "cell_type": "code",
   "execution_count": 3,
   "id": "00474561-6e5c-4924-a825-e30a0ec4e444",
   "metadata": {},
   "outputs": [
    {
     "data": {
      "text/html": [
       "<div><style>\n",
       ".dataframe > thead > tr,\n",
       ".dataframe > tbody > tr {\n",
       "  text-align: right;\n",
       "  white-space: pre-wrap;\n",
       "}\n",
       "</style>\n",
       "<small>shape: (10_332, 2)</small><table border=\"1\" class=\"dataframe\"><thead><tr><th>DATE</th><th>TEMP</th></tr><tr><td>str</td><td>i64</td></tr></thead><tbody><tr><td>&quot;1996-07-01T23:59:00&quot;</td><td>83</td></tr><tr><td>&quot;1996-07-02T23:59:00&quot;</td><td>83</td></tr><tr><td>&quot;1996-07-03T23:59:00&quot;</td><td>82</td></tr><tr><td>&quot;1996-07-04T23:59:00&quot;</td><td>79</td></tr><tr><td>&quot;1996-07-05T23:59:00&quot;</td><td>80</td></tr><tr><td>&hellip;</td><td>&hellip;</td></tr><tr><td>&quot;2025-07-06T23:59:00&quot;</td><td>81</td></tr><tr><td>&quot;2025-07-07T23:59:00&quot;</td><td>80</td></tr><tr><td>&quot;2025-07-08T23:59:00&quot;</td><td>80</td></tr><tr><td>&quot;2025-07-09T23:59:00&quot;</td><td>80</td></tr><tr><td>&quot;2025-07-10T23:59:00&quot;</td><td>79</td></tr></tbody></table></div>"
      ],
      "text/plain": [
       "shape: (10_332, 2)\n",
       "┌─────────────────────┬──────┐\n",
       "│ DATE                ┆ TEMP │\n",
       "│ ---                 ┆ ---  │\n",
       "│ str                 ┆ i64  │\n",
       "╞═════════════════════╪══════╡\n",
       "│ 1996-07-01T23:59:00 ┆ 83   │\n",
       "│ 1996-07-02T23:59:00 ┆ 83   │\n",
       "│ 1996-07-03T23:59:00 ┆ 82   │\n",
       "│ 1996-07-04T23:59:00 ┆ 79   │\n",
       "│ 1996-07-05T23:59:00 ┆ 80   │\n",
       "│ …                   ┆ …    │\n",
       "│ 2025-07-06T23:59:00 ┆ 81   │\n",
       "│ 2025-07-07T23:59:00 ┆ 80   │\n",
       "│ 2025-07-08T23:59:00 ┆ 80   │\n",
       "│ 2025-07-09T23:59:00 ┆ 80   │\n",
       "│ 2025-07-10T23:59:00 ┆ 79   │\n",
       "└─────────────────────┴──────┘"
      ]
     },
     "execution_count": 3,
     "metadata": {},
     "output_type": "execute_result"
    }
   ],
   "source": [
    "lf_1996 = lf_1996.with_columns(\n",
    "    pl.col(\"DailyAverageDryBulbTemperature\").str.replace_all(r\"[^0-9]\", \"\").cast(pl.Int64).alias(\"TEMP\")\n",
    ")\n",
    "\n",
    "lf_1996 = lf_1996.drop(\"DailyAverageDryBulbTemperature\")\n",
    "\n",
    "lf_2015 = lf_2015.rename({\"DailyAverageDryBulbTemperature\": \"TEMP\"})\n",
    "\n",
    "lf_2025 = lf_2025.rename({\"DailyAverageDryBulbTemperature\": \"TEMP\"})\n",
    "\n",
    "lf_full = pl.concat([lf_1996, lf_2015, lf_2025], how=\"vertical\")\n",
    "\n",
    "lf_full.collect()"
   ]
  },
  {
   "cell_type": "markdown",
   "id": "38418fe2-cc63-4f33-856f-666c6b07226a",
   "metadata": {},
   "source": [
    "### Outlier Removal\n",
    "\n",
    "Visual inspection of data is used to find outliers within the data, and outliers are promptly removed due to model sensitivities to outliers."
   ]
  },
  {
   "cell_type": "code",
   "execution_count": 4,
   "id": "d67964aa-bf0a-41ce-b0d3-6bff37ff0794",
   "metadata": {},
   "outputs": [
    {
     "data": {
      "text/html": [
       "<div><style>\n",
       ".dataframe > thead > tr,\n",
       ".dataframe > tbody > tr {\n",
       "  text-align: right;\n",
       "  white-space: pre-wrap;\n",
       "}\n",
       "</style>\n",
       "<small>shape: (9, 3)</small><table border=\"1\" class=\"dataframe\"><thead><tr><th>statistic</th><th>DATE</th><th>TEMP</th></tr><tr><td>str</td><td>str</td><td>f64</td></tr></thead><tbody><tr><td>&quot;count&quot;</td><td>&quot;10332&quot;</td><td>10332.0</td></tr><tr><td>&quot;null_count&quot;</td><td>&quot;0&quot;</td><td>0.0</td></tr><tr><td>&quot;mean&quot;</td><td>null</td><td>76.633082</td></tr><tr><td>&quot;std&quot;</td><td>null</td><td>3.694641</td></tr><tr><td>&quot;min&quot;</td><td>&quot;1996-07-01T23:59:00&quot;</td><td>50.0</td></tr><tr><td>&quot;25%&quot;</td><td>null</td><td>74.0</td></tr><tr><td>&quot;50%&quot;</td><td>null</td><td>77.0</td></tr><tr><td>&quot;75%&quot;</td><td>null</td><td>79.0</td></tr><tr><td>&quot;max&quot;</td><td>&quot;2025-07-10T23:59:00&quot;</td><td>86.0</td></tr></tbody></table></div>"
      ],
      "text/plain": [
       "shape: (9, 3)\n",
       "┌────────────┬─────────────────────┬───────────┐\n",
       "│ statistic  ┆ DATE                ┆ TEMP      │\n",
       "│ ---        ┆ ---                 ┆ ---       │\n",
       "│ str        ┆ str                 ┆ f64       │\n",
       "╞════════════╪═════════════════════╪═══════════╡\n",
       "│ count      ┆ 10332               ┆ 10332.0   │\n",
       "│ null_count ┆ 0                   ┆ 0.0       │\n",
       "│ mean       ┆ null                ┆ 76.633082 │\n",
       "│ std        ┆ null                ┆ 3.694641  │\n",
       "│ min        ┆ 1996-07-01T23:59:00 ┆ 50.0      │\n",
       "│ 25%        ┆ null                ┆ 74.0      │\n",
       "│ 50%        ┆ null                ┆ 77.0      │\n",
       "│ 75%        ┆ null                ┆ 79.0      │\n",
       "│ max        ┆ 2025-07-10T23:59:00 ┆ 86.0      │\n",
       "└────────────┴─────────────────────┴───────────┘"
      ]
     },
     "execution_count": 4,
     "metadata": {},
     "output_type": "execute_result"
    }
   ],
   "source": [
    "lf_full.describe()"
   ]
  },
  {
   "cell_type": "code",
   "execution_count": 5,
   "id": "c4fab699-6dba-4cc5-99f1-1e981f404bec",
   "metadata": {},
   "outputs": [
    {
     "data": {
      "text/html": [
       "<div><style>\n",
       ".dataframe > thead > tr,\n",
       ".dataframe > tbody > tr {\n",
       "  text-align: right;\n",
       "  white-space: pre-wrap;\n",
       "}\n",
       "</style>\n",
       "<small>shape: (7,)</small><table border=\"1\" class=\"dataframe\"><thead><tr><th>DATE</th></tr><tr><td>str</td></tr></thead><tbody><tr><td>&quot;1996-07-01T23:59:00&quot;</td></tr><tr><td>&quot;2000-01-01T23:59:00&quot;</td></tr><tr><td>&quot;2005-01-01T23:59:00&quot;</td></tr><tr><td>&quot;2010-01-01T23:59:00&quot;</td></tr><tr><td>&quot;2015-01-01T23:59:00&quot;</td></tr><tr><td>&quot;2020-01-01T23:59:00&quot;</td></tr><tr><td>&quot;2025-01-01T23:59:00&quot;</td></tr></tbody></table></div>"
      ],
      "text/plain": [
       "shape: (7,)\n",
       "Series: 'DATE' [str]\n",
       "[\n",
       "\t\"1996-07-01T23:59:00\"\n",
       "\t\"2000-01-01T23:59:00\"\n",
       "\t\"2005-01-01T23:59:00\"\n",
       "\t\"2010-01-01T23:59:00\"\n",
       "\t\"2015-01-01T23:59:00\"\n",
       "\t\"2020-01-01T23:59:00\"\n",
       "\t\"2025-01-01T23:59:00\"\n",
       "]"
      ]
     },
     "execution_count": 5,
     "metadata": {},
     "output_type": "execute_result"
    }
   ],
   "source": [
    "intervals = lf_full.select(\"DATE\").filter(pl.col(\"DATE\").str.starts_with(\"1996-07-01\") | pl.col(\"DATE\").str.starts_with(\"2000-01-01\") | pl.col(\"DATE\").str.starts_with(\"2005-01-01\") | pl.col(\"DATE\").str.starts_with(\"2010-01-01\") | pl.col(\"DATE\").str.starts_with(\"2015-01-01\") | pl.col(\"DATE\").str.starts_with(\"2020-01-01\") | pl.col(\"DATE\").str.starts_with(\"2025-01-01\")).collect().to_series()\n",
    "intervals"
   ]
  },
  {
   "cell_type": "code",
   "execution_count": 6,
   "id": "9247dd62-1dc8-4f29-af0a-1fcfa345c6cd",
   "metadata": {},
   "outputs": [
    {
     "data": {
      "image/png": "[encoded data removed]",
      "text/plain": [
       "<Figure size 640x480 with 1 Axes>"
      ]
     },
     "metadata": {},
     "output_type": "display_data"
    }
   ],
   "source": [
    "plt.plot(lf_full.select(\"DATE\").collect().to_series(), lf_full.select(\"TEMP\").collect().to_series())\n",
    "plt.xticks(intervals, rotation=45, ha=\"right\")\n",
    "plt.tight_layout()\n",
    "\n",
    "plt.show()"
   ]
  },
  {
   "cell_type": "code",
   "execution_count": 7,
   "id": "15475dbc-4008-4f1e-ad1f-14b54399d2b1",
   "metadata": {},
   "outputs": [
    {
     "data": {
      "image/png": "[encoded data removed]",
      "text/plain": [
       "<Figure size 640x480 with 1 Axes>"
      ]
     },
     "metadata": {},
     "output_type": "display_data"
    }
   ],
   "source": [
    "lf_full = lf_full.filter(pl.col(\"TEMP\") > 55)\n",
    "plt.plot(lf_full.select(\"DATE\").collect().to_series(), lf_full.select(\"TEMP\").collect().to_series())\n",
    "plt.xticks(intervals, rotation=45, ha=\"right\")\n",
    "plt.tight_layout()\n",
    "\n",
    "plt.show()"
   ]
  },
  {
   "cell_type": "code",
   "execution_count": 8,
   "id": "e2042a2f-e556-46d5-a8bf-a1e56a40d9dc",
   "metadata": {},
   "outputs": [
    {
     "data": {
      "text/html": [
       "<div><style>\n",
       ".dataframe > thead > tr,\n",
       ".dataframe > tbody > tr {\n",
       "  text-align: right;\n",
       "  white-space: pre-wrap;\n",
       "}\n",
       "</style>\n",
       "<small>shape: (9, 3)</small><table border=\"1\" class=\"dataframe\"><thead><tr><th>statistic</th><th>DATE</th><th>TEMP</th></tr><tr><td>str</td><td>str</td><td>f64</td></tr></thead><tbody><tr><td>&quot;count&quot;</td><td>&quot;10330&quot;</td><td>10330.0</td></tr><tr><td>&quot;null_count&quot;</td><td>&quot;0&quot;</td><td>0.0</td></tr><tr><td>&quot;mean&quot;</td><td>null</td><td>76.638141</td></tr><tr><td>&quot;std&quot;</td><td>null</td><td>3.677051</td></tr><tr><td>&quot;min&quot;</td><td>&quot;1996-07-01T23:59:00&quot;</td><td>64.0</td></tr><tr><td>&quot;25%&quot;</td><td>null</td><td>74.0</td></tr><tr><td>&quot;50%&quot;</td><td>null</td><td>77.0</td></tr><tr><td>&quot;75%&quot;</td><td>null</td><td>79.0</td></tr><tr><td>&quot;max&quot;</td><td>&quot;2025-07-10T23:59:00&quot;</td><td>86.0</td></tr></tbody></table></div>"
      ],
      "text/plain": [
       "shape: (9, 3)\n",
       "┌────────────┬─────────────────────┬───────────┐\n",
       "│ statistic  ┆ DATE                ┆ TEMP      │\n",
       "│ ---        ┆ ---                 ┆ ---       │\n",
       "│ str        ┆ str                 ┆ f64       │\n",
       "╞════════════╪═════════════════════╪═══════════╡\n",
       "│ count      ┆ 10330               ┆ 10330.0   │\n",
       "│ null_count ┆ 0                   ┆ 0.0       │\n",
       "│ mean       ┆ null                ┆ 76.638141 │\n",
       "│ std        ┆ null                ┆ 3.677051  │\n",
       "│ min        ┆ 1996-07-01T23:59:00 ┆ 64.0      │\n",
       "│ 25%        ┆ null                ┆ 74.0      │\n",
       "│ 50%        ┆ null                ┆ 77.0      │\n",
       "│ 75%        ┆ null                ┆ 79.0      │\n",
       "│ max        ┆ 2025-07-10T23:59:00 ┆ 86.0      │\n",
       "└────────────┴─────────────────────┴───────────┘"
      ]
     },
     "execution_count": 8,
     "metadata": {},
     "output_type": "execute_result"
    }
   ],
   "source": [
    "lf_full.describe()"
   ]
  },
  {
   "cell_type": "markdown",
   "id": "30242950-f22b-4fa9-b004-78d2843c6d92",
   "metadata": {},
   "source": [
    "### Autocorrelation\n",
    "\n",
    "The correlation of lags should be inspected for forecasting. Since there is seasonality in this data, both autocorrelation will be shown as well as partial autocorrelation to find both seasonality strength and optimal lags."
   ]
  },
  {
   "cell_type": "code",
   "execution_count": 9,
   "id": "76b4ab3b-867a-4b08-81d2-5c468d32135e",
   "metadata": {},
   "outputs": [
    {
     "data": {
      "image/png": "[encoded data removed]",
      "text/plain": [
       "<Figure size 640x480 with 1 Axes>"
      ]
     },
     "metadata": {},
     "output_type": "display_data"
    }
   ],
   "source": [
    "plot_acf(lf_full.select(\"TEMP\").collect().to_series(), lags=len(lf_full.select(\"TEMP\").collect().to_series()) // 2)\n",
    "plt.show()"
   ]
  },
  {
   "cell_type": "markdown",
   "id": "b8652a83-c87e-4fa5-a89b-db9caf36e156",
   "metadata": {},
   "source": [
    "Seasonality is confirmed in the autocorrelation plot. It's also shown that there is some trend to the data, since correlation decreases after each period."
   ]
  },
  {
   "cell_type": "code",
   "execution_count": 10,
   "id": "363dcb90-211d-488a-9ebc-5364a87c43c9",
   "metadata": {},
   "outputs": [
    {
     "data": {
      "image/png": "[encoded data removed]",
      "text/plain": [
       "<Figure size 640x480 with 1 Axes>"
      ]
     },
     "metadata": {},
     "output_type": "display_data"
    }
   ],
   "source": [
    "plot_pacf(lf_full.select(\"TEMP\").collect().to_series(), lags=30)\n",
    "plt.show()"
   ]
  },
  {
   "cell_type": "markdown",
   "id": "1abd1522-9b4a-4d37-9fc8-1ae28dcfc7f8",
   "metadata": {},
   "source": [
    "Optimal lags up to 9 (0-9) will be tested in ARIMA model later, since autocorrelation is relatively low after that point."
   ]
  },
  {
   "cell_type": "markdown",
   "id": "bee94b33-6f19-4602-9923-93dc71e9fcf2",
   "metadata": {},
   "source": [
    "## Feature Engineering\n",
    "\n",
    "Easily ingestible fields can be engineered from the two current fields (DATE and TEMP)"
   ]
  },
  {
   "cell_type": "markdown",
   "id": "ea0703cf-1c88-4175-a7b4-80a2b44215de",
   "metadata": {},
   "source": [
    "### Date Fields\n",
    "\n",
    "Time based fields can be extracted from the timestamps in the \"DATE\" column."
   ]
  },
  {
   "cell_type": "code",
   "execution_count": 11,
   "id": "d6c1c3ce-a93e-436e-8448-a7abe9c74d57",
   "metadata": {},
   "outputs": [
    {
     "data": {
      "text/html": [
       "<div><style>\n",
       ".dataframe > thead > tr,\n",
       ".dataframe > tbody > tr {\n",
       "  text-align: right;\n",
       "  white-space: pre-wrap;\n",
       "}\n",
       "</style>\n",
       "<small>shape: (10_330, 8)</small><table border=\"1\" class=\"dataframe\"><thead><tr><th>DATE</th><th>TEMP</th><th>YEAR</th><th>MONTH</th><th>DAY</th><th>HOUR</th><th>MINUTE</th><th>SECOND</th></tr><tr><td>str</td><td>i64</td><td>i32</td><td>i8</td><td>i8</td><td>i8</td><td>i8</td><td>i8</td></tr></thead><tbody><tr><td>&quot;1996-07-01T23:59:00&quot;</td><td>83</td><td>1996</td><td>7</td><td>1</td><td>23</td><td>59</td><td>0</td></tr><tr><td>&quot;1996-07-02T23:59:00&quot;</td><td>83</td><td>1996</td><td>7</td><td>2</td><td>23</td><td>59</td><td>0</td></tr><tr><td>&quot;1996-07-03T23:59:00&quot;</td><td>82</td><td>1996</td><td>7</td><td>3</td><td>23</td><td>59</td><td>0</td></tr><tr><td>&quot;1996-07-04T23:59:00&quot;</td><td>79</td><td>1996</td><td>7</td><td>4</td><td>23</td><td>59</td><td>0</td></tr><tr><td>&quot;1996-07-05T23:59:00&quot;</td><td>80</td><td>1996</td><td>7</td><td>5</td><td>23</td><td>59</td><td>0</td></tr><tr><td>&hellip;</td><td>&hellip;</td><td>&hellip;</td><td>&hellip;</td><td>&hellip;</td><td>&hellip;</td><td>&hellip;</td><td>&hellip;</td></tr><tr><td>&quot;2025-07-06T23:59:00&quot;</td><td>81</td><td>2025</td><td>7</td><td>6</td><td>23</td><td>59</td><td>0</td></tr><tr><td>&quot;2025-07-07T23:59:00&quot;</td><td>80</td><td>2025</td><td>7</td><td>7</td><td>23</td><td>59</td><td>0</td></tr><tr><td>&quot;2025-07-08T23:59:00&quot;</td><td>80</td><td>2025</td><td>7</td><td>8</td><td>23</td><td>59</td><td>0</td></tr><tr><td>&quot;2025-07-09T23:59:00&quot;</td><td>80</td><td>2025</td><td>7</td><td>9</td><td>23</td><td>59</td><td>0</td></tr><tr><td>&quot;2025-07-10T23:59:00&quot;</td><td>79</td><td>2025</td><td>7</td><td>10</td><td>23</td><td>59</td><td>0</td></tr></tbody></table></div>"
      ],
      "text/plain": [
       "shape: (10_330, 8)\n",
       "┌─────────────────────┬──────┬──────┬───────┬─────┬──────┬────────┬────────┐\n",
       "│ DATE                ┆ TEMP ┆ YEAR ┆ MONTH ┆ DAY ┆ HOUR ┆ MINUTE ┆ SECOND │\n",
       "│ ---                 ┆ ---  ┆ ---  ┆ ---   ┆ --- ┆ ---  ┆ ---    ┆ ---    │\n",
       "│ str                 ┆ i64  ┆ i32  ┆ i8    ┆ i8  ┆ i8   ┆ i8     ┆ i8     │\n",
       "╞═════════════════════╪══════╪══════╪═══════╪═════╪══════╪════════╪════════╡\n",
       "│ 1996-07-01T23:59:00 ┆ 83   ┆ 1996 ┆ 7     ┆ 1   ┆ 23   ┆ 59     ┆ 0      │\n",
       "│ 1996-07-02T23:59:00 ┆ 83   ┆ 1996 ┆ 7     ┆ 2   ┆ 23   ┆ 59     ┆ 0      │\n",
       "│ 1996-07-03T23:59:00 ┆ 82   ┆ 1996 ┆ 7     ┆ 3   ┆ 23   ┆ 59     ┆ 0      │\n",
       "│ 1996-07-04T23:59:00 ┆ 79   ┆ 1996 ┆ 7     ┆ 4   ┆ 23   ┆ 59     ┆ 0      │\n",
       "│ 1996-07-05T23:59:00 ┆ 80   ┆ 1996 ┆ 7     ┆ 5   ┆ 23   ┆ 59     ┆ 0      │\n",
       "│ …                   ┆ …    ┆ …    ┆ …     ┆ …   ┆ …    ┆ …      ┆ …      │\n",
       "│ 2025-07-06T23:59:00 ┆ 81   ┆ 2025 ┆ 7     ┆ 6   ┆ 23   ┆ 59     ┆ 0      │\n",
       "│ 2025-07-07T23:59:00 ┆ 80   ┆ 2025 ┆ 7     ┆ 7   ┆ 23   ┆ 59     ┆ 0      │\n",
       "│ 2025-07-08T23:59:00 ┆ 80   ┆ 2025 ┆ 7     ┆ 8   ┆ 23   ┆ 59     ┆ 0      │\n",
       "│ 2025-07-09T23:59:00 ┆ 80   ┆ 2025 ┆ 7     ┆ 9   ┆ 23   ┆ 59     ┆ 0      │\n",
       "│ 2025-07-10T23:59:00 ┆ 79   ┆ 2025 ┆ 7     ┆ 10  ┆ 23   ┆ 59     ┆ 0      │\n",
       "└─────────────────────┴──────┴──────┴───────┴─────┴──────┴────────┴────────┘"
      ]
     },
     "execution_count": 11,
     "metadata": {},
     "output_type": "execute_result"
    }
   ],
   "source": [
    "date_str = lf_full.select(\"DATE\").collect().to_series().str.to_datetime(\"%Y-%m-%dT%H:%M:%S\").dt\n",
    "\n",
    "lf_full = lf_full.with_columns(\n",
    "    date_str.year().alias(\"YEAR\"),\n",
    "    date_str.month().alias(\"MONTH\"),\n",
    "    date_str.day().alias(\"DAY\"),\n",
    "    date_str.hour().alias(\"HOUR\"),\n",
    "    date_str.minute().alias(\"MINUTE\"),\n",
    "    date_str.second().alias(\"SECOND\")\n",
    "    \n",
    ")\n",
    "\n",
    "lf_full.collect()"
   ]
  },
  {
   "cell_type": "code",
   "execution_count": 12,
   "id": "cd43c4e4-ef7b-4925-89a6-9e6ceb51e738",
   "metadata": {},
   "outputs": [
    {
     "data": {
      "text/html": [
       "<div><style>\n",
       ".dataframe > thead > tr,\n",
       ".dataframe > tbody > tr {\n",
       "  text-align: right;\n",
       "  white-space: pre-wrap;\n",
       "}\n",
       "</style>\n",
       "<small>shape: (10_330, 9)</small><table border=\"1\" class=\"dataframe\"><thead><tr><th>index</th><th>DATE</th><th>YEAR</th><th>MONTH</th><th>DAY</th><th>HOUR</th><th>MINUTE</th><th>SECOND</th><th>TEMP</th></tr><tr><td>u32</td><td>str</td><td>i32</td><td>i8</td><td>i8</td><td>i8</td><td>i8</td><td>i8</td><td>i64</td></tr></thead><tbody><tr><td>0</td><td>&quot;1996-07-01T23:59:00&quot;</td><td>1996</td><td>7</td><td>1</td><td>23</td><td>59</td><td>0</td><td>83</td></tr><tr><td>1</td><td>&quot;1996-07-02T23:59:00&quot;</td><td>1996</td><td>7</td><td>2</td><td>23</td><td>59</td><td>0</td><td>83</td></tr><tr><td>2</td><td>&quot;1996-07-03T23:59:00&quot;</td><td>1996</td><td>7</td><td>3</td><td>23</td><td>59</td><td>0</td><td>82</td></tr><tr><td>3</td><td>&quot;1996-07-04T23:59:00&quot;</td><td>1996</td><td>7</td><td>4</td><td>23</td><td>59</td><td>0</td><td>79</td></tr><tr><td>4</td><td>&quot;1996-07-05T23:59:00&quot;</td><td>1996</td><td>7</td><td>5</td><td>23</td><td>59</td><td>0</td><td>80</td></tr><tr><td>&hellip;</td><td>&hellip;</td><td>&hellip;</td><td>&hellip;</td><td>&hellip;</td><td>&hellip;</td><td>&hellip;</td><td>&hellip;</td><td>&hellip;</td></tr><tr><td>10325</td><td>&quot;2025-07-06T23:59:00&quot;</td><td>2025</td><td>7</td><td>6</td><td>23</td><td>59</td><td>0</td><td>81</td></tr><tr><td>10326</td><td>&quot;2025-07-07T23:59:00&quot;</td><td>2025</td><td>7</td><td>7</td><td>23</td><td>59</td><td>0</td><td>80</td></tr><tr><td>10327</td><td>&quot;2025-07-08T23:59:00&quot;</td><td>2025</td><td>7</td><td>8</td><td>23</td><td>59</td><td>0</td><td>80</td></tr><tr><td>10328</td><td>&quot;2025-07-09T23:59:00&quot;</td><td>2025</td><td>7</td><td>9</td><td>23</td><td>59</td><td>0</td><td>80</td></tr><tr><td>10329</td><td>&quot;2025-07-10T23:59:00&quot;</td><td>2025</td><td>7</td><td>10</td><td>23</td><td>59</td><td>0</td><td>79</td></tr></tbody></table></div>"
      ],
      "text/plain": [
       "shape: (10_330, 9)\n",
       "┌───────┬─────────────────────┬──────┬───────┬───┬──────┬────────┬────────┬──────┐\n",
       "│ index ┆ DATE                ┆ YEAR ┆ MONTH ┆ … ┆ HOUR ┆ MINUTE ┆ SECOND ┆ TEMP │\n",
       "│ ---   ┆ ---                 ┆ ---  ┆ ---   ┆   ┆ ---  ┆ ---    ┆ ---    ┆ ---  │\n",
       "│ u32   ┆ str                 ┆ i32  ┆ i8    ┆   ┆ i8   ┆ i8     ┆ i8     ┆ i64  │\n",
       "╞═══════╪═════════════════════╪══════╪═══════╪═══╪══════╪════════╪════════╪══════╡\n",
       "│ 0     ┆ 1996-07-01T23:59:00 ┆ 1996 ┆ 7     ┆ … ┆ 23   ┆ 59     ┆ 0      ┆ 83   │\n",
       "│ 1     ┆ 1996-07-02T23:59:00 ┆ 1996 ┆ 7     ┆ … ┆ 23   ┆ 59     ┆ 0      ┆ 83   │\n",
       "│ 2     ┆ 1996-07-03T23:59:00 ┆ 1996 ┆ 7     ┆ … ┆ 23   ┆ 59     ┆ 0      ┆ 82   │\n",
       "│ 3     ┆ 1996-07-04T23:59:00 ┆ 1996 ┆ 7     ┆ … ┆ 23   ┆ 59     ┆ 0      ┆ 79   │\n",
       "│ 4     ┆ 1996-07-05T23:59:00 ┆ 1996 ┆ 7     ┆ … ┆ 23   ┆ 59     ┆ 0      ┆ 80   │\n",
       "│ …     ┆ …                   ┆ …    ┆ …     ┆ … ┆ …    ┆ …      ┆ …      ┆ …    │\n",
       "│ 10325 ┆ 2025-07-06T23:59:00 ┆ 2025 ┆ 7     ┆ … ┆ 23   ┆ 59     ┆ 0      ┆ 81   │\n",
       "│ 10326 ┆ 2025-07-07T23:59:00 ┆ 2025 ┆ 7     ┆ … ┆ 23   ┆ 59     ┆ 0      ┆ 80   │\n",
       "│ 10327 ┆ 2025-07-08T23:59:00 ┆ 2025 ┆ 7     ┆ … ┆ 23   ┆ 59     ┆ 0      ┆ 80   │\n",
       "│ 10328 ┆ 2025-07-09T23:59:00 ┆ 2025 ┆ 7     ┆ … ┆ 23   ┆ 59     ┆ 0      ┆ 80   │\n",
       "│ 10329 ┆ 2025-07-10T23:59:00 ┆ 2025 ┆ 7     ┆ … ┆ 23   ┆ 59     ┆ 0      ┆ 79   │\n",
       "└───────┴─────────────────────┴──────┴───────┴───┴──────┴────────┴────────┴──────┘"
      ]
     },
     "execution_count": 12,
     "metadata": {},
     "output_type": "execute_result"
    }
   ],
   "source": [
    "lf_full = lf_full.select([\"DATE\", \"YEAR\", \"MONTH\", \"DAY\", \"HOUR\", \"MINUTE\", \"SECOND\", \"TEMP\"])\n",
    "lf_full = lf_full.with_row_index()\n",
    "lf_full.collect()"
   ]
  },
  {
   "cell_type": "code",
   "execution_count": 13,
   "id": "a305aa50-3b91-451b-abbc-f02097e0534e",
   "metadata": {},
   "outputs": [
    {
     "name": "stdout",
     "output_type": "stream",
     "text": [
      "index: 0.14148376892383874\n",
      "YEAR: 0.12538976446137035\n",
      "MONTH: 0.42324397795515983\n",
      "DAY: 0.015917693115134406\n",
      "HOUR: nan\n",
      "MINUTE: nan\n",
      "SECOND: nan\n",
      "TEMP: 1.0\n"
     ]
    }
   ],
   "source": [
    "corr_schema = lf_full.drop(\"DATE\").collect_schema()\n",
    "\n",
    "for column in corr_schema.names():\n",
    "\n",
    "    corr = lf_full.drop(\"DATE\").select(pl.corr(column, \"TEMP\")).collect().item()\n",
    "    print(f\"{column}: {corr}\") "
   ]
  },
  {
   "cell_type": "markdown",
   "id": "1c16036e-fd1d-43d5-9e00-3ef5c3298bc9",
   "metadata": {},
   "source": [
    "Correlations for the date fields are shown - month having a higher correlation makes sense since temperature will change as the year goes on, but year by year they'll only change slightly. Hour, Minute, and Second are all nan since each record is at 23:59 each day."
   ]
  },
  {
   "cell_type": "markdown",
   "id": "902709e0-b3f2-4331-9a95-3cdf953876a8",
   "metadata": {},
   "source": [
    "### Seasons\n",
    "\n",
    "As shown above, the month field has a relatively high correlation. This could also mean that seasons have a high correlation."
   ]
  },
  {
   "cell_type": "code",
   "execution_count": 14,
   "id": "7a734b28-c3f3-4481-abd9-622d7aa6ed04",
   "metadata": {},
   "outputs": [],
   "source": [
    "lf_full = lf_full.with_columns(\n",
    "    pl.when((pl.col(\"MONTH\") >= 3) & (pl.col(\"MONTH\") <= 5)).then(3)\n",
    "    .when((pl.col(\"MONTH\") >= 6) & (pl.col(\"MONTH\") <= 8)).then(2)\n",
    "    .when((pl.col(\"MONTH\") >= 9) & (pl.col(\"MONTH\") <= 11)).then(1)\n",
    "    .otherwise(0).alias(\"SEASON\")\n",
    ")\n",
    "lf_full = lf_full.select([\"index\", \"DATE\", \"YEAR\", \"SEASON\", \"MONTH\", \"DAY\", \"HOUR\", \"MINUTE\", \"SECOND\", \"TEMP\"])"
   ]
  },
  {
   "cell_type": "code",
   "execution_count": 15,
   "id": "04c8fc55-23d3-450f-a67a-2456118b8c6d",
   "metadata": {},
   "outputs": [
    {
     "name": "stdout",
     "output_type": "stream",
     "text": [
      "index: 0.14148376892383874\n",
      "YEAR: 0.12538976446137035\n",
      "SEASON: 0.21422565514481115\n",
      "MONTH: 0.42324397795515983\n",
      "DAY: 0.015917693115134406\n",
      "HOUR: nan\n",
      "MINUTE: nan\n",
      "SECOND: nan\n",
      "TEMP: 1.0\n"
     ]
    }
   ],
   "source": [
    "corr_schema = lf_full.drop(\"DATE\").collect_schema()\n",
    "\n",
    "for column in corr_schema.names():\n",
    "\n",
    "    corr = lf_full.drop(\"DATE\").select(pl.corr(column, \"TEMP\")).collect().item()\n",
    "    print(f\"{column}: {corr}\") "
   ]
  },
  {
   "cell_type": "markdown",
   "id": "5abcfc96-ab5a-4007-aed0-97d64b6ba1c1",
   "metadata": {},
   "source": [
    "Relatively high correlation with normal seasons; however, since data is in Hawaii more granular field may be more useful. Specific solstice and equinox dates and times each year can be used to make it more granular."
   ]
  },
  {
   "cell_type": "code",
   "execution_count": 16,
   "id": "9c1a6a87-fa88-4eb6-ac5b-7e01993ffa41",
   "metadata": {},
   "outputs": [
    {
     "data": {
      "text/html": [
       "<div><style>\n",
       ".dataframe > thead > tr,\n",
       ".dataframe > tbody > tr {\n",
       "  text-align: right;\n",
       "  white-space: pre-wrap;\n",
       "}\n",
       "</style>\n",
       "<small>shape: (35, 5)</small><table border=\"1\" class=\"dataframe\"><thead><tr><th>YEAR</th><th>SPRING_DT</th><th>SUMMER_DT</th><th>AUTUMN_DT</th><th>WINTER_DT</th></tr><tr><td>i64</td><td>str</td><td>str</td><td>str</td><td>str</td></tr></thead><tbody><tr><td>1996</td><td>&quot;1996-03-19T22:34:00&quot;</td><td>&quot;1996-06-20T16:23:00&quot;</td><td>&quot;1996-09-22T08:00:00&quot;</td><td>&quot;1996-12-21T04:06:00&quot;</td></tr><tr><td>1997</td><td>&quot;1997-03-20T03:54:00&quot;</td><td>&quot;1997-06-20T03:54:00&quot;</td><td>&quot;1997-09-22T13:55:00&quot;</td><td>&quot;1997-12-21T10:07:00&quot;</td></tr><tr><td>1998</td><td>&quot;1998-03-20T09:54:00&quot;</td><td>&quot;1998-06-21T04:02:00&quot;</td><td>&quot;1998-09-22T19:37:00&quot;</td><td>&quot;1998-12-21T15:56:00&quot;</td></tr><tr><td>1999</td><td>&quot;1999-03-20T15:46:00&quot;</td><td>&quot;1999-06-21T09:49:00&quot;</td><td>&quot;1999-09-23T01:31:00&quot;</td><td>&quot;1999-12-21T21:44:00&quot;</td></tr><tr><td>2000</td><td>&quot;2000-03-19T21:35:00&quot;</td><td>&quot;2000-06-20T15:47:00&quot;</td><td>&quot;2000-09-22T07:27:00&quot;</td><td>&quot;2000-12-21T03:37:00&quot;</td></tr><tr><td>&hellip;</td><td>&hellip;</td><td>&hellip;</td><td>&hellip;</td><td>&hellip;</td></tr><tr><td>2026</td><td>&quot;2026-03-20T04:45:00&quot;</td><td>&quot;2026-06-20T22:25:00&quot;</td><td>&quot;2026-09-22T14:05:00&quot;</td><td>&quot;2026-12-21T10:50:00&quot;</td></tr><tr><td>2027</td><td>&quot;2027-03-20T10:24:00&quot;</td><td>&quot;2027-06-21T04:10:00&quot;</td><td>&quot;2027-09-22T20:01:00&quot;</td><td>&quot;2027-12-21T16:42:00&quot;</td></tr><tr><td>2028</td><td>&quot;2028-03-19T16:17:00&quot;</td><td>&quot;2028-06-20T10:01:00&quot;</td><td>&quot;2028-09-22T01:45:00&quot;</td><td>&quot;2028-12-20T22:20:00&quot;</td></tr><tr><td>2029</td><td>&quot;2029-03-19T22:01:00&quot;</td><td>&quot;2029-06-20T15:48:00&quot;</td><td>&quot;2029-09-22T07:37:00&quot;</td><td>&quot;2029-12-21T04:14:00&quot;</td></tr><tr><td>2030</td><td>&quot;2030-03-20T03:51:00&quot;</td><td>&quot;2030-06-20T21:31:00&quot;</td><td>&quot;2030-09-22T13:27:00&quot;</td><td>&quot;2030-12-21T10:09:00&quot;</td></tr></tbody></table></div>"
      ],
      "text/plain": [
       "shape: (35, 5)\n",
       "┌──────┬─────────────────────┬─────────────────────┬─────────────────────┬─────────────────────┐\n",
       "│ YEAR ┆ SPRING_DT           ┆ SUMMER_DT           ┆ AUTUMN_DT           ┆ WINTER_DT           │\n",
       "│ ---  ┆ ---                 ┆ ---                 ┆ ---                 ┆ ---                 │\n",
       "│ i64  ┆ str                 ┆ str                 ┆ str                 ┆ str                 │\n",
       "╞══════╪═════════════════════╪═════════════════════╪═════════════════════╪═════════════════════╡\n",
       "│ 1996 ┆ 1996-03-19T22:34:00 ┆ 1996-06-20T16:23:00 ┆ 1996-09-22T08:00:00 ┆ 1996-12-21T04:06:00 │\n",
       "│ 1997 ┆ 1997-03-20T03:54:00 ┆ 1997-06-20T03:54:00 ┆ 1997-09-22T13:55:00 ┆ 1997-12-21T10:07:00 │\n",
       "│ 1998 ┆ 1998-03-20T09:54:00 ┆ 1998-06-21T04:02:00 ┆ 1998-09-22T19:37:00 ┆ 1998-12-21T15:56:00 │\n",
       "│ 1999 ┆ 1999-03-20T15:46:00 ┆ 1999-06-21T09:49:00 ┆ 1999-09-23T01:31:00 ┆ 1999-12-21T21:44:00 │\n",
       "│ 2000 ┆ 2000-03-19T21:35:00 ┆ 2000-06-20T15:47:00 ┆ 2000-09-22T07:27:00 ┆ 2000-12-21T03:37:00 │\n",
       "│ …    ┆ …                   ┆ …                   ┆ …                   ┆ …                   │\n",
       "│ 2026 ┆ 2026-03-20T04:45:00 ┆ 2026-06-20T22:25:00 ┆ 2026-09-22T14:05:00 ┆ 2026-12-21T10:50:00 │\n",
       "│ 2027 ┆ 2027-03-20T10:24:00 ┆ 2027-06-21T04:10:00 ┆ 2027-09-22T20:01:00 ┆ 2027-12-21T16:42:00 │\n",
       "│ 2028 ┆ 2028-03-19T16:17:00 ┆ 2028-06-20T10:01:00 ┆ 2028-09-22T01:45:00 ┆ 2028-12-20T22:20:00 │\n",
       "│ 2029 ┆ 2029-03-19T22:01:00 ┆ 2029-06-20T15:48:00 ┆ 2029-09-22T07:37:00 ┆ 2029-12-21T04:14:00 │\n",
       "│ 2030 ┆ 2030-03-20T03:51:00 ┆ 2030-06-20T21:31:00 ┆ 2030-09-22T13:27:00 ┆ 2030-12-21T10:09:00 │\n",
       "└──────┴─────────────────────┴─────────────────────┴─────────────────────┴─────────────────────┘"
      ]
     },
     "execution_count": 16,
     "metadata": {},
     "output_type": "execute_result"
    }
   ],
   "source": [
    "soleq_lf = pl.scan_csv(\"data/solsticeequinox_hst.csv\")\n",
    "soleq_lf.collect()"
   ]
  },
  {
   "cell_type": "code",
   "execution_count": 17,
   "id": "035b8934-9478-434c-ab6d-131b6f72099a",
   "metadata": {},
   "outputs": [
    {
     "data": {
      "text/html": [
       "<div><style>\n",
       ".dataframe > thead > tr,\n",
       ".dataframe > tbody > tr {\n",
       "  text-align: right;\n",
       "  white-space: pre-wrap;\n",
       "}\n",
       "</style>\n",
       "<small>shape: (10_330, 14)</small><table border=\"1\" class=\"dataframe\"><thead><tr><th>index</th><th>DATE</th><th>YEAR</th><th>SEASON</th><th>MONTH</th><th>DAY</th><th>HOUR</th><th>MINUTE</th><th>SECOND</th><th>TEMP</th><th>SPRING_DT</th><th>SUMMER_DT</th><th>AUTUMN_DT</th><th>WINTER_DT</th></tr><tr><td>u32</td><td>str</td><td>i32</td><td>i32</td><td>i8</td><td>i8</td><td>i8</td><td>i8</td><td>i8</td><td>i64</td><td>str</td><td>str</td><td>str</td><td>str</td></tr></thead><tbody><tr><td>0</td><td>&quot;1996-07-01T23:59:00&quot;</td><td>1996</td><td>2</td><td>7</td><td>1</td><td>23</td><td>59</td><td>0</td><td>83</td><td>&quot;1996-03-19T22:34:00&quot;</td><td>&quot;1996-06-20T16:23:00&quot;</td><td>&quot;1996-09-22T08:00:00&quot;</td><td>&quot;1996-12-21T04:06:00&quot;</td></tr><tr><td>1</td><td>&quot;1996-07-02T23:59:00&quot;</td><td>1996</td><td>2</td><td>7</td><td>2</td><td>23</td><td>59</td><td>0</td><td>83</td><td>&quot;1996-03-19T22:34:00&quot;</td><td>&quot;1996-06-20T16:23:00&quot;</td><td>&quot;1996-09-22T08:00:00&quot;</td><td>&quot;1996-12-21T04:06:00&quot;</td></tr><tr><td>2</td><td>&quot;1996-07-03T23:59:00&quot;</td><td>1996</td><td>2</td><td>7</td><td>3</td><td>23</td><td>59</td><td>0</td><td>82</td><td>&quot;1996-03-19T22:34:00&quot;</td><td>&quot;1996-06-20T16:23:00&quot;</td><td>&quot;1996-09-22T08:00:00&quot;</td><td>&quot;1996-12-21T04:06:00&quot;</td></tr><tr><td>3</td><td>&quot;1996-07-04T23:59:00&quot;</td><td>1996</td><td>2</td><td>7</td><td>4</td><td>23</td><td>59</td><td>0</td><td>79</td><td>&quot;1996-03-19T22:34:00&quot;</td><td>&quot;1996-06-20T16:23:00&quot;</td><td>&quot;1996-09-22T08:00:00&quot;</td><td>&quot;1996-12-21T04:06:00&quot;</td></tr><tr><td>4</td><td>&quot;1996-07-05T23:59:00&quot;</td><td>1996</td><td>2</td><td>7</td><td>5</td><td>23</td><td>59</td><td>0</td><td>80</td><td>&quot;1996-03-19T22:34:00&quot;</td><td>&quot;1996-06-20T16:23:00&quot;</td><td>&quot;1996-09-22T08:00:00&quot;</td><td>&quot;1996-12-21T04:06:00&quot;</td></tr><tr><td>&hellip;</td><td>&hellip;</td><td>&hellip;</td><td>&hellip;</td><td>&hellip;</td><td>&hellip;</td><td>&hellip;</td><td>&hellip;</td><td>&hellip;</td><td>&hellip;</td><td>&hellip;</td><td>&hellip;</td><td>&hellip;</td><td>&hellip;</td></tr><tr><td>10325</td><td>&quot;2025-07-06T23:59:00&quot;</td><td>2025</td><td>2</td><td>7</td><td>6</td><td>23</td><td>59</td><td>0</td><td>81</td><td>&quot;2025-03-19T23:01:00&quot;</td><td>&quot;2025-06-20T16:42:00&quot;</td><td>&quot;2025-09-22T08:19:00&quot;</td><td>&quot;2025-12-21T05:03:00&quot;</td></tr><tr><td>10326</td><td>&quot;2025-07-07T23:59:00&quot;</td><td>2025</td><td>2</td><td>7</td><td>7</td><td>23</td><td>59</td><td>0</td><td>80</td><td>&quot;2025-03-19T23:01:00&quot;</td><td>&quot;2025-06-20T16:42:00&quot;</td><td>&quot;2025-09-22T08:19:00&quot;</td><td>&quot;2025-12-21T05:03:00&quot;</td></tr><tr><td>10327</td><td>&quot;2025-07-08T23:59:00&quot;</td><td>2025</td><td>2</td><td>7</td><td>8</td><td>23</td><td>59</td><td>0</td><td>80</td><td>&quot;2025-03-19T23:01:00&quot;</td><td>&quot;2025-06-20T16:42:00&quot;</td><td>&quot;2025-09-22T08:19:00&quot;</td><td>&quot;2025-12-21T05:03:00&quot;</td></tr><tr><td>10328</td><td>&quot;2025-07-09T23:59:00&quot;</td><td>2025</td><td>2</td><td>7</td><td>9</td><td>23</td><td>59</td><td>0</td><td>80</td><td>&quot;2025-03-19T23:01:00&quot;</td><td>&quot;2025-06-20T16:42:00&quot;</td><td>&quot;2025-09-22T08:19:00&quot;</td><td>&quot;2025-12-21T05:03:00&quot;</td></tr><tr><td>10329</td><td>&quot;2025-07-10T23:59:00&quot;</td><td>2025</td><td>2</td><td>7</td><td>10</td><td>23</td><td>59</td><td>0</td><td>79</td><td>&quot;2025-03-19T23:01:00&quot;</td><td>&quot;2025-06-20T16:42:00&quot;</td><td>&quot;2025-09-22T08:19:00&quot;</td><td>&quot;2025-12-21T05:03:00&quot;</td></tr></tbody></table></div>"
      ],
      "text/plain": [
       "shape: (10_330, 14)\n",
       "┌───────┬──────────────────┬──────┬────────┬───┬─────────────────┬─────────────────┬─────────────────┬─────────────────┐\n",
       "│ index ┆ DATE             ┆ YEAR ┆ SEASON ┆ … ┆ SPRING_DT       ┆ SUMMER_DT       ┆ AUTUMN_DT       ┆ WINTER_DT       │\n",
       "│ ---   ┆ ---              ┆ ---  ┆ ---    ┆   ┆ ---             ┆ ---             ┆ ---             ┆ ---             │\n",
       "│ u32   ┆ str              ┆ i32  ┆ i32    ┆   ┆ str             ┆ str             ┆ str             ┆ str             │\n",
       "╞═══════╪══════════════════╪══════╪════════╪═══╪═════════════════╪═════════════════╪═════════════════╪═════════════════╡\n",
       "│ 0     ┆ 1996-07-01T23:59 ┆ 1996 ┆ 2      ┆ … ┆ 1996-03-19T22:3 ┆ 1996-06-20T16:2 ┆ 1996-09-22T08:0 ┆ 1996-12-21T04:0 │\n",
       "│       ┆ :00              ┆      ┆        ┆   ┆ 4:00            ┆ 3:00            ┆ 0:00            ┆ 6:00            │\n",
       "│ 1     ┆ 1996-07-02T23:59 ┆ 1996 ┆ 2      ┆ … ┆ 1996-03-19T22:3 ┆ 1996-06-20T16:2 ┆ 1996-09-22T08:0 ┆ 1996-12-21T04:0 │\n",
       "│       ┆ :00              ┆      ┆        ┆   ┆ 4:00            ┆ 3:00            ┆ 0:00            ┆ 6:00            │\n",
       "│ 2     ┆ 1996-07-03T23:59 ┆ 1996 ┆ 2      ┆ … ┆ 1996-03-19T22:3 ┆ 1996-06-20T16:2 ┆ 1996-09-22T08:0 ┆ 1996-12-21T04:0 │\n",
       "│       ┆ :00              ┆      ┆        ┆   ┆ 4:00            ┆ 3:00            ┆ 0:00            ┆ 6:00            │\n",
       "│ 3     ┆ 1996-07-04T23:59 ┆ 1996 ┆ 2      ┆ … ┆ 1996-03-19T22:3 ┆ 1996-06-20T16:2 ┆ 1996-09-22T08:0 ┆ 1996-12-21T04:0 │\n",
       "│       ┆ :00              ┆      ┆        ┆   ┆ 4:00            ┆ 3:00            ┆ 0:00            ┆ 6:00            │\n",
       "│ 4     ┆ 1996-07-05T23:59 ┆ 1996 ┆ 2      ┆ … ┆ 1996-03-19T22:3 ┆ 1996-06-20T16:2 ┆ 1996-09-22T08:0 ┆ 1996-12-21T04:0 │\n",
       "│       ┆ :00              ┆      ┆        ┆   ┆ 4:00            ┆ 3:00            ┆ 0:00            ┆ 6:00            │\n",
       "│ …     ┆ …                ┆ …    ┆ …      ┆ … ┆ …               ┆ …               ┆ …               ┆ …               │\n",
       "│ 10325 ┆ 2025-07-06T23:59 ┆ 2025 ┆ 2      ┆ … ┆ 2025-03-19T23:0 ┆ 2025-06-20T16:4 ┆ 2025-09-22T08:1 ┆ 2025-12-21T05:0 │\n",
       "│       ┆ :00              ┆      ┆        ┆   ┆ 1:00            ┆ 2:00            ┆ 9:00            ┆ 3:00            │\n",
       "│ 10326 ┆ 2025-07-07T23:59 ┆ 2025 ┆ 2      ┆ … ┆ 2025-03-19T23:0 ┆ 2025-06-20T16:4 ┆ 2025-09-22T08:1 ┆ 2025-12-21T05:0 │\n",
       "│       ┆ :00              ┆      ┆        ┆   ┆ 1:00            ┆ 2:00            ┆ 9:00            ┆ 3:00            │\n",
       "│ 10327 ┆ 2025-07-08T23:59 ┆ 2025 ┆ 2      ┆ … ┆ 2025-03-19T23:0 ┆ 2025-06-20T16:4 ┆ 2025-09-22T08:1 ┆ 2025-12-21T05:0 │\n",
       "│       ┆ :00              ┆      ┆        ┆   ┆ 1:00            ┆ 2:00            ┆ 9:00            ┆ 3:00            │\n",
       "│ 10328 ┆ 2025-07-09T23:59 ┆ 2025 ┆ 2      ┆ … ┆ 2025-03-19T23:0 ┆ 2025-06-20T16:4 ┆ 2025-09-22T08:1 ┆ 2025-12-21T05:0 │\n",
       "│       ┆ :00              ┆      ┆        ┆   ┆ 1:00            ┆ 2:00            ┆ 9:00            ┆ 3:00            │\n",
       "│ 10329 ┆ 2025-07-10T23:59 ┆ 2025 ┆ 2      ┆ … ┆ 2025-03-19T23:0 ┆ 2025-06-20T16:4 ┆ 2025-09-22T08:1 ┆ 2025-12-21T05:0 │\n",
       "│       ┆ :00              ┆      ┆        ┆   ┆ 1:00            ┆ 2:00            ┆ 9:00            ┆ 3:00            │\n",
       "└───────┴──────────────────┴──────┴────────┴───┴─────────────────┴─────────────────┴─────────────────┴─────────────────┘"
      ]
     },
     "execution_count": 17,
     "metadata": {},
     "output_type": "execute_result"
    }
   ],
   "source": [
    "lf_full = lf_full.join(soleq_lf, on=\"YEAR\", how='left')\n",
    "lf_full.collect()"
   ]
  },
  {
   "cell_type": "code",
   "execution_count": 18,
   "id": "9d5c445c-d48d-4de5-80d9-a222a1cc5a49",
   "metadata": {},
   "outputs": [
    {
     "data": {
      "text/html": [
       "<div><style>\n",
       ".dataframe > thead > tr,\n",
       ".dataframe > tbody > tr {\n",
       "  text-align: right;\n",
       "  white-space: pre-wrap;\n",
       "}\n",
       "</style>\n",
       "<small>shape: (10_330, 14)</small><table border=\"1\" class=\"dataframe\"><thead><tr><th>index</th><th>DATE</th><th>YEAR</th><th>SEASON</th><th>MONTH</th><th>DAY</th><th>HOUR</th><th>MINUTE</th><th>SECOND</th><th>TEMP</th><th>SPRING_DT</th><th>SUMMER_DT</th><th>AUTUMN_DT</th><th>WINTER_DT</th></tr><tr><td>u32</td><td>datetime[μs]</td><td>i32</td><td>i32</td><td>i8</td><td>i8</td><td>i8</td><td>i8</td><td>i8</td><td>i64</td><td>datetime[μs]</td><td>datetime[μs]</td><td>datetime[μs]</td><td>datetime[μs]</td></tr></thead><tbody><tr><td>0</td><td>1996-07-01 23:59:00</td><td>1996</td><td>2</td><td>7</td><td>1</td><td>23</td><td>59</td><td>0</td><td>83</td><td>1996-03-19 22:34:00</td><td>1996-06-20 16:23:00</td><td>1996-09-22 08:00:00</td><td>1996-12-21 04:06:00</td></tr><tr><td>1</td><td>1996-07-02 23:59:00</td><td>1996</td><td>2</td><td>7</td><td>2</td><td>23</td><td>59</td><td>0</td><td>83</td><td>1996-03-19 22:34:00</td><td>1996-06-20 16:23:00</td><td>1996-09-22 08:00:00</td><td>1996-12-21 04:06:00</td></tr><tr><td>2</td><td>1996-07-03 23:59:00</td><td>1996</td><td>2</td><td>7</td><td>3</td><td>23</td><td>59</td><td>0</td><td>82</td><td>1996-03-19 22:34:00</td><td>1996-06-20 16:23:00</td><td>1996-09-22 08:00:00</td><td>1996-12-21 04:06:00</td></tr><tr><td>3</td><td>1996-07-04 23:59:00</td><td>1996</td><td>2</td><td>7</td><td>4</td><td>23</td><td>59</td><td>0</td><td>79</td><td>1996-03-19 22:34:00</td><td>1996-06-20 16:23:00</td><td>1996-09-22 08:00:00</td><td>1996-12-21 04:06:00</td></tr><tr><td>4</td><td>1996-07-05 23:59:00</td><td>1996</td><td>2</td><td>7</td><td>5</td><td>23</td><td>59</td><td>0</td><td>80</td><td>1996-03-19 22:34:00</td><td>1996-06-20 16:23:00</td><td>1996-09-22 08:00:00</td><td>1996-12-21 04:06:00</td></tr><tr><td>&hellip;</td><td>&hellip;</td><td>&hellip;</td><td>&hellip;</td><td>&hellip;</td><td>&hellip;</td><td>&hellip;</td><td>&hellip;</td><td>&hellip;</td><td>&hellip;</td><td>&hellip;</td><td>&hellip;</td><td>&hellip;</td><td>&hellip;</td></tr><tr><td>10325</td><td>2025-07-06 23:59:00</td><td>2025</td><td>2</td><td>7</td><td>6</td><td>23</td><td>59</td><td>0</td><td>81</td><td>2025-03-19 23:01:00</td><td>2025-06-20 16:42:00</td><td>2025-09-22 08:19:00</td><td>2025-12-21 05:03:00</td></tr><tr><td>10326</td><td>2025-07-07 23:59:00</td><td>2025</td><td>2</td><td>7</td><td>7</td><td>23</td><td>59</td><td>0</td><td>80</td><td>2025-03-19 23:01:00</td><td>2025-06-20 16:42:00</td><td>2025-09-22 08:19:00</td><td>2025-12-21 05:03:00</td></tr><tr><td>10327</td><td>2025-07-08 23:59:00</td><td>2025</td><td>2</td><td>7</td><td>8</td><td>23</td><td>59</td><td>0</td><td>80</td><td>2025-03-19 23:01:00</td><td>2025-06-20 16:42:00</td><td>2025-09-22 08:19:00</td><td>2025-12-21 05:03:00</td></tr><tr><td>10328</td><td>2025-07-09 23:59:00</td><td>2025</td><td>2</td><td>7</td><td>9</td><td>23</td><td>59</td><td>0</td><td>80</td><td>2025-03-19 23:01:00</td><td>2025-06-20 16:42:00</td><td>2025-09-22 08:19:00</td><td>2025-12-21 05:03:00</td></tr><tr><td>10329</td><td>2025-07-10 23:59:00</td><td>2025</td><td>2</td><td>7</td><td>10</td><td>23</td><td>59</td><td>0</td><td>79</td><td>2025-03-19 23:01:00</td><td>2025-06-20 16:42:00</td><td>2025-09-22 08:19:00</td><td>2025-12-21 05:03:00</td></tr></tbody></table></div>"
      ],
      "text/plain": [
       "shape: (10_330, 14)\n",
       "┌───────┬──────────────┬──────┬────────┬───┬──────────────┬──────────────┬──────────────────────┬──────────────────────┐\n",
       "│ index ┆ DATE         ┆ YEAR ┆ SEASON ┆ … ┆ SPRING_DT    ┆ SUMMER_DT    ┆ AUTUMN_DT            ┆ WINTER_DT            │\n",
       "│ ---   ┆ ---          ┆ ---  ┆ ---    ┆   ┆ ---          ┆ ---          ┆ ---                  ┆ ---                  │\n",
       "│ u32   ┆ datetime[μs] ┆ i32  ┆ i32    ┆   ┆ datetime[μs] ┆ datetime[μs] ┆ datetime[μs]         ┆ datetime[μs]         │\n",
       "╞═══════╪══════════════╪══════╪════════╪═══╪══════════════╪══════════════╪══════════════════════╪══════════════════════╡\n",
       "│ 0     ┆ 1996-07-01   ┆ 1996 ┆ 2      ┆ … ┆ 1996-03-19   ┆ 1996-06-20   ┆ 1996-09-22 08:00:00  ┆ 1996-12-21 04:06:00  │\n",
       "│       ┆ 23:59:00     ┆      ┆        ┆   ┆ 22:34:00     ┆ 16:23:00     ┆                      ┆                      │\n",
       "│ 1     ┆ 1996-07-02   ┆ 1996 ┆ 2      ┆ … ┆ 1996-03-19   ┆ 1996-06-20   ┆ 1996-09-22 08:00:00  ┆ 1996-12-21 04:06:00  │\n",
       "│       ┆ 23:59:00     ┆      ┆        ┆   ┆ 22:34:00     ┆ 16:23:00     ┆                      ┆                      │\n",
       "│ 2     ┆ 1996-07-03   ┆ 1996 ┆ 2      ┆ … ┆ 1996-03-19   ┆ 1996-06-20   ┆ 1996-09-22 08:00:00  ┆ 1996-12-21 04:06:00  │\n",
       "│       ┆ 23:59:00     ┆      ┆        ┆   ┆ 22:34:00     ┆ 16:23:00     ┆                      ┆                      │\n",
       "│ 3     ┆ 1996-07-04   ┆ 1996 ┆ 2      ┆ … ┆ 1996-03-19   ┆ 1996-06-20   ┆ 1996-09-22 08:00:00  ┆ 1996-12-21 04:06:00  │\n",
       "│       ┆ 23:59:00     ┆      ┆        ┆   ┆ 22:34:00     ┆ 16:23:00     ┆                      ┆                      │\n",
       "│ 4     ┆ 1996-07-05   ┆ 1996 ┆ 2      ┆ … ┆ 1996-03-19   ┆ 1996-06-20   ┆ 1996-09-22 08:00:00  ┆ 1996-12-21 04:06:00  │\n",
       "│       ┆ 23:59:00     ┆      ┆        ┆   ┆ 22:34:00     ┆ 16:23:00     ┆                      ┆                      │\n",
       "│ …     ┆ …            ┆ …    ┆ …      ┆ … ┆ …            ┆ …            ┆ …                    ┆ …                    │\n",
       "│ 10325 ┆ 2025-07-06   ┆ 2025 ┆ 2      ┆ … ┆ 2025-03-19   ┆ 2025-06-20   ┆ 2025-09-22 08:19:00  ┆ 2025-12-21 05:03:00  │\n",
       "│       ┆ 23:59:00     ┆      ┆        ┆   ┆ 23:01:00     ┆ 16:42:00     ┆                      ┆                      │\n",
       "│ 10326 ┆ 2025-07-07   ┆ 2025 ┆ 2      ┆ … ┆ 2025-03-19   ┆ 2025-06-20   ┆ 2025-09-22 08:19:00  ┆ 2025-12-21 05:03:00  │\n",
       "│       ┆ 23:59:00     ┆      ┆        ┆   ┆ 23:01:00     ┆ 16:42:00     ┆                      ┆                      │\n",
       "│ 10327 ┆ 2025-07-08   ┆ 2025 ┆ 2      ┆ … ┆ 2025-03-19   ┆ 2025-06-20   ┆ 2025-09-22 08:19:00  ┆ 2025-12-21 05:03:00  │\n",
       "│       ┆ 23:59:00     ┆      ┆        ┆   ┆ 23:01:00     ┆ 16:42:00     ┆                      ┆                      │\n",
       "│ 10328 ┆ 2025-07-09   ┆ 2025 ┆ 2      ┆ … ┆ 2025-03-19   ┆ 2025-06-20   ┆ 2025-09-22 08:19:00  ┆ 2025-12-21 05:03:00  │\n",
       "│       ┆ 23:59:00     ┆      ┆        ┆   ┆ 23:01:00     ┆ 16:42:00     ┆                      ┆                      │\n",
       "│ 10329 ┆ 2025-07-10   ┆ 2025 ┆ 2      ┆ … ┆ 2025-03-19   ┆ 2025-06-20   ┆ 2025-09-22 08:19:00  ┆ 2025-12-21 05:03:00  │\n",
       "│       ┆ 23:59:00     ┆      ┆        ┆   ┆ 23:01:00     ┆ 16:42:00     ┆                      ┆                      │\n",
       "└───────┴──────────────┴──────┴────────┴───┴──────────────┴──────────────┴──────────────────────┴──────────────────────┘"
      ]
     },
     "execution_count": 18,
     "metadata": {},
     "output_type": "execute_result"
    }
   ],
   "source": [
    "lf_full = lf_full.with_columns(\n",
    "\n",
    "    pl.col(\"DATE\").str.to_datetime(\"%Y-%m-%dT%H:%M:%S\").alias(\"DATE\"),\n",
    "    pl.col(\"SPRING_DT\").str.to_datetime(\"%Y-%m-%dT%H:%M:%S\").alias(\"SPRING_DT\"),\n",
    "    pl.col(\"SUMMER_DT\").str.to_datetime(\"%Y-%m-%dT%H:%M:%S\").alias(\"SUMMER_DT\"),\n",
    "    pl.col(\"AUTUMN_DT\").str.to_datetime(\"%Y-%m-%dT%H:%M:%S\").alias(\"AUTUMN_DT\"),\n",
    "    pl.col(\"WINTER_DT\").str.to_datetime(\"%Y-%m-%dT%H:%M:%S\").alias(\"WINTER_DT\")\n",
    "    \n",
    ")\n",
    "lf_full.collect()"
   ]
  },
  {
   "cell_type": "code",
   "execution_count": 19,
   "id": "d24ef995-8941-408a-a57f-3ca685749eec",
   "metadata": {},
   "outputs": [],
   "source": [
    "lf_full = lf_full.with_columns(\n",
    "\n",
    "    pl.when((pl.col(\"DATE\") >= pl.col(\"SPRING_DT\")) & (pl.col(\"DATE\") <= pl.col(\"SUMMER_DT\"))).then(3)\n",
    "        .when((pl.col(\"DATE\") >= pl.col(\"SUMMER_DT\")) & (pl.col(\"DATE\") <= pl.col(\"AUTUMN_DT\"))).then(2)\n",
    "        .when((pl.col(\"DATE\") >= pl.col(\"AUTUMN_DT\")) & (pl.col(\"DATE\") <= pl.col(\"WINTER_DT\"))).then(1)    \n",
    "        .when((pl.col(\"DATE\") >= pl.col(\"WINTER_DT\")) | (pl.col(\"DATE\") <= pl.col(\"SPRING_DT\"))).then(0).alias(\"SOLSTICE_SEASON\"),\n",
    ")"
   ]
  },
  {
   "cell_type": "code",
   "execution_count": 20,
   "id": "196d52bf-eee1-4bda-863d-ef8e97621d11",
   "metadata": {},
   "outputs": [],
   "source": [
    "lf_full = lf_full.select([\"index\", \"YEAR\", \"SEASON\", \"SOLSTICE_SEASON\", \"MONTH\", \"DAY\", \"TEMP\"])"
   ]
  },
  {
   "cell_type": "code",
   "execution_count": 21,
   "id": "54a993a8-ca83-44c0-a9cf-19d79deb8c9d",
   "metadata": {},
   "outputs": [
    {
     "name": "stdout",
     "output_type": "stream",
     "text": [
      "index: 0.1414837689238311\n",
      "YEAR: 0.12538976446137035\n",
      "SEASON: 0.21422565514481115\n",
      "SOLSTICE_SEASON: 0.39398672183435746\n",
      "MONTH: 0.42324397795515983\n",
      "DAY: 0.015917693115134406\n",
      "TEMP: 1.0\n"
     ]
    }
   ],
   "source": [
    "corr_schema = lf_full.collect_schema()\n",
    "\n",
    "for column in corr_schema.names():\n",
    "\n",
    "    corr = lf_full.select(pl.corr(column, \"TEMP\")).collect().item()\n",
    "    print(f\"{column}: {corr}\") "
   ]
  },
  {
   "cell_type": "markdown",
   "id": "1baad2df-457b-4dc4-9ce4-c19b5adbc8d9",
   "metadata": {},
   "source": [
    "### Encoding\n",
    "\n",
    "Fields must be encoded to be ingested correctly in ML models. Seasonal fields are encoded with sinusoidal encoding, and other numerical fields are normalized. Temp is separated from all other variables to become the target."
   ]
  },
  {
   "cell_type": "code",
   "execution_count": 22,
   "id": "8d744d2d-babc-46e2-85bc-b75c41d486d5",
   "metadata": {},
   "outputs": [],
   "source": [
    "min_year = 1996\n",
    "max_year = 2028\n",
    "\n",
    "lf_full = lf_full.with_columns(\n",
    "\n",
    "    ((pl.col(\"YEAR\") - min_year) / (max_year - min_year)).alias(\"YEAR\"),\n",
    "    pl.when(pl.col(\"SOLSTICE_SEASON\") == 3).then(1).otherwise(0).alias(\"SPRING\"),\n",
    "    pl.when(pl.col(\"SOLSTICE_SEASON\") == 2).then(1).otherwise(0).alias(\"SUMMER\"),\n",
    "    pl.when(pl.col(\"SOLSTICE_SEASON\") == 1).then(1).otherwise(0).alias(\"AUTUMN\"),\n",
    "    pl.when(pl.col(\"SOLSTICE_SEASON\") == 0).then(1).otherwise(0).alias(\"WINTER\"),\n",
    "    np.sin(2 * np.pi * ((pl.col(\"MONTH\") - 1) / 11)).alias(\"MONTH_SIN\"),\n",
    "    np.cos(2 * np.pi * ((pl.col(\"MONTH\") - 1) / 11)).alias(\"MONTH_COS\"),\n",
    "    np.sin(2 * np.pi * ((pl.col(\"DAY\") - 1) / 30)).alias(\"DAY_SIN\"),\n",
    "    np.cos(2 * np.pi * ((pl.col(\"DAY\") - 1) / 30)).alias(\"DAY_COS\"), \n",
    "    pl.col(\"TEMP\").shift(-1).alias(\"TEMP_t-1\"),\n",
    "    pl.col(\"TEMP\").shift(-2).alias(\"TEMP_t-2\"),\n",
    "    pl.col(\"TEMP\").shift(-3).alias(\"TEMP_t-3\"),\n",
    "    pl.col(\"TEMP\").shift(-4).alias(\"TEMP_t-4\"),\n",
    "    pl.col(\"TEMP\").shift(-5).alias(\"TEMP_t-5\"),\n",
    "    pl.col(\"TEMP\").shift(-6).alias(\"TEMP_t-6\"),\n",
    "    pl.col(\"TEMP\").shift(-7).alias(\"TEMP_t-7\"),\n",
    "    pl.col(\"TEMP\").shift(-8).alias(\"TEMP_t-8\"),\n",
    "    \n",
    ")\n",
    "\n",
    "lf_full = lf_full.with_columns(\n",
    "\n",
    "    ((pl.col(\"TEMP_t-1\") - pl.col(\"TEMP\").min()) / (pl.col(\"TEMP\").max() - pl.col(\"TEMP\").min())).alias(\"TEMP_t-1\"),\n",
    "    ((pl.col(\"TEMP_t-2\") - pl.col(\"TEMP\").min()) / (pl.col(\"TEMP\").max() - pl.col(\"TEMP\").min())).alias(\"TEMP_t-2\"),\n",
    "    ((pl.col(\"TEMP_t-3\") - pl.col(\"TEMP\").min()) / (pl.col(\"TEMP\").max() - pl.col(\"TEMP\").min())).alias(\"TEMP_t-3\"),\n",
    "    ((pl.col(\"TEMP_t-4\") - pl.col(\"TEMP\").min()) / (pl.col(\"TEMP\").max() - pl.col(\"TEMP\").min())).alias(\"TEMP_t-4\"),\n",
    "    ((pl.col(\"TEMP_t-5\") - pl.col(\"TEMP\").min()) / (pl.col(\"TEMP\").max() - pl.col(\"TEMP\").min())).alias(\"TEMP_t-5\"),\n",
    "    ((pl.col(\"TEMP_t-6\") - pl.col(\"TEMP\").min()) / (pl.col(\"TEMP\").max() - pl.col(\"TEMP\").min())).alias(\"TEMP_t-6\"),\n",
    "    ((pl.col(\"TEMP_t-7\") - pl.col(\"TEMP\").min()) / (pl.col(\"TEMP\").max() - pl.col(\"TEMP\").min())).alias(\"TEMP_t-7\"),\n",
    "    ((pl.col(\"TEMP_t-8\") - pl.col(\"TEMP\").min()) / (pl.col(\"TEMP\").max() - pl.col(\"TEMP\").min())).alias(\"TEMP_t-8\"),\n",
    "\n",
    ")"
   ]
  },
  {
   "cell_type": "code",
   "execution_count": 23,
   "id": "dc02e99c-8467-46c4-b4f0-eb470c7e3a24",
   "metadata": {},
   "outputs": [
    {
     "data": {
      "text/html": [
       "<div><style>\n",
       ".dataframe > thead > tr,\n",
       ".dataframe > tbody > tr {\n",
       "  text-align: right;\n",
       "  white-space: pre-wrap;\n",
       "}\n",
       "</style>\n",
       "<small>shape: (10_322, 20)</small><table border=\"1\" class=\"dataframe\"><thead><tr><th>index</th><th>YEAR</th><th>SEASON</th><th>SOLSTICE_SEASON</th><th>SPRING</th><th>SUMMER</th><th>AUTUMN</th><th>WINTER</th><th>MONTH_SIN</th><th>MONTH_COS</th><th>DAY_SIN</th><th>DAY_COS</th><th>TEMP_t-1</th><th>TEMP_t-2</th><th>TEMP_t-3</th><th>TEMP_t-4</th><th>TEMP_t-5</th><th>TEMP_t-6</th><th>TEMP_t-7</th><th>TEMP_t-8</th></tr><tr><td>u32</td><td>f64</td><td>i32</td><td>i32</td><td>i32</td><td>i32</td><td>i32</td><td>i32</td><td>f64</td><td>f64</td><td>f64</td><td>f64</td><td>f64</td><td>f64</td><td>f64</td><td>f64</td><td>f64</td><td>f64</td><td>f64</td><td>f64</td></tr></thead><tbody><tr><td>0</td><td>0.0</td><td>2</td><td>2</td><td>0</td><td>1</td><td>0</td><td>0</td><td>-0.281733</td><td>-0.959493</td><td>0.0</td><td>1.0</td><td>0.863636</td><td>0.818182</td><td>0.681818</td><td>0.727273</td><td>0.818182</td><td>0.772727</td><td>0.818182</td><td>0.772727</td></tr><tr><td>1</td><td>0.0</td><td>2</td><td>2</td><td>0</td><td>1</td><td>0</td><td>0</td><td>-0.281733</td><td>-0.959493</td><td>0.207912</td><td>0.978148</td><td>0.818182</td><td>0.681818</td><td>0.727273</td><td>0.818182</td><td>0.772727</td><td>0.818182</td><td>0.772727</td><td>0.863636</td></tr><tr><td>2</td><td>0.0</td><td>2</td><td>2</td><td>0</td><td>1</td><td>0</td><td>0</td><td>-0.281733</td><td>-0.959493</td><td>0.406737</td><td>0.913545</td><td>0.681818</td><td>0.727273</td><td>0.818182</td><td>0.772727</td><td>0.818182</td><td>0.772727</td><td>0.863636</td><td>0.818182</td></tr><tr><td>3</td><td>0.0</td><td>2</td><td>2</td><td>0</td><td>1</td><td>0</td><td>0</td><td>-0.281733</td><td>-0.959493</td><td>0.587785</td><td>0.809017</td><td>0.727273</td><td>0.818182</td><td>0.772727</td><td>0.818182</td><td>0.772727</td><td>0.863636</td><td>0.818182</td><td>0.818182</td></tr><tr><td>4</td><td>0.0</td><td>2</td><td>2</td><td>0</td><td>1</td><td>0</td><td>0</td><td>-0.281733</td><td>-0.959493</td><td>0.743145</td><td>0.669131</td><td>0.818182</td><td>0.772727</td><td>0.818182</td><td>0.772727</td><td>0.863636</td><td>0.818182</td><td>0.818182</td><td>0.772727</td></tr><tr><td>&hellip;</td><td>&hellip;</td><td>&hellip;</td><td>&hellip;</td><td>&hellip;</td><td>&hellip;</td><td>&hellip;</td><td>&hellip;</td><td>&hellip;</td><td>&hellip;</td><td>&hellip;</td><td>&hellip;</td><td>&hellip;</td><td>&hellip;</td><td>&hellip;</td><td>&hellip;</td><td>&hellip;</td><td>&hellip;</td><td>&hellip;</td><td>&hellip;</td></tr><tr><td>10317</td><td>0.90625</td><td>2</td><td>2</td><td>0</td><td>1</td><td>0</td><td>0</td><td>0.281733</td><td>-0.959493</td><td>-0.743145</td><td>0.669131</td><td>0.772727</td><td>0.727273</td><td>0.636364</td><td>0.636364</td><td>0.590909</td><td>0.681818</td><td>0.727273</td><td>0.772727</td></tr><tr><td>10318</td><td>0.90625</td><td>2</td><td>2</td><td>0</td><td>1</td><td>0</td><td>0</td><td>0.281733</td><td>-0.959493</td><td>-0.587785</td><td>0.809017</td><td>0.727273</td><td>0.636364</td><td>0.636364</td><td>0.590909</td><td>0.681818</td><td>0.727273</td><td>0.772727</td><td>0.727273</td></tr><tr><td>10319</td><td>0.90625</td><td>2</td><td>2</td><td>0</td><td>1</td><td>0</td><td>0</td><td>0.281733</td><td>-0.959493</td><td>-0.406737</td><td>0.913545</td><td>0.636364</td><td>0.636364</td><td>0.590909</td><td>0.681818</td><td>0.727273</td><td>0.772727</td><td>0.727273</td><td>0.727273</td></tr><tr><td>10320</td><td>0.90625</td><td>2</td><td>2</td><td>0</td><td>1</td><td>0</td><td>0</td><td>-0.281733</td><td>-0.959493</td><td>0.0</td><td>1.0</td><td>0.636364</td><td>0.590909</td><td>0.681818</td><td>0.727273</td><td>0.772727</td><td>0.727273</td><td>0.727273</td><td>0.727273</td></tr><tr><td>10321</td><td>0.90625</td><td>2</td><td>2</td><td>0</td><td>1</td><td>0</td><td>0</td><td>-0.281733</td><td>-0.959493</td><td>0.207912</td><td>0.978148</td><td>0.590909</td><td>0.681818</td><td>0.727273</td><td>0.772727</td><td>0.727273</td><td>0.727273</td><td>0.727273</td><td>0.681818</td></tr></tbody></table></div>"
      ],
      "text/plain": [
       "shape: (10_322, 20)\n",
       "┌───────┬─────────┬────────┬─────────────────┬───┬──────────┬──────────┬──────────┬──────────┐\n",
       "│ index ┆ YEAR    ┆ SEASON ┆ SOLSTICE_SEASON ┆ … ┆ TEMP_t-5 ┆ TEMP_t-6 ┆ TEMP_t-7 ┆ TEMP_t-8 │\n",
       "│ ---   ┆ ---     ┆ ---    ┆ ---             ┆   ┆ ---      ┆ ---      ┆ ---      ┆ ---      │\n",
       "│ u32   ┆ f64     ┆ i32    ┆ i32             ┆   ┆ f64      ┆ f64      ┆ f64      ┆ f64      │\n",
       "╞═══════╪═════════╪════════╪═════════════════╪═══╪══════════╪══════════╪══════════╪══════════╡\n",
       "│ 0     ┆ 0.0     ┆ 2      ┆ 2               ┆ … ┆ 0.818182 ┆ 0.772727 ┆ 0.818182 ┆ 0.772727 │\n",
       "│ 1     ┆ 0.0     ┆ 2      ┆ 2               ┆ … ┆ 0.772727 ┆ 0.818182 ┆ 0.772727 ┆ 0.863636 │\n",
       "│ 2     ┆ 0.0     ┆ 2      ┆ 2               ┆ … ┆ 0.818182 ┆ 0.772727 ┆ 0.863636 ┆ 0.818182 │\n",
       "│ 3     ┆ 0.0     ┆ 2      ┆ 2               ┆ … ┆ 0.772727 ┆ 0.863636 ┆ 0.818182 ┆ 0.818182 │\n",
       "│ 4     ┆ 0.0     ┆ 2      ┆ 2               ┆ … ┆ 0.863636 ┆ 0.818182 ┆ 0.818182 ┆ 0.772727 │\n",
       "│ …     ┆ …       ┆ …      ┆ …               ┆ … ┆ …        ┆ …        ┆ …        ┆ …        │\n",
       "│ 10317 ┆ 0.90625 ┆ 2      ┆ 2               ┆ … ┆ 0.590909 ┆ 0.681818 ┆ 0.727273 ┆ 0.772727 │\n",
       "│ 10318 ┆ 0.90625 ┆ 2      ┆ 2               ┆ … ┆ 0.681818 ┆ 0.727273 ┆ 0.772727 ┆ 0.727273 │\n",
       "│ 10319 ┆ 0.90625 ┆ 2      ┆ 2               ┆ … ┆ 0.727273 ┆ 0.772727 ┆ 0.727273 ┆ 0.727273 │\n",
       "│ 10320 ┆ 0.90625 ┆ 2      ┆ 2               ┆ … ┆ 0.772727 ┆ 0.727273 ┆ 0.727273 ┆ 0.727273 │\n",
       "│ 10321 ┆ 0.90625 ┆ 2      ┆ 2               ┆ … ┆ 0.727273 ┆ 0.727273 ┆ 0.727273 ┆ 0.681818 │\n",
       "└───────┴─────────┴────────┴─────────────────┴───┴──────────┴──────────┴──────────┴──────────┘"
      ]
     },
     "execution_count": 23,
     "metadata": {},
     "output_type": "execute_result"
    }
   ],
   "source": [
    "lf_full = lf_full.drop_nulls().filter(pl.col(\"YEAR\") >= 0)\n",
    "y = lf_full.select([\"index\", \"TEMP\"])\n",
    "X = lf_full.sort(\"index\").drop([\"MONTH\", \"DAY\", \"TEMP\"])\n",
    "X.collect()"
   ]
  },
  {
   "cell_type": "markdown",
   "id": "60e227d1-f6fe-4a83-8b59-9ef6890fc5fc",
   "metadata": {},
   "source": [
    "### Train/Test Split\n",
    "\n",
    "Final year (2024-2025) is used as the test set, and everything before is the training set. Since 2025 is not finished yet, test set will not be the entire year."
   ]
  },
  {
   "cell_type": "code",
   "execution_count": 24,
   "id": "8bd4c6d4-7fb5-4ce5-a64f-e84bffd7d1c0",
   "metadata": {},
   "outputs": [
    {
     "data": {
      "text/html": [
       "<div><style>\n",
       ".dataframe > thead > tr,\n",
       ".dataframe > tbody > tr {\n",
       "  text-align: right;\n",
       "  white-space: pre-wrap;\n",
       "}\n",
       "</style>\n",
       "<small>shape: (356, 20)</small><table border=\"1\" class=\"dataframe\"><thead><tr><th>index</th><th>YEAR</th><th>SEASON</th><th>SOLSTICE_SEASON</th><th>SPRING</th><th>SUMMER</th><th>AUTUMN</th><th>WINTER</th><th>MONTH_SIN</th><th>MONTH_COS</th><th>DAY_SIN</th><th>DAY_COS</th><th>TEMP_t-1</th><th>TEMP_t-2</th><th>TEMP_t-3</th><th>TEMP_t-4</th><th>TEMP_t-5</th><th>TEMP_t-6</th><th>TEMP_t-7</th><th>TEMP_t-8</th></tr><tr><td>u32</td><td>f64</td><td>i32</td><td>i32</td><td>i32</td><td>i32</td><td>i32</td><td>i32</td><td>f64</td><td>f64</td><td>f64</td><td>f64</td><td>f64</td><td>f64</td><td>f64</td><td>f64</td><td>f64</td><td>f64</td><td>f64</td><td>f64</td></tr></thead><tbody><tr><td>9966</td><td>0.875</td><td>2</td><td>3</td><td>1</td><td>0</td><td>0</td><td>0</td><td>0.281733</td><td>-0.959493</td><td>0.406737</td><td>0.913545</td><td>0.681818</td><td>0.590909</td><td>0.636364</td><td>0.590909</td><td>0.590909</td><td>0.636364</td><td>0.727273</td><td>0.727273</td></tr><tr><td>9967</td><td>0.875</td><td>2</td><td>3</td><td>1</td><td>0</td><td>0</td><td>0</td><td>0.281733</td><td>-0.959493</td><td>0.587785</td><td>0.809017</td><td>0.590909</td><td>0.636364</td><td>0.590909</td><td>0.590909</td><td>0.636364</td><td>0.727273</td><td>0.727273</td><td>0.681818</td></tr><tr><td>9968</td><td>0.875</td><td>2</td><td>3</td><td>1</td><td>0</td><td>0</td><td>0</td><td>0.281733</td><td>-0.959493</td><td>0.743145</td><td>0.669131</td><td>0.636364</td><td>0.590909</td><td>0.590909</td><td>0.636364</td><td>0.727273</td><td>0.727273</td><td>0.681818</td><td>0.681818</td></tr><tr><td>9969</td><td>0.875</td><td>2</td><td>3</td><td>1</td><td>0</td><td>0</td><td>0</td><td>0.281733</td><td>-0.959493</td><td>0.866025</td><td>0.5</td><td>0.590909</td><td>0.590909</td><td>0.636364</td><td>0.727273</td><td>0.727273</td><td>0.681818</td><td>0.681818</td><td>0.727273</td></tr><tr><td>9970</td><td>0.875</td><td>2</td><td>3</td><td>1</td><td>0</td><td>0</td><td>0</td><td>0.281733</td><td>-0.959493</td><td>0.951057</td><td>0.309017</td><td>0.590909</td><td>0.636364</td><td>0.727273</td><td>0.727273</td><td>0.681818</td><td>0.681818</td><td>0.727273</td><td>0.727273</td></tr><tr><td>&hellip;</td><td>&hellip;</td><td>&hellip;</td><td>&hellip;</td><td>&hellip;</td><td>&hellip;</td><td>&hellip;</td><td>&hellip;</td><td>&hellip;</td><td>&hellip;</td><td>&hellip;</td><td>&hellip;</td><td>&hellip;</td><td>&hellip;</td><td>&hellip;</td><td>&hellip;</td><td>&hellip;</td><td>&hellip;</td><td>&hellip;</td><td>&hellip;</td></tr><tr><td>10317</td><td>0.90625</td><td>2</td><td>2</td><td>0</td><td>1</td><td>0</td><td>0</td><td>0.281733</td><td>-0.959493</td><td>-0.743145</td><td>0.669131</td><td>0.772727</td><td>0.727273</td><td>0.636364</td><td>0.636364</td><td>0.590909</td><td>0.681818</td><td>0.727273</td><td>0.772727</td></tr><tr><td>10318</td><td>0.90625</td><td>2</td><td>2</td><td>0</td><td>1</td><td>0</td><td>0</td><td>0.281733</td><td>-0.959493</td><td>-0.587785</td><td>0.809017</td><td>0.727273</td><td>0.636364</td><td>0.636364</td><td>0.590909</td><td>0.681818</td><td>0.727273</td><td>0.772727</td><td>0.727273</td></tr><tr><td>10319</td><td>0.90625</td><td>2</td><td>2</td><td>0</td><td>1</td><td>0</td><td>0</td><td>0.281733</td><td>-0.959493</td><td>-0.406737</td><td>0.913545</td><td>0.636364</td><td>0.636364</td><td>0.590909</td><td>0.681818</td><td>0.727273</td><td>0.772727</td><td>0.727273</td><td>0.727273</td></tr><tr><td>10320</td><td>0.90625</td><td>2</td><td>2</td><td>0</td><td>1</td><td>0</td><td>0</td><td>-0.281733</td><td>-0.959493</td><td>0.0</td><td>1.0</td><td>0.636364</td><td>0.590909</td><td>0.681818</td><td>0.727273</td><td>0.772727</td><td>0.727273</td><td>0.727273</td><td>0.727273</td></tr><tr><td>10321</td><td>0.90625</td><td>2</td><td>2</td><td>0</td><td>1</td><td>0</td><td>0</td><td>-0.281733</td><td>-0.959493</td><td>0.207912</td><td>0.978148</td><td>0.590909</td><td>0.681818</td><td>0.727273</td><td>0.772727</td><td>0.727273</td><td>0.727273</td><td>0.727273</td><td>0.681818</td></tr></tbody></table></div>"
      ],
      "text/plain": [
       "shape: (356, 20)\n",
       "┌───────┬─────────┬────────┬─────────────────┬───┬──────────┬──────────┬──────────┬──────────┐\n",
       "│ index ┆ YEAR    ┆ SEASON ┆ SOLSTICE_SEASON ┆ … ┆ TEMP_t-5 ┆ TEMP_t-6 ┆ TEMP_t-7 ┆ TEMP_t-8 │\n",
       "│ ---   ┆ ---     ┆ ---    ┆ ---             ┆   ┆ ---      ┆ ---      ┆ ---      ┆ ---      │\n",
       "│ u32   ┆ f64     ┆ i32    ┆ i32             ┆   ┆ f64      ┆ f64      ┆ f64      ┆ f64      │\n",
       "╞═══════╪═════════╪════════╪═════════════════╪═══╪══════════╪══════════╪══════════╪══════════╡\n",
       "│ 9966  ┆ 0.875   ┆ 2      ┆ 3               ┆ … ┆ 0.590909 ┆ 0.636364 ┆ 0.727273 ┆ 0.727273 │\n",
       "│ 9967  ┆ 0.875   ┆ 2      ┆ 3               ┆ … ┆ 0.636364 ┆ 0.727273 ┆ 0.727273 ┆ 0.681818 │\n",
       "│ 9968  ┆ 0.875   ┆ 2      ┆ 3               ┆ … ┆ 0.727273 ┆ 0.727273 ┆ 0.681818 ┆ 0.681818 │\n",
       "│ 9969  ┆ 0.875   ┆ 2      ┆ 3               ┆ … ┆ 0.727273 ┆ 0.681818 ┆ 0.681818 ┆ 0.727273 │\n",
       "│ 9970  ┆ 0.875   ┆ 2      ┆ 3               ┆ … ┆ 0.681818 ┆ 0.681818 ┆ 0.727273 ┆ 0.727273 │\n",
       "│ …     ┆ …       ┆ …      ┆ …               ┆ … ┆ …        ┆ …        ┆ …        ┆ …        │\n",
       "│ 10317 ┆ 0.90625 ┆ 2      ┆ 2               ┆ … ┆ 0.590909 ┆ 0.681818 ┆ 0.727273 ┆ 0.772727 │\n",
       "│ 10318 ┆ 0.90625 ┆ 2      ┆ 2               ┆ … ┆ 0.681818 ┆ 0.727273 ┆ 0.772727 ┆ 0.727273 │\n",
       "│ 10319 ┆ 0.90625 ┆ 2      ┆ 2               ┆ … ┆ 0.727273 ┆ 0.772727 ┆ 0.727273 ┆ 0.727273 │\n",
       "│ 10320 ┆ 0.90625 ┆ 2      ┆ 2               ┆ … ┆ 0.772727 ┆ 0.727273 ┆ 0.727273 ┆ 0.727273 │\n",
       "│ 10321 ┆ 0.90625 ┆ 2      ┆ 2               ┆ … ┆ 0.727273 ┆ 0.727273 ┆ 0.727273 ┆ 0.681818 │\n",
       "└───────┴─────────┴────────┴─────────────────┴───┴──────────┴──────────┴──────────┴──────────┘"
      ]
     },
     "execution_count": 24,
     "metadata": {},
     "output_type": "execute_result"
    }
   ],
   "source": [
    "final_index = X.select(pl.len()).collect().item()\n",
    "final_year_start = final_index - 356\n",
    "X_test = X.filter(pl.col(\"index\") >= final_year_start)\n",
    "X_test.collect()"
   ]
  },
  {
   "cell_type": "code",
   "execution_count": 25,
   "id": "118fd854-a913-41c5-913e-1870bb5a9e8f",
   "metadata": {},
   "outputs": [
    {
     "data": {
      "text/html": [
       "<div><style>\n",
       ".dataframe > thead > tr,\n",
       ".dataframe > tbody > tr {\n",
       "  text-align: right;\n",
       "  white-space: pre-wrap;\n",
       "}\n",
       "</style>\n",
       "<small>shape: (356, 2)</small><table border=\"1\" class=\"dataframe\"><thead><tr><th>index</th><th>TEMP</th></tr><tr><td>u32</td><td>i64</td></tr></thead><tbody><tr><td>9966</td><td>78</td></tr><tr><td>9967</td><td>79</td></tr><tr><td>9968</td><td>77</td></tr><tr><td>9969</td><td>78</td></tr><tr><td>9970</td><td>77</td></tr><tr><td>&hellip;</td><td>&hellip;</td></tr><tr><td>10317</td><td>79</td></tr><tr><td>10318</td><td>81</td></tr><tr><td>10319</td><td>80</td></tr><tr><td>10320</td><td>78</td></tr><tr><td>10321</td><td>78</td></tr></tbody></table></div>"
      ],
      "text/plain": [
       "shape: (356, 2)\n",
       "┌───────┬──────┐\n",
       "│ index ┆ TEMP │\n",
       "│ ---   ┆ ---  │\n",
       "│ u32   ┆ i64  │\n",
       "╞═══════╪══════╡\n",
       "│ 9966  ┆ 78   │\n",
       "│ 9967  ┆ 79   │\n",
       "│ 9968  ┆ 77   │\n",
       "│ 9969  ┆ 78   │\n",
       "│ 9970  ┆ 77   │\n",
       "│ …     ┆ …    │\n",
       "│ 10317 ┆ 79   │\n",
       "│ 10318 ┆ 81   │\n",
       "│ 10319 ┆ 80   │\n",
       "│ 10320 ┆ 78   │\n",
       "│ 10321 ┆ 78   │\n",
       "└───────┴──────┘"
      ]
     },
     "execution_count": 25,
     "metadata": {},
     "output_type": "execute_result"
    }
   ],
   "source": [
    "y_test = y.filter(pl.col(\"index\").is_in(X_test.select(\"index\").collect().to_series().to_list()))\n",
    "y_test.collect()"
   ]
  },
  {
   "cell_type": "code",
   "execution_count": 26,
   "id": "01334aa2-89f9-43e0-aabf-85dfe58f09ce",
   "metadata": {},
   "outputs": [
    {
     "data": {
      "text/html": [
       "<div><style>\n",
       ".dataframe > thead > tr,\n",
       ".dataframe > tbody > tr {\n",
       "  text-align: right;\n",
       "  white-space: pre-wrap;\n",
       "}\n",
       "</style>\n",
       "<small>shape: (9_966, 20)</small><table border=\"1\" class=\"dataframe\"><thead><tr><th>index</th><th>YEAR</th><th>SEASON</th><th>SOLSTICE_SEASON</th><th>SPRING</th><th>SUMMER</th><th>AUTUMN</th><th>WINTER</th><th>MONTH_SIN</th><th>MONTH_COS</th><th>DAY_SIN</th><th>DAY_COS</th><th>TEMP_t-1</th><th>TEMP_t-2</th><th>TEMP_t-3</th><th>TEMP_t-4</th><th>TEMP_t-5</th><th>TEMP_t-6</th><th>TEMP_t-7</th><th>TEMP_t-8</th></tr><tr><td>u32</td><td>f64</td><td>i32</td><td>i32</td><td>i32</td><td>i32</td><td>i32</td><td>i32</td><td>f64</td><td>f64</td><td>f64</td><td>f64</td><td>f64</td><td>f64</td><td>f64</td><td>f64</td><td>f64</td><td>f64</td><td>f64</td><td>f64</td></tr></thead><tbody><tr><td>0</td><td>0.0</td><td>2</td><td>2</td><td>0</td><td>1</td><td>0</td><td>0</td><td>-0.281733</td><td>-0.959493</td><td>0.0</td><td>1.0</td><td>0.863636</td><td>0.818182</td><td>0.681818</td><td>0.727273</td><td>0.818182</td><td>0.772727</td><td>0.818182</td><td>0.772727</td></tr><tr><td>1</td><td>0.0</td><td>2</td><td>2</td><td>0</td><td>1</td><td>0</td><td>0</td><td>-0.281733</td><td>-0.959493</td><td>0.207912</td><td>0.978148</td><td>0.818182</td><td>0.681818</td><td>0.727273</td><td>0.818182</td><td>0.772727</td><td>0.818182</td><td>0.772727</td><td>0.863636</td></tr><tr><td>2</td><td>0.0</td><td>2</td><td>2</td><td>0</td><td>1</td><td>0</td><td>0</td><td>-0.281733</td><td>-0.959493</td><td>0.406737</td><td>0.913545</td><td>0.681818</td><td>0.727273</td><td>0.818182</td><td>0.772727</td><td>0.818182</td><td>0.772727</td><td>0.863636</td><td>0.818182</td></tr><tr><td>3</td><td>0.0</td><td>2</td><td>2</td><td>0</td><td>1</td><td>0</td><td>0</td><td>-0.281733</td><td>-0.959493</td><td>0.587785</td><td>0.809017</td><td>0.727273</td><td>0.818182</td><td>0.772727</td><td>0.818182</td><td>0.772727</td><td>0.863636</td><td>0.818182</td><td>0.818182</td></tr><tr><td>4</td><td>0.0</td><td>2</td><td>2</td><td>0</td><td>1</td><td>0</td><td>0</td><td>-0.281733</td><td>-0.959493</td><td>0.743145</td><td>0.669131</td><td>0.818182</td><td>0.772727</td><td>0.818182</td><td>0.772727</td><td>0.863636</td><td>0.818182</td><td>0.818182</td><td>0.772727</td></tr><tr><td>&hellip;</td><td>&hellip;</td><td>&hellip;</td><td>&hellip;</td><td>&hellip;</td><td>&hellip;</td><td>&hellip;</td><td>&hellip;</td><td>&hellip;</td><td>&hellip;</td><td>&hellip;</td><td>&hellip;</td><td>&hellip;</td><td>&hellip;</td><td>&hellip;</td><td>&hellip;</td><td>&hellip;</td><td>&hellip;</td><td>&hellip;</td><td>&hellip;</td></tr><tr><td>9961</td><td>0.875</td><td>3</td><td>3</td><td>1</td><td>0</td><td>0</td><td>0</td><td>0.75575</td><td>-0.654861</td><td>-0.406737</td><td>0.913545</td><td>0.590909</td><td>0.590909</td><td>0.590909</td><td>0.681818</td><td>0.636364</td><td>0.681818</td><td>0.590909</td><td>0.636364</td></tr><tr><td>9962</td><td>0.875</td><td>3</td><td>3</td><td>1</td><td>0</td><td>0</td><td>0</td><td>0.75575</td><td>-0.654861</td><td>-0.207912</td><td>0.978148</td><td>0.590909</td><td>0.590909</td><td>0.681818</td><td>0.636364</td><td>0.681818</td><td>0.590909</td><td>0.636364</td><td>0.590909</td></tr><tr><td>9963</td><td>0.875</td><td>3</td><td>3</td><td>1</td><td>0</td><td>0</td><td>0</td><td>0.75575</td><td>-0.654861</td><td>-2.4493e-16</td><td>1.0</td><td>0.590909</td><td>0.681818</td><td>0.636364</td><td>0.681818</td><td>0.590909</td><td>0.636364</td><td>0.590909</td><td>0.590909</td></tr><tr><td>9964</td><td>0.875</td><td>2</td><td>3</td><td>1</td><td>0</td><td>0</td><td>0</td><td>0.281733</td><td>-0.959493</td><td>0.0</td><td>1.0</td><td>0.681818</td><td>0.636364</td><td>0.681818</td><td>0.590909</td><td>0.636364</td><td>0.590909</td><td>0.590909</td><td>0.636364</td></tr><tr><td>9965</td><td>0.875</td><td>2</td><td>3</td><td>1</td><td>0</td><td>0</td><td>0</td><td>0.281733</td><td>-0.959493</td><td>0.207912</td><td>0.978148</td><td>0.636364</td><td>0.681818</td><td>0.590909</td><td>0.636364</td><td>0.590909</td><td>0.590909</td><td>0.636364</td><td>0.727273</td></tr></tbody></table></div>"
      ],
      "text/plain": [
       "shape: (9_966, 20)\n",
       "┌───────┬───────┬────────┬─────────────────┬───┬──────────┬──────────┬──────────┬──────────┐\n",
       "│ index ┆ YEAR  ┆ SEASON ┆ SOLSTICE_SEASON ┆ … ┆ TEMP_t-5 ┆ TEMP_t-6 ┆ TEMP_t-7 ┆ TEMP_t-8 │\n",
       "│ ---   ┆ ---   ┆ ---    ┆ ---             ┆   ┆ ---      ┆ ---      ┆ ---      ┆ ---      │\n",
       "│ u32   ┆ f64   ┆ i32    ┆ i32             ┆   ┆ f64      ┆ f64      ┆ f64      ┆ f64      │\n",
       "╞═══════╪═══════╪════════╪═════════════════╪═══╪══════════╪══════════╪══════════╪══════════╡\n",
       "│ 0     ┆ 0.0   ┆ 2      ┆ 2               ┆ … ┆ 0.818182 ┆ 0.772727 ┆ 0.818182 ┆ 0.772727 │\n",
       "│ 1     ┆ 0.0   ┆ 2      ┆ 2               ┆ … ┆ 0.772727 ┆ 0.818182 ┆ 0.772727 ┆ 0.863636 │\n",
       "│ 2     ┆ 0.0   ┆ 2      ┆ 2               ┆ … ┆ 0.818182 ┆ 0.772727 ┆ 0.863636 ┆ 0.818182 │\n",
       "│ 3     ┆ 0.0   ┆ 2      ┆ 2               ┆ … ┆ 0.772727 ┆ 0.863636 ┆ 0.818182 ┆ 0.818182 │\n",
       "│ 4     ┆ 0.0   ┆ 2      ┆ 2               ┆ … ┆ 0.863636 ┆ 0.818182 ┆ 0.818182 ┆ 0.772727 │\n",
       "│ …     ┆ …     ┆ …      ┆ …               ┆ … ┆ …        ┆ …        ┆ …        ┆ …        │\n",
       "│ 9961  ┆ 0.875 ┆ 3      ┆ 3               ┆ … ┆ 0.636364 ┆ 0.681818 ┆ 0.590909 ┆ 0.636364 │\n",
       "│ 9962  ┆ 0.875 ┆ 3      ┆ 3               ┆ … ┆ 0.681818 ┆ 0.590909 ┆ 0.636364 ┆ 0.590909 │\n",
       "│ 9963  ┆ 0.875 ┆ 3      ┆ 3               ┆ … ┆ 0.590909 ┆ 0.636364 ┆ 0.590909 ┆ 0.590909 │\n",
       "│ 9964  ┆ 0.875 ┆ 2      ┆ 3               ┆ … ┆ 0.636364 ┆ 0.590909 ┆ 0.590909 ┆ 0.636364 │\n",
       "│ 9965  ┆ 0.875 ┆ 2      ┆ 3               ┆ … ┆ 0.590909 ┆ 0.590909 ┆ 0.636364 ┆ 0.727273 │\n",
       "└───────┴───────┴────────┴─────────────────┴───┴──────────┴──────────┴──────────┴──────────┘"
      ]
     },
     "execution_count": 26,
     "metadata": {},
     "output_type": "execute_result"
    }
   ],
   "source": [
    "X_train = X.filter(~pl.col(\"index\").is_in(X_test.select(\"index\").collect().to_series().to_list()))\n",
    "X_train.collect()"
   ]
  },
  {
   "cell_type": "code",
   "execution_count": 27,
   "id": "d27021fd-9117-4c0a-b02d-c99c6c52d382",
   "metadata": {},
   "outputs": [
    {
     "data": {
      "text/html": [
       "<div><style>\n",
       ".dataframe > thead > tr,\n",
       ".dataframe > tbody > tr {\n",
       "  text-align: right;\n",
       "  white-space: pre-wrap;\n",
       "}\n",
       "</style>\n",
       "<small>shape: (9_966, 2)</small><table border=\"1\" class=\"dataframe\"><thead><tr><th>index</th><th>TEMP</th></tr><tr><td>u32</td><td>i64</td></tr></thead><tbody><tr><td>0</td><td>83</td></tr><tr><td>1</td><td>83</td></tr><tr><td>2</td><td>82</td></tr><tr><td>3</td><td>79</td></tr><tr><td>4</td><td>80</td></tr><tr><td>&hellip;</td><td>&hellip;</td></tr><tr><td>9961</td><td>77</td></tr><tr><td>9962</td><td>77</td></tr><tr><td>9963</td><td>77</td></tr><tr><td>9964</td><td>77</td></tr><tr><td>9965</td><td>79</td></tr></tbody></table></div>"
      ],
      "text/plain": [
       "shape: (9_966, 2)\n",
       "┌───────┬──────┐\n",
       "│ index ┆ TEMP │\n",
       "│ ---   ┆ ---  │\n",
       "│ u32   ┆ i64  │\n",
       "╞═══════╪══════╡\n",
       "│ 0     ┆ 83   │\n",
       "│ 1     ┆ 83   │\n",
       "│ 2     ┆ 82   │\n",
       "│ 3     ┆ 79   │\n",
       "│ 4     ┆ 80   │\n",
       "│ …     ┆ …    │\n",
       "│ 9961  ┆ 77   │\n",
       "│ 9962  ┆ 77   │\n",
       "│ 9963  ┆ 77   │\n",
       "│ 9964  ┆ 77   │\n",
       "│ 9965  ┆ 79   │\n",
       "└───────┴──────┘"
      ]
     },
     "execution_count": 27,
     "metadata": {},
     "output_type": "execute_result"
    }
   ],
   "source": [
    "y_train = y.filter(pl.col(\"index\").is_in(X_train.select(\"index\").collect().to_series().to_list()))\n",
    "y_train.collect()"
   ]
  },
  {
   "cell_type": "markdown",
   "id": "ce43122d-8cc1-441e-a11d-a36f5e8fb364",
   "metadata": {},
   "source": [
    "## Non-ML Forecasting\n",
    "\n",
    "From the autocorrelations, there is seasonality and trend in the data. SARIMA was tested; however, large runtimes prevent it from being used here. Instead, we can use statsmodels STLForecast, which breaks the data into trend and seasonality, and models the trend using ARIMA."
   ]
  },
  {
   "cell_type": "code",
   "execution_count": 28,
   "id": "1da32739-08cc-4dbf-a45d-aa7fe84580c8",
   "metadata": {},
   "outputs": [
    {
     "data": {
      "text/plain": [
       "[<matplotlib.lines.Line2D at 0x1ac4d422140>]"
      ]
     },
     "execution_count": 28,
     "metadata": {},
     "output_type": "execute_result"
    },
    {
     "data": {
      "image/png": "[encoded data removed]",
      "text/plain": [
       "<Figure size 640x480 with 1 Axes>"
      ]
     },
     "metadata": {},
     "output_type": "display_data"
    }
   ],
   "source": [
    "X_data = X_train.select(\"index\").collect().to_series()\n",
    "y_data = y_train.select(\"TEMP\").collect().to_series()\n",
    "plt.plot(X_data, y_data)"
   ]
  },
  {
   "cell_type": "code",
   "execution_count": null,
   "id": "79fe9028-294d-4258-85a4-cfaa1aa26e55",
   "metadata": {},
   "outputs": [
    {
     "name": "stdout",
     "output_type": "stream",
     "text": [
      "(0, 0, 0): 100724.18869178976; Minimum bic - (0, 0, 0): 100724.18869178976 \n",
      "(0, 0, 1): 87664.71732929004; Minimum bic - (0, 0, 1): 87664.71732929004 \n",
      "(0, 0, 2): 77261.20591768; Minimum bic - (0, 0, 2): 77261.20591768 \n",
      "(0, 0, 3): 69519.19357257344; Minimum bic - (0, 0, 3): 69519.19357257344 \n",
      "(0, 0, 4): 64043.86965491475; Minimum bic - (0, 0, 4): 64043.86965491475 \n"
     ]
    },
    {
     "name": "stderr",
     "output_type": "stream",
     "text": [
      "C:\\Users\\prest\\anaconda3\\envs\\APTCAST\\lib\\site-packages\\scipy\\optimize\\_numdiff.py:596: RuntimeWarning: invalid value encountered in subtract\n",
      "  df = fun(x1) - f0\n"
     ]
    },
    {
     "name": "stdout",
     "output_type": "stream",
     "text": [
      "(0, 0, 5): 73254.97049454693; Minimum bic - (0, 0, 4): 64043.86965491475 \n"
     ]
    },
    {
     "name": "stderr",
     "output_type": "stream",
     "text": [
      "C:\\Users\\prest\\anaconda3\\envs\\APTCAST\\lib\\site-packages\\statsmodels\\base\\model.py:607: ConvergenceWarning: Maximum Likelihood optimization failed to converge. Check mle_retvals\n",
      "  warnings.warn(\"Maximum Likelihood optimization failed to \"\n"
     ]
    },
    {
     "name": "stdout",
     "output_type": "stream",
     "text": [
      "(0, 0, 6): 56706.36328820562; Minimum bic - (0, 0, 6): 56706.36328820562 \n"
     ]
    },
    {
     "name": "stderr",
     "output_type": "stream",
     "text": [
      "C:\\Users\\prest\\anaconda3\\envs\\APTCAST\\lib\\site-packages\\statsmodels\\base\\model.py:607: ConvergenceWarning: Maximum Likelihood optimization failed to converge. Check mle_retvals\n",
      "  warnings.warn(\"Maximum Likelihood optimization failed to \"\n"
     ]
    },
    {
     "name": "stdout",
     "output_type": "stream",
     "text": [
      "(0, 0, 7): 54335.17035985688; Minimum bic - (0, 0, 7): 54335.17035985688 \n",
      "(0, 0, 8): 52311.50598386722; Minimum bic - (0, 0, 8): 52311.50598386722 \n",
      "(0, 0, 9): 9.91186988159996e+18; Minimum bic - (0, 0, 8): 52311.50598386722 \n",
      "(0, 1, 0): 37954.80729023112; Minimum bic - (0, 1, 0): 37954.80729023112 \n",
      "(0, 1, 1): 36310.81710282249; Minimum bic - (0, 1, 1): 36310.81710282249 \n",
      "(0, 1, 2): 35562.851956870734; Minimum bic - (0, 1, 2): 35562.851956870734 \n",
      "(0, 1, 3): 35253.945609925504; Minimum bic - (0, 1, 3): 35253.945609925504 \n",
      "(0, 1, 4): 35182.07773582816; Minimum bic - (0, 1, 4): 35182.07773582816 \n",
      "(0, 1, 5): 35174.60230462944; Minimum bic - (0, 1, 5): 35174.60230462944 \n",
      "(0, 1, 6): 35181.48596378362; Minimum bic - (0, 1, 5): 35174.60230462944 \n",
      "(0, 1, 7): 35189.744176206594; Minimum bic - (0, 1, 5): 35174.60230462944 \n",
      "(0, 1, 8): 35197.64462487618; Minimum bic - (0, 1, 5): 35174.60230462944 \n",
      "(0, 1, 9): 35205.17448043257; Minimum bic - (0, 1, 5): 35174.60230462944 \n",
      "(1, 0, 0): 37971.314935356764; Minimum bic - (0, 1, 5): 35174.60230462944 \n",
      "(1, 0, 1): 36341.382920331955; Minimum bic - (0, 1, 5): 35174.60230462944 \n",
      "(1, 0, 2): 35583.580993348434; Minimum bic - (0, 1, 5): 35174.60230462944 \n"
     ]
    },
    {
     "name": "stderr",
     "output_type": "stream",
     "text": [
      "C:\\Users\\prest\\anaconda3\\envs\\APTCAST\\lib\\site-packages\\statsmodels\\base\\model.py:607: ConvergenceWarning: Maximum Likelihood optimization failed to converge. Check mle_retvals\n",
      "  warnings.warn(\"Maximum Likelihood optimization failed to \"\n"
     ]
    },
    {
     "name": "stdout",
     "output_type": "stream",
     "text": [
      "(1, 0, 3): 35275.07954771143; Minimum bic - (0, 1, 5): 35174.60230462944 \n"
     ]
    },
    {
     "name": "stderr",
     "output_type": "stream",
     "text": [
      "C:\\Users\\prest\\anaconda3\\envs\\APTCAST\\lib\\site-packages\\statsmodels\\base\\model.py:607: ConvergenceWarning: Maximum Likelihood optimization failed to converge. Check mle_retvals\n",
      "  warnings.warn(\"Maximum Likelihood optimization failed to \"\n"
     ]
    },
    {
     "name": "stdout",
     "output_type": "stream",
     "text": [
      "(1, 0, 4): 35202.82121841187; Minimum bic - (0, 1, 5): 35174.60230462944 \n",
      "(1, 0, 5): 35297.485195852125; Minimum bic - (0, 1, 5): 35174.60230462944 \n"
     ]
    },
    {
     "name": "stderr",
     "output_type": "stream",
     "text": [
      "C:\\Users\\prest\\anaconda3\\envs\\APTCAST\\lib\\site-packages\\statsmodels\\base\\model.py:607: ConvergenceWarning: Maximum Likelihood optimization failed to converge. Check mle_retvals\n",
      "  warnings.warn(\"Maximum Likelihood optimization failed to \"\n"
     ]
    },
    {
     "name": "stdout",
     "output_type": "stream",
     "text": [
      "(1, 0, 6): 35210.39947461938; Minimum bic - (0, 1, 5): 35174.60230462944 \n"
     ]
    },
    {
     "name": "stderr",
     "output_type": "stream",
     "text": [
      "C:\\Users\\prest\\anaconda3\\envs\\APTCAST\\lib\\site-packages\\statsmodels\\base\\model.py:607: ConvergenceWarning: Maximum Likelihood optimization failed to converge. Check mle_retvals\n",
      "  warnings.warn(\"Maximum Likelihood optimization failed to \"\n"
     ]
    },
    {
     "name": "stdout",
     "output_type": "stream",
     "text": [
      "(1, 0, 7): 35221.41715165844; Minimum bic - (0, 1, 5): 35174.60230462944 \n"
     ]
    },
    {
     "name": "stderr",
     "output_type": "stream",
     "text": [
      "C:\\Users\\prest\\anaconda3\\envs\\APTCAST\\lib\\site-packages\\statsmodels\\base\\model.py:607: ConvergenceWarning: Maximum Likelihood optimization failed to converge. Check mle_retvals\n",
      "  warnings.warn(\"Maximum Likelihood optimization failed to \"\n"
     ]
    },
    {
     "name": "stdout",
     "output_type": "stream",
     "text": [
      "(1, 0, 8): 35258.97525252897; Minimum bic - (0, 1, 5): 35174.60230462944 \n"
     ]
    },
    {
     "name": "stderr",
     "output_type": "stream",
     "text": [
      "C:\\Users\\prest\\anaconda3\\envs\\APTCAST\\lib\\site-packages\\statsmodels\\base\\model.py:607: ConvergenceWarning: Maximum Likelihood optimization failed to converge. Check mle_retvals\n",
      "  warnings.warn(\"Maximum Likelihood optimization failed to \"\n"
     ]
    },
    {
     "name": "stdout",
     "output_type": "stream",
     "text": [
      "(1, 0, 9): 35346.53860411784; Minimum bic - (0, 1, 5): 35174.60230462944 \n",
      "(1, 1, 0): 36975.128529849855; Minimum bic - (0, 1, 5): 35174.60230462944 \n",
      "(1, 1, 1): 35175.08289881418; Minimum bic - (0, 1, 5): 35174.60230462944 \n",
      "(1, 1, 2): 35159.74655691873; Minimum bic - (1, 1, 2): 35159.74655691873 \n",
      "(1, 1, 3): 35164.80762995293; Minimum bic - (1, 1, 2): 35159.74655691873 \n",
      "(1, 1, 4): 35173.04230319778; Minimum bic - (1, 1, 2): 35159.74655691873 \n"
     ]
    },
    {
     "name": "stderr",
     "output_type": "stream",
     "text": [
      "C:\\Users\\prest\\anaconda3\\envs\\APTCAST\\lib\\site-packages\\statsmodels\\base\\model.py:607: ConvergenceWarning: Maximum Likelihood optimization failed to converge. Check mle_retvals\n",
      "  warnings.warn(\"Maximum Likelihood optimization failed to \"\n"
     ]
    },
    {
     "name": "stdout",
     "output_type": "stream",
     "text": [
      "(1, 1, 5): 35186.55201999154; Minimum bic - (1, 1, 2): 35159.74655691873 \n"
     ]
    },
    {
     "name": "stderr",
     "output_type": "stream",
     "text": [
      "C:\\Users\\prest\\anaconda3\\envs\\APTCAST\\lib\\site-packages\\statsmodels\\base\\model.py:607: ConvergenceWarning: Maximum Likelihood optimization failed to converge. Check mle_retvals\n",
      "  warnings.warn(\"Maximum Likelihood optimization failed to \"\n"
     ]
    },
    {
     "name": "stdout",
     "output_type": "stream",
     "text": [
      "(1, 1, 6): 35189.58093071216; Minimum bic - (1, 1, 2): 35159.74655691873 \n",
      "(1, 1, 7): 35199.66728038972; Minimum bic - (1, 1, 2): 35159.74655691873 \n",
      "(1, 1, 8): 35208.14872531522; Minimum bic - (1, 1, 2): 35159.74655691873 \n",
      "(1, 1, 9): 35214.680135131486; Minimum bic - (1, 1, 2): 35159.74655691873 \n",
      "(2, 0, 0): 36993.86982285046; Minimum bic - (1, 1, 2): 35159.74655691873 \n"
     ]
    },
    {
     "name": "stderr",
     "output_type": "stream",
     "text": [
      "C:\\Users\\prest\\anaconda3\\envs\\APTCAST\\lib\\site-packages\\statsmodels\\base\\model.py:607: ConvergenceWarning: Maximum Likelihood optimization failed to converge. Check mle_retvals\n",
      "  warnings.warn(\"Maximum Likelihood optimization failed to \"\n"
     ]
    },
    {
     "name": "stdout",
     "output_type": "stream",
     "text": [
      "(2, 0, 1): 35195.828056728176; Minimum bic - (1, 1, 2): 35159.74655691873 \n"
     ]
    },
    {
     "name": "stderr",
     "output_type": "stream",
     "text": [
      "C:\\Users\\prest\\anaconda3\\envs\\APTCAST\\lib\\site-packages\\statsmodels\\base\\model.py:607: ConvergenceWarning: Maximum Likelihood optimization failed to converge. Check mle_retvals\n",
      "  warnings.warn(\"Maximum Likelihood optimization failed to \"\n"
     ]
    },
    {
     "name": "stdout",
     "output_type": "stream",
     "text": [
      "(2, 0, 2): 35190.20850176445; Minimum bic - (1, 1, 2): 35159.74655691873 \n"
     ]
    },
    {
     "name": "stderr",
     "output_type": "stream",
     "text": [
      "C:\\Users\\prest\\anaconda3\\envs\\APTCAST\\lib\\site-packages\\statsmodels\\base\\model.py:607: ConvergenceWarning: Maximum Likelihood optimization failed to converge. Check mle_retvals\n",
      "  warnings.warn(\"Maximum Likelihood optimization failed to \"\n"
     ]
    },
    {
     "name": "stdout",
     "output_type": "stream",
     "text": [
      "(2, 0, 3): 35278.93908157512; Minimum bic - (1, 1, 2): 35159.74655691873 \n",
      "(2, 0, 4): 35292.291938932874; Minimum bic - (1, 1, 2): 35159.74655691873 \n"
     ]
    },
    {
     "name": "stderr",
     "output_type": "stream",
     "text": [
      "C:\\Users\\prest\\anaconda3\\envs\\APTCAST\\lib\\site-packages\\statsmodels\\base\\model.py:607: ConvergenceWarning: Maximum Likelihood optimization failed to converge. Check mle_retvals\n",
      "  warnings.warn(\"Maximum Likelihood optimization failed to \"\n"
     ]
    },
    {
     "name": "stdout",
     "output_type": "stream",
     "text": [
      "(2, 0, 5): 35221.92144439879; Minimum bic - (1, 1, 2): 35159.74655691873 \n"
     ]
    },
    {
     "name": "stderr",
     "output_type": "stream",
     "text": [
      "C:\\Users\\prest\\anaconda3\\envs\\APTCAST\\lib\\site-packages\\statsmodels\\base\\model.py:607: ConvergenceWarning: Maximum Likelihood optimization failed to converge. Check mle_retvals\n",
      "  warnings.warn(\"Maximum Likelihood optimization failed to \"\n"
     ]
    },
    {
     "name": "stdout",
     "output_type": "stream",
     "text": [
      "(2, 0, 6): 35210.79351394513; Minimum bic - (1, 1, 2): 35159.74655691873 \n"
     ]
    },
    {
     "name": "stderr",
     "output_type": "stream",
     "text": [
      "C:\\Users\\prest\\anaconda3\\envs\\APTCAST\\lib\\site-packages\\statsmodels\\base\\model.py:607: ConvergenceWarning: Maximum Likelihood optimization failed to converge. Check mle_retvals\n",
      "  warnings.warn(\"Maximum Likelihood optimization failed to \"\n"
     ]
    },
    {
     "name": "stdout",
     "output_type": "stream",
     "text": [
      "(2, 0, 7): 35219.531308584556; Minimum bic - (1, 1, 2): 35159.74655691873 \n"
     ]
    },
    {
     "name": "stderr",
     "output_type": "stream",
     "text": [
      "C:\\Users\\prest\\anaconda3\\envs\\APTCAST\\lib\\site-packages\\statsmodels\\base\\model.py:607: ConvergenceWarning: Maximum Likelihood optimization failed to converge. Check mle_retvals\n",
      "  warnings.warn(\"Maximum Likelihood optimization failed to \"\n"
     ]
    },
    {
     "name": "stdout",
     "output_type": "stream",
     "text": [
      "(2, 0, 8): 35234.93612103878; Minimum bic - (1, 1, 2): 35159.74655691873 \n"
     ]
    },
    {
     "name": "stderr",
     "output_type": "stream",
     "text": [
      "C:\\Users\\prest\\anaconda3\\envs\\APTCAST\\lib\\site-packages\\statsmodels\\base\\model.py:607: ConvergenceWarning: Maximum Likelihood optimization failed to converge. Check mle_retvals\n",
      "  warnings.warn(\"Maximum Likelihood optimization failed to \"\n"
     ]
    },
    {
     "name": "stdout",
     "output_type": "stream",
     "text": [
      "(2, 0, 9): 35242.62917064635; Minimum bic - (1, 1, 2): 35159.74655691873 \n",
      "(2, 1, 0): 36644.41084284283; Minimum bic - (1, 1, 2): 35159.74655691873 \n",
      "(2, 1, 1): 35157.83494212325; Minimum bic - (2, 1, 1): 35157.83494212325 \n",
      "(2, 1, 2): 35165.87326682608; Minimum bic - (2, 1, 1): 35157.83494212325 \n",
      "(2, 1, 3): 35177.67483001907; Minimum bic - (2, 1, 1): 35157.83494212325 \n",
      "(2, 1, 4): 35182.53029172212; Minimum bic - (2, 1, 1): 35157.83494212325 \n",
      "(2, 1, 5): 35191.38916128159; Minimum bic - (2, 1, 1): 35157.83494212325 \n",
      "(2, 1, 6): 35198.3788332464; Minimum bic - (2, 1, 1): 35157.83494212325 \n",
      "(2, 1, 7): 35207.52013269609; Minimum bic - (2, 1, 1): 35157.83494212325 \n",
      "(2, 1, 8): 35216.291153979255; Minimum bic - (2, 1, 1): 35157.83494212325 \n"
     ]
    },
    {
     "name": "stderr",
     "output_type": "stream",
     "text": [
      "C:\\Users\\prest\\anaconda3\\envs\\APTCAST\\lib\\site-packages\\statsmodels\\base\\model.py:607: ConvergenceWarning: Maximum Likelihood optimization failed to converge. Check mle_retvals\n",
      "  warnings.warn(\"Maximum Likelihood optimization failed to \"\n"
     ]
    },
    {
     "name": "stdout",
     "output_type": "stream",
     "text": [
      "(2, 1, 9): 35220.48086915631; Minimum bic - (2, 1, 1): 35157.83494212325 \n",
      "(3, 0, 0): 36663.9223856505; Minimum bic - (2, 1, 1): 35157.83494212325 \n"
     ]
    },
    {
     "name": "stderr",
     "output_type": "stream",
     "text": [
      "C:\\Users\\prest\\anaconda3\\envs\\APTCAST\\lib\\site-packages\\statsmodels\\base\\model.py:607: ConvergenceWarning: Maximum Likelihood optimization failed to converge. Check mle_retvals\n",
      "  warnings.warn(\"Maximum Likelihood optimization failed to \"\n"
     ]
    },
    {
     "name": "stdout",
     "output_type": "stream",
     "text": [
      "(3, 0, 1): 35794.71760335979; Minimum bic - (2, 1, 1): 35157.83494212325 \n"
     ]
    },
    {
     "name": "stderr",
     "output_type": "stream",
     "text": [
      "C:\\Users\\prest\\anaconda3\\envs\\APTCAST\\lib\\site-packages\\statsmodels\\base\\model.py:607: ConvergenceWarning: Maximum Likelihood optimization failed to converge. Check mle_retvals\n",
      "  warnings.warn(\"Maximum Likelihood optimization failed to \"\n"
     ]
    },
    {
     "name": "stdout",
     "output_type": "stream",
     "text": [
      "(3, 0, 2): 35213.16177908728; Minimum bic - (2, 1, 1): 35157.83494212325 \n"
     ]
    },
    {
     "name": "stderr",
     "output_type": "stream",
     "text": [
      "C:\\Users\\prest\\anaconda3\\envs\\APTCAST\\lib\\site-packages\\statsmodels\\base\\model.py:607: ConvergenceWarning: Maximum Likelihood optimization failed to converge. Check mle_retvals\n",
      "  warnings.warn(\"Maximum Likelihood optimization failed to \"\n"
     ]
    },
    {
     "name": "stdout",
     "output_type": "stream",
     "text": [
      "(3, 0, 3): 35199.42438981596; Minimum bic - (2, 1, 1): 35157.83494212325 \n"
     ]
    },
    {
     "name": "stderr",
     "output_type": "stream",
     "text": [
      "C:\\Users\\prest\\anaconda3\\envs\\APTCAST\\lib\\site-packages\\statsmodels\\base\\model.py:607: ConvergenceWarning: Maximum Likelihood optimization failed to converge. Check mle_retvals\n",
      "  warnings.warn(\"Maximum Likelihood optimization failed to \"\n"
     ]
    },
    {
     "name": "stdout",
     "output_type": "stream",
     "text": [
      "(3, 0, 4): 35215.510217834075; Minimum bic - (2, 1, 1): 35157.83494212325 \n"
     ]
    },
    {
     "name": "stderr",
     "output_type": "stream",
     "text": [
      "C:\\Users\\prest\\anaconda3\\envs\\APTCAST\\lib\\site-packages\\statsmodels\\base\\model.py:607: ConvergenceWarning: Maximum Likelihood optimization failed to converge. Check mle_retvals\n",
      "  warnings.warn(\"Maximum Likelihood optimization failed to \"\n"
     ]
    },
    {
     "name": "stdout",
     "output_type": "stream",
     "text": [
      "(3, 0, 5): 35273.19228859435; Minimum bic - (2, 1, 1): 35157.83494212325 \n"
     ]
    },
    {
     "name": "stderr",
     "output_type": "stream",
     "text": [
      "C:\\Users\\prest\\anaconda3\\envs\\APTCAST\\lib\\site-packages\\statsmodels\\base\\model.py:607: ConvergenceWarning: Maximum Likelihood optimization failed to converge. Check mle_retvals\n",
      "  warnings.warn(\"Maximum Likelihood optimization failed to \"\n"
     ]
    },
    {
     "name": "stdout",
     "output_type": "stream",
     "text": [
      "(3, 0, 6): 35235.483536315995; Minimum bic - (2, 1, 1): 35157.83494212325 \n"
     ]
    },
    {
     "name": "stderr",
     "output_type": "stream",
     "text": [
      "C:\\Users\\prest\\anaconda3\\envs\\APTCAST\\lib\\site-packages\\statsmodels\\base\\model.py:607: ConvergenceWarning: Maximum Likelihood optimization failed to converge. Check mle_retvals\n",
      "  warnings.warn(\"Maximum Likelihood optimization failed to \"\n"
     ]
    },
    {
     "name": "stdout",
     "output_type": "stream",
     "text": [
      "(3, 0, 7): 35225.25329413262; Minimum bic - (2, 1, 1): 35157.83494212325 \n"
     ]
    },
    {
     "name": "stderr",
     "output_type": "stream",
     "text": [
      "C:\\Users\\prest\\anaconda3\\envs\\APTCAST\\lib\\site-packages\\statsmodels\\base\\model.py:607: ConvergenceWarning: Maximum Likelihood optimization failed to converge. Check mle_retvals\n",
      "  warnings.warn(\"Maximum Likelihood optimization failed to \"\n"
     ]
    },
    {
     "name": "stdout",
     "output_type": "stream",
     "text": [
      "(3, 0, 8): 35247.726067349446; Minimum bic - (2, 1, 1): 35157.83494212325 \n"
     ]
    },
    {
     "name": "stderr",
     "output_type": "stream",
     "text": [
      "C:\\Users\\prest\\anaconda3\\envs\\APTCAST\\lib\\site-packages\\statsmodels\\base\\model.py:607: ConvergenceWarning: Maximum Likelihood optimization failed to converge. Check mle_retvals\n",
      "  warnings.warn(\"Maximum Likelihood optimization failed to \"\n"
     ]
    },
    {
     "name": "stdout",
     "output_type": "stream",
     "text": [
      "(3, 0, 9): 35241.090291287095; Minimum bic - (2, 1, 1): 35157.83494212325 \n",
      "(3, 1, 0): 36404.50143919201; Minimum bic - (2, 1, 1): 35157.83494212325 \n",
      "(3, 1, 1): 35165.337132512526; Minimum bic - (2, 1, 1): 35157.83494212325 \n",
      "(3, 1, 2): 35176.131695775024; Minimum bic - (2, 1, 1): 35157.83494212325 \n",
      "(3, 1, 3): 35183.114708375804; Minimum bic - (2, 1, 1): 35157.83494212325 \n",
      "(3, 1, 4): 35195.525010659294; Minimum bic - (2, 1, 1): 35157.83494212325 \n",
      "(3, 1, 5): 35201.4344594262; Minimum bic - (2, 1, 1): 35157.83494212325 \n"
     ]
    },
    {
     "name": "stderr",
     "output_type": "stream",
     "text": [
      "C:\\Users\\prest\\anaconda3\\envs\\APTCAST\\lib\\site-packages\\statsmodels\\tsa\\statespace\\sarimax.py:966: UserWarning: Non-stationary starting autoregressive parameters found. Using zeros as starting parameters.\n",
      "  warn('Non-stationary starting autoregressive parameters'\n",
      "C:\\Users\\prest\\anaconda3\\envs\\APTCAST\\lib\\site-packages\\statsmodels\\tsa\\statespace\\sarimax.py:978: UserWarning: Non-invertible starting MA parameters found. Using zeros as starting parameters.\n",
      "  warn('Non-invertible starting MA parameters found.'\n"
     ]
    },
    {
     "name": "stdout",
     "output_type": "stream",
     "text": [
      "(3, 1, 6): 35207.43995359373; Minimum bic - (2, 1, 1): 35157.83494212325 \n"
     ]
    },
    {
     "name": "stderr",
     "output_type": "stream",
     "text": [
      "C:\\Users\\prest\\anaconda3\\envs\\APTCAST\\lib\\site-packages\\statsmodels\\base\\model.py:607: ConvergenceWarning: Maximum Likelihood optimization failed to converge. Check mle_retvals\n",
      "  warnings.warn(\"Maximum Likelihood optimization failed to \"\n"
     ]
    },
    {
     "name": "stdout",
     "output_type": "stream",
     "text": [
      "(3, 1, 7): 35213.100568757334; Minimum bic - (2, 1, 1): 35157.83494212325 \n",
      "(3, 1, 8): 35227.33577832533; Minimum bic - (2, 1, 1): 35157.83494212325 \n"
     ]
    },
    {
     "name": "stderr",
     "output_type": "stream",
     "text": [
      "C:\\Users\\prest\\anaconda3\\envs\\APTCAST\\lib\\site-packages\\statsmodels\\base\\model.py:607: ConvergenceWarning: Maximum Likelihood optimization failed to converge. Check mle_retvals\n",
      "  warnings.warn(\"Maximum Likelihood optimization failed to \"\n"
     ]
    },
    {
     "name": "stdout",
     "output_type": "stream",
     "text": [
      "(3, 1, 9): 35224.73179587267; Minimum bic - (2, 1, 1): 35157.83494212325 \n",
      "(4, 0, 0): 36426.93772154022; Minimum bic - (2, 1, 1): 35157.83494212325 \n"
     ]
    },
    {
     "name": "stderr",
     "output_type": "stream",
     "text": [
      "C:\\Users\\prest\\anaconda3\\envs\\APTCAST\\lib\\site-packages\\statsmodels\\base\\model.py:607: ConvergenceWarning: Maximum Likelihood optimization failed to converge. Check mle_retvals\n",
      "  warnings.warn(\"Maximum Likelihood optimization failed to \"\n"
     ]
    },
    {
     "name": "stdout",
     "output_type": "stream",
     "text": [
      "(4, 0, 1): 35348.49609188875; Minimum bic - (2, 1, 1): 35157.83494212325 \n"
     ]
    },
    {
     "name": "stderr",
     "output_type": "stream",
     "text": [
      "C:\\Users\\prest\\anaconda3\\envs\\APTCAST\\lib\\site-packages\\statsmodels\\base\\model.py:607: ConvergenceWarning: Maximum Likelihood optimization failed to converge. Check mle_retvals\n",
      "  warnings.warn(\"Maximum Likelihood optimization failed to \"\n"
     ]
    },
    {
     "name": "stdout",
     "output_type": "stream",
     "text": [
      "(4, 0, 2): 35203.43666944511; Minimum bic - (2, 1, 1): 35157.83494212325 \n"
     ]
    },
    {
     "name": "stderr",
     "output_type": "stream",
     "text": [
      "C:\\Users\\prest\\anaconda3\\envs\\APTCAST\\lib\\site-packages\\statsmodels\\base\\model.py:607: ConvergenceWarning: Maximum Likelihood optimization failed to converge. Check mle_retvals\n",
      "  warnings.warn(\"Maximum Likelihood optimization failed to \"\n"
     ]
    },
    {
     "name": "stdout",
     "output_type": "stream",
     "text": [
      "(4, 0, 3): 35214.8910316935; Minimum bic - (2, 1, 1): 35157.83494212325 \n"
     ]
    },
    {
     "name": "stderr",
     "output_type": "stream",
     "text": [
      "C:\\Users\\prest\\anaconda3\\envs\\APTCAST\\lib\\site-packages\\statsmodels\\base\\model.py:607: ConvergenceWarning: Maximum Likelihood optimization failed to converge. Check mle_retvals\n",
      "  warnings.warn(\"Maximum Likelihood optimization failed to \"\n"
     ]
    },
    {
     "name": "stdout",
     "output_type": "stream",
     "text": [
      "(4, 0, 4): 35225.507686495715; Minimum bic - (2, 1, 1): 35157.83494212325 \n"
     ]
    },
    {
     "name": "stderr",
     "output_type": "stream",
     "text": [
      "C:\\Users\\prest\\anaconda3\\envs\\APTCAST\\lib\\site-packages\\statsmodels\\base\\model.py:607: ConvergenceWarning: Maximum Likelihood optimization failed to converge. Check mle_retvals\n",
      "  warnings.warn(\"Maximum Likelihood optimization failed to \"\n"
     ]
    },
    {
     "name": "stdout",
     "output_type": "stream",
     "text": [
      "(4, 0, 5): 35221.308358832204; Minimum bic - (2, 1, 1): 35157.83494212325 \n"
     ]
    },
    {
     "name": "stderr",
     "output_type": "stream",
     "text": [
      "C:\\Users\\prest\\anaconda3\\envs\\APTCAST\\lib\\site-packages\\statsmodels\\base\\model.py:607: ConvergenceWarning: Maximum Likelihood optimization failed to converge. Check mle_retvals\n",
      "  warnings.warn(\"Maximum Likelihood optimization failed to \"\n"
     ]
    },
    {
     "name": "stdout",
     "output_type": "stream",
     "text": [
      "(4, 0, 6): 35286.05018199158; Minimum bic - (2, 1, 1): 35157.83494212325 \n"
     ]
    },
    {
     "name": "stderr",
     "output_type": "stream",
     "text": [
      "C:\\Users\\prest\\anaconda3\\envs\\APTCAST\\lib\\site-packages\\statsmodels\\base\\model.py:607: ConvergenceWarning: Maximum Likelihood optimization failed to converge. Check mle_retvals\n",
      "  warnings.warn(\"Maximum Likelihood optimization failed to \"\n"
     ]
    },
    {
     "name": "stdout",
     "output_type": "stream",
     "text": [
      "(4, 0, 7): 35256.4570672765; Minimum bic - (2, 1, 1): 35157.83494212325 \n"
     ]
    },
    {
     "name": "stderr",
     "output_type": "stream",
     "text": [
      "C:\\Users\\prest\\anaconda3\\envs\\APTCAST\\lib\\site-packages\\statsmodels\\base\\model.py:607: ConvergenceWarning: Maximum Likelihood optimization failed to converge. Check mle_retvals\n",
      "  warnings.warn(\"Maximum Likelihood optimization failed to \"\n"
     ]
    },
    {
     "name": "stdout",
     "output_type": "stream",
     "text": [
      "(4, 0, 8): 35299.81510327784; Minimum bic - (2, 1, 1): 35157.83494212325 \n"
     ]
    },
    {
     "name": "stderr",
     "output_type": "stream",
     "text": [
      "C:\\Users\\prest\\anaconda3\\envs\\APTCAST\\lib\\site-packages\\statsmodels\\base\\model.py:607: ConvergenceWarning: Maximum Likelihood optimization failed to converge. Check mle_retvals\n",
      "  warnings.warn(\"Maximum Likelihood optimization failed to \"\n"
     ]
    },
    {
     "name": "stdout",
     "output_type": "stream",
     "text": [
      "(4, 0, 9): 35257.79909562427; Minimum bic - (2, 1, 1): 35157.83494212325 \n"
     ]
    }
   ],
   "source": [
    "p=d=q=range(0, 10)\n",
    "pdq = list(itertools.product(p, d, q))\n",
    "ARIMA = sm.tsa.arima.ARIMA\n",
    "min_param = (0, 0, 0)\n",
    "min_bic = float('inf')\n",
    "sltf = sm.tsa.STLForecast(y_data, ARIMA, period=356)\n",
    "for param in pdq:\n",
    "    try:\n",
    "        sltf = sm.tsa.STLForecast(y_data, ARIMA, model_kwargs=dict(order=param, trend='t'), period=356)\n",
    "        sltf_fit = sltf.fit()\n",
    "        bic = sltf_fit.model_result.bic\n",
    "        min_param, min_bic = (param, bic) if bic < min_bic else (min_param, min_bic)\n",
    "        print(f\"{param}: {sltf_fit.model_result.bic}; Minimum bic - {min_param}: {min_bic} \")\n",
    "    except ValueError as ve: \n",
    "        continue"
   ]
  },
  {
   "cell_type": "code",
   "execution_count": null,
   "id": "011747b6-4c75-4d6b-955a-41eedc844bbf",
   "metadata": {},
   "outputs": [],
   "source": [
    "ARIMA = sm.tsa.arima.ARIMA\n",
    "sltf = sm.tsa.STLForecast(y_data, ARIMA, model_kwargs=dict(order=min_param, trend='t'), period=356)\n",
    "sltf = sltf.fit()\n",
    "forecast = sltf.forecast(y_test.select(pl.len()).collect().item())\n",
    "plt.plot(y_test.select(\"TEMP\").collect().to_series())\n",
    "plt.plot(forecast)"
   ]
  },
  {
   "cell_type": "code",
   "execution_count": null,
   "id": "94a09a8f-2a36-440d-ae15-286d777060c2",
   "metadata": {},
   "outputs": [],
   "source": [
    "mae_loss = mae(y_test.select(\"TEMP\").collect().to_series(), forecast)\n",
    "mse_loss = mse(y_test.select(\"TEMP\").collect().to_series(), forecast)\n",
    "rmse_loss = np.sqrt(mse_loss)\n",
    "print(f\"MAE: {mae_loss}\")\n",
    "print(f\"MSE: {mse_loss}\")\n",
    "print(f\"RMSE: {rmse_loss}\")"
   ]
  },
  {
   "cell_type": "markdown",
   "id": "93157e42-c383-495f-add4-07bb51de3e88",
   "metadata": {},
   "source": [
    "## ML Forecasting\n",
    "\n",
    "From the non-ML forecasting, a RNN model could be created to mitigate some of the error from the STL model. Initial predictions will be the forecasts above. Development of the ML model will continue after precipitation and cloudiness notebooks. Loss function would be a average of mae and rmse."
   ]
  },
  {
   "cell_type": "code",
   "execution_count": null,
   "id": "663e5236-b48e-4672-8938-622adbbf4aa5",
   "metadata": {},
   "outputs": [],
   "source": []
  }
 ],
 "metadata": {
  "kernelspec": {
   "display_name": "Python 3 (ipykernel)",
   "language": "python",
   "name": "python3"
  },
  "language_info": {
   "codemirror_mode": {
    "name": "ipython",
    "version": 3
   },
   "file_extension": ".py",
   "mimetype": "text/x-python",
   "name": "python",
   "nbconvert_exporter": "python",
   "pygments_lexer": "ipython3",
   "version": "3.10.18"
  }
 },
 "nbformat": 4,
 "nbformat_minor": 5
}
