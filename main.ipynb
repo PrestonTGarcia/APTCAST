{
 "cells": [
  {
   "cell_type": "code",
   "execution_count": 1,
   "id": "6b51a091-b546-447f-a61c-2cb499af836e",
   "metadata": {},
   "outputs": [],
   "source": [
    "import polars as pl"
   ]
  },
  {
   "cell_type": "code",
   "execution_count": 2,
   "id": "60eed280-3a82-42c2-bdcd-ff7132a86a66",
   "metadata": {},
   "outputs": [],
   "source": [
    "lf_1996 = pl.scan_csv(\"data/1996to2005.csv\", ignore_errors=True).select(\"DATE\", \"DailyAverageDryBulbTemperature\").drop_nulls()\n",
    "lf_2015 = pl.scan_csv(\"data/2005to2015.csv\", ignore_errors=True).select(\"DATE\", \"DailyAverageDryBulbTemperature\").drop_nulls()\n",
    "lf_2025 = pl.scan_csv(\"data/2015to2025.csv\", ignore_errors=True).select(\"DATE\", \"DailyAverageDryBulbTemperature\").drop_nulls()"
   ]
  },
  {
   "cell_type": "code",
   "execution_count": 3,
   "id": "00474561-6e5c-4924-a825-e30a0ec4e444",
   "metadata": {},
   "outputs": [
    {
     "data": {
      "text/html": [
       "<div><style>\n",
       ".dataframe > thead > tr,\n",
       ".dataframe > tbody > tr {\n",
       "  text-align: right;\n",
       "  white-space: pre-wrap;\n",
       "}\n",
       "</style>\n",
       "<small>shape: (10_332, 2)</small><table border=\"1\" class=\"dataframe\"><thead><tr><th>DATE</th><th>TEMP</th></tr><tr><td>str</td><td>i64</td></tr></thead><tbody><tr><td>&quot;1996-07-01T23:59:00&quot;</td><td>83</td></tr><tr><td>&quot;1996-07-02T23:59:00&quot;</td><td>83</td></tr><tr><td>&quot;1996-07-03T23:59:00&quot;</td><td>82</td></tr><tr><td>&quot;1996-07-04T23:59:00&quot;</td><td>79</td></tr><tr><td>&quot;1996-07-05T23:59:00&quot;</td><td>80</td></tr><tr><td>&hellip;</td><td>&hellip;</td></tr><tr><td>&quot;2025-07-06T23:59:00&quot;</td><td>81</td></tr><tr><td>&quot;2025-07-07T23:59:00&quot;</td><td>80</td></tr><tr><td>&quot;2025-07-08T23:59:00&quot;</td><td>80</td></tr><tr><td>&quot;2025-07-09T23:59:00&quot;</td><td>80</td></tr><tr><td>&quot;2025-07-10T23:59:00&quot;</td><td>79</td></tr></tbody></table></div>"
      ],
      "text/plain": [
       "shape: (10_332, 2)\n",
       "┌─────────────────────┬──────┐\n",
       "│ DATE                ┆ TEMP │\n",
       "│ ---                 ┆ ---  │\n",
       "│ str                 ┆ i64  │\n",
       "╞═════════════════════╪══════╡\n",
       "│ 1996-07-01T23:59:00 ┆ 83   │\n",
       "│ 1996-07-02T23:59:00 ┆ 83   │\n",
       "│ 1996-07-03T23:59:00 ┆ 82   │\n",
       "│ 1996-07-04T23:59:00 ┆ 79   │\n",
       "│ 1996-07-05T23:59:00 ┆ 80   │\n",
       "│ …                   ┆ …    │\n",
       "│ 2025-07-06T23:59:00 ┆ 81   │\n",
       "│ 2025-07-07T23:59:00 ┆ 80   │\n",
       "│ 2025-07-08T23:59:00 ┆ 80   │\n",
       "│ 2025-07-09T23:59:00 ┆ 80   │\n",
       "│ 2025-07-10T23:59:00 ┆ 79   │\n",
       "└─────────────────────┴──────┘"
      ]
     },
     "execution_count": 3,
     "metadata": {},
     "output_type": "execute_result"
    }
   ],
   "source": [
    "lf_1996 = lf_1996.with_columns(\n",
    "    pl.col(\"DailyAverageDryBulbTemperature\").str.replace_all(r\"[^0-9]\", \"\").cast(pl.Int64).alias(\"TEMP\")\n",
    ")\n",
    "\n",
    "lf_1996 = lf_1996.drop(\"DailyAverageDryBulbTemperature\")\n",
    "\n",
    "lf_2015 = lf_2015.rename({\"DailyAverageDryBulbTemperature\": \"TEMP\"})\n",
    "\n",
    "lf_2025 = lf_2025.rename({\"DailyAverageDryBulbTemperature\": \"TEMP\"})\n",
    "\n",
    "lf_full = pl.concat([lf_1996, lf_2015, lf_2025], how=\"vertical\")\n",
    "\n",
    "lf_full.collect()"
   ]
  },
  {
   "cell_type": "code",
   "execution_count": 4,
   "id": "d6c1c3ce-a93e-436e-8448-a7abe9c74d57",
   "metadata": {},
   "outputs": [
    {
     "data": {
      "text/html": [
       "<div><style>\n",
       ".dataframe > thead > tr,\n",
       ".dataframe > tbody > tr {\n",
       "  text-align: right;\n",
       "  white-space: pre-wrap;\n",
       "}\n",
       "</style>\n",
       "<small>shape: (10_332, 8)</small><table border=\"1\" class=\"dataframe\"><thead><tr><th>DATE</th><th>TEMP</th><th>YEAR</th><th>MONTH</th><th>DAY</th><th>HOUR</th><th>MINUTE</th><th>SECOND</th></tr><tr><td>str</td><td>i64</td><td>i32</td><td>i8</td><td>i8</td><td>i8</td><td>i8</td><td>i8</td></tr></thead><tbody><tr><td>&quot;1996-07-01T23:59:00&quot;</td><td>83</td><td>1996</td><td>7</td><td>1</td><td>23</td><td>59</td><td>0</td></tr><tr><td>&quot;1996-07-02T23:59:00&quot;</td><td>83</td><td>1996</td><td>7</td><td>2</td><td>23</td><td>59</td><td>0</td></tr><tr><td>&quot;1996-07-03T23:59:00&quot;</td><td>82</td><td>1996</td><td>7</td><td>3</td><td>23</td><td>59</td><td>0</td></tr><tr><td>&quot;1996-07-04T23:59:00&quot;</td><td>79</td><td>1996</td><td>7</td><td>4</td><td>23</td><td>59</td><td>0</td></tr><tr><td>&quot;1996-07-05T23:59:00&quot;</td><td>80</td><td>1996</td><td>7</td><td>5</td><td>23</td><td>59</td><td>0</td></tr><tr><td>&hellip;</td><td>&hellip;</td><td>&hellip;</td><td>&hellip;</td><td>&hellip;</td><td>&hellip;</td><td>&hellip;</td><td>&hellip;</td></tr><tr><td>&quot;2025-07-06T23:59:00&quot;</td><td>81</td><td>2025</td><td>7</td><td>6</td><td>23</td><td>59</td><td>0</td></tr><tr><td>&quot;2025-07-07T23:59:00&quot;</td><td>80</td><td>2025</td><td>7</td><td>7</td><td>23</td><td>59</td><td>0</td></tr><tr><td>&quot;2025-07-08T23:59:00&quot;</td><td>80</td><td>2025</td><td>7</td><td>8</td><td>23</td><td>59</td><td>0</td></tr><tr><td>&quot;2025-07-09T23:59:00&quot;</td><td>80</td><td>2025</td><td>7</td><td>9</td><td>23</td><td>59</td><td>0</td></tr><tr><td>&quot;2025-07-10T23:59:00&quot;</td><td>79</td><td>2025</td><td>7</td><td>10</td><td>23</td><td>59</td><td>0</td></tr></tbody></table></div>"
      ],
      "text/plain": [
       "shape: (10_332, 8)\n",
       "┌─────────────────────┬──────┬──────┬───────┬─────┬──────┬────────┬────────┐\n",
       "│ DATE                ┆ TEMP ┆ YEAR ┆ MONTH ┆ DAY ┆ HOUR ┆ MINUTE ┆ SECOND │\n",
       "│ ---                 ┆ ---  ┆ ---  ┆ ---   ┆ --- ┆ ---  ┆ ---    ┆ ---    │\n",
       "│ str                 ┆ i64  ┆ i32  ┆ i8    ┆ i8  ┆ i8   ┆ i8     ┆ i8     │\n",
       "╞═════════════════════╪══════╪══════╪═══════╪═════╪══════╪════════╪════════╡\n",
       "│ 1996-07-01T23:59:00 ┆ 83   ┆ 1996 ┆ 7     ┆ 1   ┆ 23   ┆ 59     ┆ 0      │\n",
       "│ 1996-07-02T23:59:00 ┆ 83   ┆ 1996 ┆ 7     ┆ 2   ┆ 23   ┆ 59     ┆ 0      │\n",
       "│ 1996-07-03T23:59:00 ┆ 82   ┆ 1996 ┆ 7     ┆ 3   ┆ 23   ┆ 59     ┆ 0      │\n",
       "│ 1996-07-04T23:59:00 ┆ 79   ┆ 1996 ┆ 7     ┆ 4   ┆ 23   ┆ 59     ┆ 0      │\n",
       "│ 1996-07-05T23:59:00 ┆ 80   ┆ 1996 ┆ 7     ┆ 5   ┆ 23   ┆ 59     ┆ 0      │\n",
       "│ …                   ┆ …    ┆ …    ┆ …     ┆ …   ┆ …    ┆ …      ┆ …      │\n",
       "│ 2025-07-06T23:59:00 ┆ 81   ┆ 2025 ┆ 7     ┆ 6   ┆ 23   ┆ 59     ┆ 0      │\n",
       "│ 2025-07-07T23:59:00 ┆ 80   ┆ 2025 ┆ 7     ┆ 7   ┆ 23   ┆ 59     ┆ 0      │\n",
       "│ 2025-07-08T23:59:00 ┆ 80   ┆ 2025 ┆ 7     ┆ 8   ┆ 23   ┆ 59     ┆ 0      │\n",
       "│ 2025-07-09T23:59:00 ┆ 80   ┆ 2025 ┆ 7     ┆ 9   ┆ 23   ┆ 59     ┆ 0      │\n",
       "│ 2025-07-10T23:59:00 ┆ 79   ┆ 2025 ┆ 7     ┆ 10  ┆ 23   ┆ 59     ┆ 0      │\n",
       "└─────────────────────┴──────┴──────┴───────┴─────┴──────┴────────┴────────┘"
      ]
     },
     "execution_count": 4,
     "metadata": {},
     "output_type": "execute_result"
    }
   ],
   "source": [
    "date_str = lf_full.select(\"DATE\").collect().to_series().str.to_datetime(\"%Y-%m-%dT%H:%M:%S\").dt\n",
    "\n",
    "lf_full = lf_full.with_columns(\n",
    "    date_str.year().alias(\"YEAR\"),\n",
    "    date_str.month().alias(\"MONTH\"),\n",
    "    date_str.day().alias(\"DAY\"),\n",
    "    date_str.hour().alias(\"HOUR\"),\n",
    "    date_str.minute().alias(\"MINUTE\"),\n",
    "    date_str.second().alias(\"SECOND\")\n",
    "    \n",
    ")\n",
    "\n",
    "lf_full.collect()\n"
   ]
  },
  {
   "cell_type": "code",
   "execution_count": 5,
   "id": "cd43c4e4-ef7b-4925-89a6-9e6ceb51e738",
   "metadata": {},
   "outputs": [
    {
     "data": {
      "text/html": [
       "<div><style>\n",
       ".dataframe > thead > tr,\n",
       ".dataframe > tbody > tr {\n",
       "  text-align: right;\n",
       "  white-space: pre-wrap;\n",
       "}\n",
       "</style>\n",
       "<small>shape: (10_332, 8)</small><table border=\"1\" class=\"dataframe\"><thead><tr><th>DATE</th><th>YEAR</th><th>MONTH</th><th>DAY</th><th>HOUR</th><th>MINUTE</th><th>SECOND</th><th>TEMP</th></tr><tr><td>str</td><td>i32</td><td>i8</td><td>i8</td><td>i8</td><td>i8</td><td>i8</td><td>i64</td></tr></thead><tbody><tr><td>&quot;1996-07-01T23:59:00&quot;</td><td>1996</td><td>7</td><td>1</td><td>23</td><td>59</td><td>0</td><td>83</td></tr><tr><td>&quot;1996-07-02T23:59:00&quot;</td><td>1996</td><td>7</td><td>2</td><td>23</td><td>59</td><td>0</td><td>83</td></tr><tr><td>&quot;1996-07-03T23:59:00&quot;</td><td>1996</td><td>7</td><td>3</td><td>23</td><td>59</td><td>0</td><td>82</td></tr><tr><td>&quot;1996-07-04T23:59:00&quot;</td><td>1996</td><td>7</td><td>4</td><td>23</td><td>59</td><td>0</td><td>79</td></tr><tr><td>&quot;1996-07-05T23:59:00&quot;</td><td>1996</td><td>7</td><td>5</td><td>23</td><td>59</td><td>0</td><td>80</td></tr><tr><td>&hellip;</td><td>&hellip;</td><td>&hellip;</td><td>&hellip;</td><td>&hellip;</td><td>&hellip;</td><td>&hellip;</td><td>&hellip;</td></tr><tr><td>&quot;2025-07-06T23:59:00&quot;</td><td>2025</td><td>7</td><td>6</td><td>23</td><td>59</td><td>0</td><td>81</td></tr><tr><td>&quot;2025-07-07T23:59:00&quot;</td><td>2025</td><td>7</td><td>7</td><td>23</td><td>59</td><td>0</td><td>80</td></tr><tr><td>&quot;2025-07-08T23:59:00&quot;</td><td>2025</td><td>7</td><td>8</td><td>23</td><td>59</td><td>0</td><td>80</td></tr><tr><td>&quot;2025-07-09T23:59:00&quot;</td><td>2025</td><td>7</td><td>9</td><td>23</td><td>59</td><td>0</td><td>80</td></tr><tr><td>&quot;2025-07-10T23:59:00&quot;</td><td>2025</td><td>7</td><td>10</td><td>23</td><td>59</td><td>0</td><td>79</td></tr></tbody></table></div>"
      ],
      "text/plain": [
       "shape: (10_332, 8)\n",
       "┌─────────────────────┬──────┬───────┬─────┬──────┬────────┬────────┬──────┐\n",
       "│ DATE                ┆ YEAR ┆ MONTH ┆ DAY ┆ HOUR ┆ MINUTE ┆ SECOND ┆ TEMP │\n",
       "│ ---                 ┆ ---  ┆ ---   ┆ --- ┆ ---  ┆ ---    ┆ ---    ┆ ---  │\n",
       "│ str                 ┆ i32  ┆ i8    ┆ i8  ┆ i8   ┆ i8     ┆ i8     ┆ i64  │\n",
       "╞═════════════════════╪══════╪═══════╪═════╪══════╪════════╪════════╪══════╡\n",
       "│ 1996-07-01T23:59:00 ┆ 1996 ┆ 7     ┆ 1   ┆ 23   ┆ 59     ┆ 0      ┆ 83   │\n",
       "│ 1996-07-02T23:59:00 ┆ 1996 ┆ 7     ┆ 2   ┆ 23   ┆ 59     ┆ 0      ┆ 83   │\n",
       "│ 1996-07-03T23:59:00 ┆ 1996 ┆ 7     ┆ 3   ┆ 23   ┆ 59     ┆ 0      ┆ 82   │\n",
       "│ 1996-07-04T23:59:00 ┆ 1996 ┆ 7     ┆ 4   ┆ 23   ┆ 59     ┆ 0      ┆ 79   │\n",
       "│ 1996-07-05T23:59:00 ┆ 1996 ┆ 7     ┆ 5   ┆ 23   ┆ 59     ┆ 0      ┆ 80   │\n",
       "│ …                   ┆ …    ┆ …     ┆ …   ┆ …    ┆ …      ┆ …      ┆ …    │\n",
       "│ 2025-07-06T23:59:00 ┆ 2025 ┆ 7     ┆ 6   ┆ 23   ┆ 59     ┆ 0      ┆ 81   │\n",
       "│ 2025-07-07T23:59:00 ┆ 2025 ┆ 7     ┆ 7   ┆ 23   ┆ 59     ┆ 0      ┆ 80   │\n",
       "│ 2025-07-08T23:59:00 ┆ 2025 ┆ 7     ┆ 8   ┆ 23   ┆ 59     ┆ 0      ┆ 80   │\n",
       "│ 2025-07-09T23:59:00 ┆ 2025 ┆ 7     ┆ 9   ┆ 23   ┆ 59     ┆ 0      ┆ 80   │\n",
       "│ 2025-07-10T23:59:00 ┆ 2025 ┆ 7     ┆ 10  ┆ 23   ┆ 59     ┆ 0      ┆ 79   │\n",
       "└─────────────────────┴──────┴───────┴─────┴──────┴────────┴────────┴──────┘"
      ]
     },
     "execution_count": 5,
     "metadata": {},
     "output_type": "execute_result"
    }
   ],
   "source": [
    "\n",
    "lf_full = lf_full.select([\"DATE\", \"YEAR\", \"MONTH\", \"DAY\", \"HOUR\", \"MINUTE\", \"SECOND\", \"TEMP\"])\n",
    "\n",
    "lf_full.collect()"
   ]
  },
  {
   "cell_type": "code",
   "execution_count": 6,
   "id": "a305aa50-3b91-451b-abbc-f02097e0534e",
   "metadata": {},
   "outputs": [
    {
     "name": "stdout",
     "output_type": "stream",
     "text": [
      "YEAR: 0.1259503517472589\n",
      "MONTH: 0.42290630234541876\n",
      "DAY: 0.017572939318755688\n",
      "HOUR: nan\n",
      "MINUTE: nan\n",
      "SECOND: nan\n",
      "TEMP: 1.0\n"
     ]
    }
   ],
   "source": [
    "corr_schema = lf_full.drop(\"DATE\").collect_schema()\n",
    "\n",
    "for column in corr_schema.names():\n",
    "\n",
    "    corr = lf_full.drop(\"DATE\").select(pl.corr(column, \"TEMP\")).collect().item()\n",
    "    print(f\"{column}: {corr}\") \n"
   ]
  },
  {
   "cell_type": "code",
   "execution_count": 7,
   "id": "7a734b28-c3f3-4481-abd9-622d7aa6ed04",
   "metadata": {},
   "outputs": [],
   "source": [
    "lf_full = lf_full.with_columns(\n",
    "    pl.when((pl.col(\"MONTH\") >= 3) & (pl.col(\"MONTH\") <= 5)).then(3)\n",
    "    .when((pl.col(\"MONTH\") >= 6) & (pl.col(\"MONTH\") <= 8)).then(2)\n",
    "    .when((pl.col(\"MONTH\") >= 9) & (pl.col(\"MONTH\") <= 11)).then(1)\n",
    "    .otherwise(0).alias(\"SEASON\")\n",
    ")\n",
    "lf_full = lf_full.select([\"DATE\", \"YEAR\", \"SEASON\", \"MONTH\", \"DAY\", \"HOUR\", \"MINUTE\", \"SECOND\", \"TEMP\"])"
   ]
  },
  {
   "cell_type": "code",
   "execution_count": 8,
   "id": "04c8fc55-23d3-450f-a67a-2456118b8c6d",
   "metadata": {},
   "outputs": [
    {
     "name": "stdout",
     "output_type": "stream",
     "text": [
      "YEAR: 0.1259503517472589\n",
      "SEASON: 0.21313078654837855\n",
      "MONTH: 0.42290630234541876\n",
      "DAY: 0.017572939318755688\n",
      "HOUR: nan\n",
      "MINUTE: nan\n",
      "SECOND: nan\n",
      "TEMP: 1.0\n"
     ]
    }
   ],
   "source": [
    "corr_schema = lf_full.drop(\"DATE\").collect_schema()\n",
    "\n",
    "for column in corr_schema.names():\n",
    "\n",
    "    corr = lf_full.drop(\"DATE\").select(pl.corr(column, \"TEMP\")).collect().item()\n",
    "    print(f\"{column}: {corr}\") "
   ]
  },
  {
   "cell_type": "code",
   "execution_count": 9,
   "id": "9c1a6a87-fa88-4eb6-ac5b-7e01993ffa41",
   "metadata": {},
   "outputs": [
    {
     "data": {
      "text/html": [
       "<div><style>\n",
       ".dataframe > thead > tr,\n",
       ".dataframe > tbody > tr {\n",
       "  text-align: right;\n",
       "  white-space: pre-wrap;\n",
       "}\n",
       "</style>\n",
       "<small>shape: (10, 5)</small><table border=\"1\" class=\"dataframe\"><thead><tr><th>YEAR</th><th>SPRING_DT</th><th>SUMMER_DT</th><th>AUTUMN_DT</th><th>WINTER_DT</th></tr><tr><td>i64</td><td>str</td><td>str</td><td>str</td><td>str</td></tr></thead><tbody><tr><td>2017</td><td>&quot;2017-03-20T05:29:00&quot;</td><td>&quot;2017-06-20T23:24:00&quot;</td><td>&quot;2017-09-22T15:02:00&quot;</td><td>&quot;2017-12-21T11:28:00&quot;</td></tr><tr><td>2018</td><td>&quot;2018-03-20T11:15:00&quot;</td><td>&quot;2018-06-21T05:07:00&quot;</td><td>&quot;2018-09-22T20:54:00&quot;</td><td>&quot;2018-12-21T17:23:00&quot;</td></tr><tr><td>2019</td><td>&quot;2019-03-20T16:58:00&quot;</td><td>&quot;2019-06-21T10:54:00&quot;</td><td>&quot;2019-09-23T02:50:00&quot;</td><td>&quot;2019-12-21T23:19:00&quot;</td></tr><tr><td>2020</td><td>&quot;2020-03-19T22:50:00&quot;</td><td>&quot;2020-06-20T16:44:00&quot;</td><td>&quot;2020-09-22T08:31:00&quot;</td><td>&quot;2020-12-21T05:02:00&quot;</td></tr><tr><td>2021</td><td>&quot;2021-03-20T04:37:00&quot;</td><td>&quot;2021-06-20T22:32:00&quot;</td><td>&quot;2021-09-22T14:21:00&quot;</td><td>&quot;2021-12-21T10:59:00&quot;</td></tr><tr><td>2022</td><td>&quot;2022-03-20T10:33:00&quot;</td><td>&quot;2022-06-21T04:13:00&quot;</td><td>&quot;2022-09-22T20:03:00&quot;</td><td>&quot;2022-12-21T16:48:00&quot;</td></tr><tr><td>2023</td><td>&quot;2023-03-20T16:24:00&quot;</td><td>&quot;2023-06-21T09:57:00&quot;</td><td>&quot;2023-09-23T01:49:00&quot;</td><td>&quot;2023-12-21T22:27:00&quot;</td></tr><tr><td>2024</td><td>&quot;2024-03-19T22:06:00&quot;</td><td>&quot;2024-06-20T15:51:00&quot;</td><td>&quot;2024-09-22T07:43:00&quot;</td><td>&quot;2024-12-21T04:20:00&quot;</td></tr><tr><td>2025</td><td>&quot;2025-03-20T04:01:00&quot;</td><td>&quot;2025-06-20T21:42:00&quot;</td><td>&quot;2025-09-22T13:19:00&quot;</td><td>&quot;2025-12-21T10:02:00&quot;</td></tr><tr><td>2026</td><td>&quot;2026-03-20T09:45:00&quot;</td><td>&quot;2026-06-21T03:25:00&quot;</td><td>&quot;2026-09-22T19:05:00&quot;</td><td>&quot;2026-12-21T15:49:00&quot;</td></tr></tbody></table></div>"
      ],
      "text/plain": [
       "shape: (10, 5)\n",
       "┌──────┬─────────────────────┬─────────────────────┬─────────────────────┬─────────────────────┐\n",
       "│ YEAR ┆ SPRING_DT           ┆ SUMMER_DT           ┆ AUTUMN_DT           ┆ WINTER_DT           │\n",
       "│ ---  ┆ ---                 ┆ ---                 ┆ ---                 ┆ ---                 │\n",
       "│ i64  ┆ str                 ┆ str                 ┆ str                 ┆ str                 │\n",
       "╞══════╪═════════════════════╪═════════════════════╪═════════════════════╪═════════════════════╡\n",
       "│ 2017 ┆ 2017-03-20T05:29:00 ┆ 2017-06-20T23:24:00 ┆ 2017-09-22T15:02:00 ┆ 2017-12-21T11:28:00 │\n",
       "│ 2018 ┆ 2018-03-20T11:15:00 ┆ 2018-06-21T05:07:00 ┆ 2018-09-22T20:54:00 ┆ 2018-12-21T17:23:00 │\n",
       "│ 2019 ┆ 2019-03-20T16:58:00 ┆ 2019-06-21T10:54:00 ┆ 2019-09-23T02:50:00 ┆ 2019-12-21T23:19:00 │\n",
       "│ 2020 ┆ 2020-03-19T22:50:00 ┆ 2020-06-20T16:44:00 ┆ 2020-09-22T08:31:00 ┆ 2020-12-21T05:02:00 │\n",
       "│ 2021 ┆ 2021-03-20T04:37:00 ┆ 2021-06-20T22:32:00 ┆ 2021-09-22T14:21:00 ┆ 2021-12-21T10:59:00 │\n",
       "│ 2022 ┆ 2022-03-20T10:33:00 ┆ 2022-06-21T04:13:00 ┆ 2022-09-22T20:03:00 ┆ 2022-12-21T16:48:00 │\n",
       "│ 2023 ┆ 2023-03-20T16:24:00 ┆ 2023-06-21T09:57:00 ┆ 2023-09-23T01:49:00 ┆ 2023-12-21T22:27:00 │\n",
       "│ 2024 ┆ 2024-03-19T22:06:00 ┆ 2024-06-20T15:51:00 ┆ 2024-09-22T07:43:00 ┆ 2024-12-21T04:20:00 │\n",
       "│ 2025 ┆ 2025-03-20T04:01:00 ┆ 2025-06-20T21:42:00 ┆ 2025-09-22T13:19:00 ┆ 2025-12-21T10:02:00 │\n",
       "│ 2026 ┆ 2026-03-20T09:45:00 ┆ 2026-06-21T03:25:00 ┆ 2026-09-22T19:05:00 ┆ 2026-12-21T15:49:00 │\n",
       "└──────┴─────────────────────┴─────────────────────┴─────────────────────┴─────────────────────┘"
      ]
     },
     "execution_count": 9,
     "metadata": {},
     "output_type": "execute_result"
    }
   ],
   "source": [
    "soleq_lf = pl.scan_csv(\"data/solsticeequinox_est.csv\")\n",
    "soleq_lf.collect()"
   ]
  },
  {
   "cell_type": "code",
   "execution_count": 10,
   "id": "035b8934-9478-434c-ab6d-131b6f72099a",
   "metadata": {},
   "outputs": [
    {
     "data": {
      "text/html": [
       "<div><style>\n",
       ".dataframe > thead > tr,\n",
       ".dataframe > tbody > tr {\n",
       "  text-align: right;\n",
       "  white-space: pre-wrap;\n",
       "}\n",
       "</style>\n",
       "<small>shape: (3_031, 13)</small><table border=\"1\" class=\"dataframe\"><thead><tr><th>DATE</th><th>YEAR</th><th>SEASON</th><th>MONTH</th><th>DAY</th><th>HOUR</th><th>MINUTE</th><th>SECOND</th><th>TEMP</th><th>SPRING_DT</th><th>SUMMER_DT</th><th>AUTUMN_DT</th><th>WINTER_DT</th></tr><tr><td>str</td><td>i32</td><td>i32</td><td>i8</td><td>i8</td><td>i8</td><td>i8</td><td>i8</td><td>i64</td><td>str</td><td>str</td><td>str</td><td>str</td></tr></thead><tbody><tr><td>&quot;2017-01-01T23:59:00&quot;</td><td>2017</td><td>0</td><td>1</td><td>1</td><td>23</td><td>59</td><td>0</td><td>72</td><td>&quot;2017-03-20T05:29:00&quot;</td><td>&quot;2017-06-20T23:24:00&quot;</td><td>&quot;2017-09-22T15:02:00&quot;</td><td>&quot;2017-12-21T11:28:00&quot;</td></tr><tr><td>&quot;2017-01-02T23:59:00&quot;</td><td>2017</td><td>0</td><td>1</td><td>2</td><td>23</td><td>59</td><td>0</td><td>72</td><td>&quot;2017-03-20T05:29:00&quot;</td><td>&quot;2017-06-20T23:24:00&quot;</td><td>&quot;2017-09-22T15:02:00&quot;</td><td>&quot;2017-12-21T11:28:00&quot;</td></tr><tr><td>&quot;2017-01-03T23:59:00&quot;</td><td>2017</td><td>0</td><td>1</td><td>3</td><td>23</td><td>59</td><td>0</td><td>70</td><td>&quot;2017-03-20T05:29:00&quot;</td><td>&quot;2017-06-20T23:24:00&quot;</td><td>&quot;2017-09-22T15:02:00&quot;</td><td>&quot;2017-12-21T11:28:00&quot;</td></tr><tr><td>&quot;2017-01-04T23:59:00&quot;</td><td>2017</td><td>0</td><td>1</td><td>4</td><td>23</td><td>59</td><td>0</td><td>69</td><td>&quot;2017-03-20T05:29:00&quot;</td><td>&quot;2017-06-20T23:24:00&quot;</td><td>&quot;2017-09-22T15:02:00&quot;</td><td>&quot;2017-12-21T11:28:00&quot;</td></tr><tr><td>&quot;2017-01-05T23:59:00&quot;</td><td>2017</td><td>0</td><td>1</td><td>5</td><td>23</td><td>59</td><td>0</td><td>70</td><td>&quot;2017-03-20T05:29:00&quot;</td><td>&quot;2017-06-20T23:24:00&quot;</td><td>&quot;2017-09-22T15:02:00&quot;</td><td>&quot;2017-12-21T11:28:00&quot;</td></tr><tr><td>&hellip;</td><td>&hellip;</td><td>&hellip;</td><td>&hellip;</td><td>&hellip;</td><td>&hellip;</td><td>&hellip;</td><td>&hellip;</td><td>&hellip;</td><td>&hellip;</td><td>&hellip;</td><td>&hellip;</td><td>&hellip;</td></tr><tr><td>&quot;2025-07-06T23:59:00&quot;</td><td>2025</td><td>2</td><td>7</td><td>6</td><td>23</td><td>59</td><td>0</td><td>81</td><td>&quot;2025-03-20T04:01:00&quot;</td><td>&quot;2025-06-20T21:42:00&quot;</td><td>&quot;2025-09-22T13:19:00&quot;</td><td>&quot;2025-12-21T10:02:00&quot;</td></tr><tr><td>&quot;2025-07-07T23:59:00&quot;</td><td>2025</td><td>2</td><td>7</td><td>7</td><td>23</td><td>59</td><td>0</td><td>80</td><td>&quot;2025-03-20T04:01:00&quot;</td><td>&quot;2025-06-20T21:42:00&quot;</td><td>&quot;2025-09-22T13:19:00&quot;</td><td>&quot;2025-12-21T10:02:00&quot;</td></tr><tr><td>&quot;2025-07-08T23:59:00&quot;</td><td>2025</td><td>2</td><td>7</td><td>8</td><td>23</td><td>59</td><td>0</td><td>80</td><td>&quot;2025-03-20T04:01:00&quot;</td><td>&quot;2025-06-20T21:42:00&quot;</td><td>&quot;2025-09-22T13:19:00&quot;</td><td>&quot;2025-12-21T10:02:00&quot;</td></tr><tr><td>&quot;2025-07-09T23:59:00&quot;</td><td>2025</td><td>2</td><td>7</td><td>9</td><td>23</td><td>59</td><td>0</td><td>80</td><td>&quot;2025-03-20T04:01:00&quot;</td><td>&quot;2025-06-20T21:42:00&quot;</td><td>&quot;2025-09-22T13:19:00&quot;</td><td>&quot;2025-12-21T10:02:00&quot;</td></tr><tr><td>&quot;2025-07-10T23:59:00&quot;</td><td>2025</td><td>2</td><td>7</td><td>10</td><td>23</td><td>59</td><td>0</td><td>79</td><td>&quot;2025-03-20T04:01:00&quot;</td><td>&quot;2025-06-20T21:42:00&quot;</td><td>&quot;2025-09-22T13:19:00&quot;</td><td>&quot;2025-12-21T10:02:00&quot;</td></tr></tbody></table></div>"
      ],
      "text/plain": [
       "shape: (3_031, 13)\n",
       "┌──────────────────┬──────┬────────┬───────┬───┬─────────────────┬─────────────────┬─────────────────┬─────────────────┐\n",
       "│ DATE             ┆ YEAR ┆ SEASON ┆ MONTH ┆ … ┆ SPRING_DT       ┆ SUMMER_DT       ┆ AUTUMN_DT       ┆ WINTER_DT       │\n",
       "│ ---              ┆ ---  ┆ ---    ┆ ---   ┆   ┆ ---             ┆ ---             ┆ ---             ┆ ---             │\n",
       "│ str              ┆ i32  ┆ i32    ┆ i8    ┆   ┆ str             ┆ str             ┆ str             ┆ str             │\n",
       "╞══════════════════╪══════╪════════╪═══════╪═══╪═════════════════╪═════════════════╪═════════════════╪═════════════════╡\n",
       "│ 2017-01-01T23:59 ┆ 2017 ┆ 0      ┆ 1     ┆ … ┆ 2017-03-20T05:2 ┆ 2017-06-20T23:2 ┆ 2017-09-22T15:0 ┆ 2017-12-21T11:2 │\n",
       "│ :00              ┆      ┆        ┆       ┆   ┆ 9:00            ┆ 4:00            ┆ 2:00            ┆ 8:00            │\n",
       "│ 2017-01-02T23:59 ┆ 2017 ┆ 0      ┆ 1     ┆ … ┆ 2017-03-20T05:2 ┆ 2017-06-20T23:2 ┆ 2017-09-22T15:0 ┆ 2017-12-21T11:2 │\n",
       "│ :00              ┆      ┆        ┆       ┆   ┆ 9:00            ┆ 4:00            ┆ 2:00            ┆ 8:00            │\n",
       "│ 2017-01-03T23:59 ┆ 2017 ┆ 0      ┆ 1     ┆ … ┆ 2017-03-20T05:2 ┆ 2017-06-20T23:2 ┆ 2017-09-22T15:0 ┆ 2017-12-21T11:2 │\n",
       "│ :00              ┆      ┆        ┆       ┆   ┆ 9:00            ┆ 4:00            ┆ 2:00            ┆ 8:00            │\n",
       "│ 2017-01-04T23:59 ┆ 2017 ┆ 0      ┆ 1     ┆ … ┆ 2017-03-20T05:2 ┆ 2017-06-20T23:2 ┆ 2017-09-22T15:0 ┆ 2017-12-21T11:2 │\n",
       "│ :00              ┆      ┆        ┆       ┆   ┆ 9:00            ┆ 4:00            ┆ 2:00            ┆ 8:00            │\n",
       "│ 2017-01-05T23:59 ┆ 2017 ┆ 0      ┆ 1     ┆ … ┆ 2017-03-20T05:2 ┆ 2017-06-20T23:2 ┆ 2017-09-22T15:0 ┆ 2017-12-21T11:2 │\n",
       "│ :00              ┆      ┆        ┆       ┆   ┆ 9:00            ┆ 4:00            ┆ 2:00            ┆ 8:00            │\n",
       "│ …                ┆ …    ┆ …      ┆ …     ┆ … ┆ …               ┆ …               ┆ …               ┆ …               │\n",
       "│ 2025-07-06T23:59 ┆ 2025 ┆ 2      ┆ 7     ┆ … ┆ 2025-03-20T04:0 ┆ 2025-06-20T21:4 ┆ 2025-09-22T13:1 ┆ 2025-12-21T10:0 │\n",
       "│ :00              ┆      ┆        ┆       ┆   ┆ 1:00            ┆ 2:00            ┆ 9:00            ┆ 2:00            │\n",
       "│ 2025-07-07T23:59 ┆ 2025 ┆ 2      ┆ 7     ┆ … ┆ 2025-03-20T04:0 ┆ 2025-06-20T21:4 ┆ 2025-09-22T13:1 ┆ 2025-12-21T10:0 │\n",
       "│ :00              ┆      ┆        ┆       ┆   ┆ 1:00            ┆ 2:00            ┆ 9:00            ┆ 2:00            │\n",
       "│ 2025-07-08T23:59 ┆ 2025 ┆ 2      ┆ 7     ┆ … ┆ 2025-03-20T04:0 ┆ 2025-06-20T21:4 ┆ 2025-09-22T13:1 ┆ 2025-12-21T10:0 │\n",
       "│ :00              ┆      ┆        ┆       ┆   ┆ 1:00            ┆ 2:00            ┆ 9:00            ┆ 2:00            │\n",
       "│ 2025-07-09T23:59 ┆ 2025 ┆ 2      ┆ 7     ┆ … ┆ 2025-03-20T04:0 ┆ 2025-06-20T21:4 ┆ 2025-09-22T13:1 ┆ 2025-12-21T10:0 │\n",
       "│ :00              ┆      ┆        ┆       ┆   ┆ 1:00            ┆ 2:00            ┆ 9:00            ┆ 2:00            │\n",
       "│ 2025-07-10T23:59 ┆ 2025 ┆ 2      ┆ 7     ┆ … ┆ 2025-03-20T04:0 ┆ 2025-06-20T21:4 ┆ 2025-09-22T13:1 ┆ 2025-12-21T10:0 │\n",
       "│ :00              ┆      ┆        ┆       ┆   ┆ 1:00            ┆ 2:00            ┆ 9:00            ┆ 2:00            │\n",
       "└──────────────────┴──────┴────────┴───────┴───┴─────────────────┴─────────────────┴─────────────────┴─────────────────┘"
      ]
     },
     "execution_count": 10,
     "metadata": {},
     "output_type": "execute_result"
    }
   ],
   "source": [
    "lf_full = lf_full.join(soleq_lf, on=\"YEAR\")\n",
    "lf_full.collect()"
   ]
  },
  {
   "cell_type": "code",
   "execution_count": 11,
   "id": "9d5c445c-d48d-4de5-80d9-a222a1cc5a49",
   "metadata": {},
   "outputs": [
    {
     "data": {
      "text/html": [
       "<div><style>\n",
       ".dataframe > thead > tr,\n",
       ".dataframe > tbody > tr {\n",
       "  text-align: right;\n",
       "  white-space: pre-wrap;\n",
       "}\n",
       "</style>\n",
       "<small>shape: (3_031, 13)</small><table border=\"1\" class=\"dataframe\"><thead><tr><th>DATE</th><th>YEAR</th><th>SEASON</th><th>MONTH</th><th>DAY</th><th>HOUR</th><th>MINUTE</th><th>SECOND</th><th>TEMP</th><th>SPRING_DT</th><th>SUMMER_DT</th><th>AUTUMN_DT</th><th>WINTER_DT</th></tr><tr><td>datetime[μs]</td><td>i32</td><td>i32</td><td>i8</td><td>i8</td><td>i8</td><td>i8</td><td>i8</td><td>i64</td><td>datetime[μs]</td><td>datetime[μs]</td><td>datetime[μs]</td><td>datetime[μs]</td></tr></thead><tbody><tr><td>2017-01-01 23:59:00</td><td>2017</td><td>0</td><td>1</td><td>1</td><td>23</td><td>59</td><td>0</td><td>72</td><td>2017-03-20 05:29:00</td><td>2017-06-20 23:24:00</td><td>2017-09-22 15:02:00</td><td>2017-12-21 11:28:00</td></tr><tr><td>2017-01-02 23:59:00</td><td>2017</td><td>0</td><td>1</td><td>2</td><td>23</td><td>59</td><td>0</td><td>72</td><td>2017-03-20 05:29:00</td><td>2017-06-20 23:24:00</td><td>2017-09-22 15:02:00</td><td>2017-12-21 11:28:00</td></tr><tr><td>2017-01-03 23:59:00</td><td>2017</td><td>0</td><td>1</td><td>3</td><td>23</td><td>59</td><td>0</td><td>70</td><td>2017-03-20 05:29:00</td><td>2017-06-20 23:24:00</td><td>2017-09-22 15:02:00</td><td>2017-12-21 11:28:00</td></tr><tr><td>2017-01-04 23:59:00</td><td>2017</td><td>0</td><td>1</td><td>4</td><td>23</td><td>59</td><td>0</td><td>69</td><td>2017-03-20 05:29:00</td><td>2017-06-20 23:24:00</td><td>2017-09-22 15:02:00</td><td>2017-12-21 11:28:00</td></tr><tr><td>2017-01-05 23:59:00</td><td>2017</td><td>0</td><td>1</td><td>5</td><td>23</td><td>59</td><td>0</td><td>70</td><td>2017-03-20 05:29:00</td><td>2017-06-20 23:24:00</td><td>2017-09-22 15:02:00</td><td>2017-12-21 11:28:00</td></tr><tr><td>&hellip;</td><td>&hellip;</td><td>&hellip;</td><td>&hellip;</td><td>&hellip;</td><td>&hellip;</td><td>&hellip;</td><td>&hellip;</td><td>&hellip;</td><td>&hellip;</td><td>&hellip;</td><td>&hellip;</td><td>&hellip;</td></tr><tr><td>2025-07-06 23:59:00</td><td>2025</td><td>2</td><td>7</td><td>6</td><td>23</td><td>59</td><td>0</td><td>81</td><td>2025-03-20 04:01:00</td><td>2025-06-20 21:42:00</td><td>2025-09-22 13:19:00</td><td>2025-12-21 10:02:00</td></tr><tr><td>2025-07-07 23:59:00</td><td>2025</td><td>2</td><td>7</td><td>7</td><td>23</td><td>59</td><td>0</td><td>80</td><td>2025-03-20 04:01:00</td><td>2025-06-20 21:42:00</td><td>2025-09-22 13:19:00</td><td>2025-12-21 10:02:00</td></tr><tr><td>2025-07-08 23:59:00</td><td>2025</td><td>2</td><td>7</td><td>8</td><td>23</td><td>59</td><td>0</td><td>80</td><td>2025-03-20 04:01:00</td><td>2025-06-20 21:42:00</td><td>2025-09-22 13:19:00</td><td>2025-12-21 10:02:00</td></tr><tr><td>2025-07-09 23:59:00</td><td>2025</td><td>2</td><td>7</td><td>9</td><td>23</td><td>59</td><td>0</td><td>80</td><td>2025-03-20 04:01:00</td><td>2025-06-20 21:42:00</td><td>2025-09-22 13:19:00</td><td>2025-12-21 10:02:00</td></tr><tr><td>2025-07-10 23:59:00</td><td>2025</td><td>2</td><td>7</td><td>10</td><td>23</td><td>59</td><td>0</td><td>79</td><td>2025-03-20 04:01:00</td><td>2025-06-20 21:42:00</td><td>2025-09-22 13:19:00</td><td>2025-12-21 10:02:00</td></tr></tbody></table></div>"
      ],
      "text/plain": [
       "shape: (3_031, 13)\n",
       "┌──────────────┬──────┬────────┬───────┬───┬──────────────┬──────────────┬──────────────────────┬──────────────────────┐\n",
       "│ DATE         ┆ YEAR ┆ SEASON ┆ MONTH ┆ … ┆ SPRING_DT    ┆ SUMMER_DT    ┆ AUTUMN_DT            ┆ WINTER_DT            │\n",
       "│ ---          ┆ ---  ┆ ---    ┆ ---   ┆   ┆ ---          ┆ ---          ┆ ---                  ┆ ---                  │\n",
       "│ datetime[μs] ┆ i32  ┆ i32    ┆ i8    ┆   ┆ datetime[μs] ┆ datetime[μs] ┆ datetime[μs]         ┆ datetime[μs]         │\n",
       "╞══════════════╪══════╪════════╪═══════╪═══╪══════════════╪══════════════╪══════════════════════╪══════════════════════╡\n",
       "│ 2017-01-01   ┆ 2017 ┆ 0      ┆ 1     ┆ … ┆ 2017-03-20   ┆ 2017-06-20   ┆ 2017-09-22 15:02:00  ┆ 2017-12-21 11:28:00  │\n",
       "│ 23:59:00     ┆      ┆        ┆       ┆   ┆ 05:29:00     ┆ 23:24:00     ┆                      ┆                      │\n",
       "│ 2017-01-02   ┆ 2017 ┆ 0      ┆ 1     ┆ … ┆ 2017-03-20   ┆ 2017-06-20   ┆ 2017-09-22 15:02:00  ┆ 2017-12-21 11:28:00  │\n",
       "│ 23:59:00     ┆      ┆        ┆       ┆   ┆ 05:29:00     ┆ 23:24:00     ┆                      ┆                      │\n",
       "│ 2017-01-03   ┆ 2017 ┆ 0      ┆ 1     ┆ … ┆ 2017-03-20   ┆ 2017-06-20   ┆ 2017-09-22 15:02:00  ┆ 2017-12-21 11:28:00  │\n",
       "│ 23:59:00     ┆      ┆        ┆       ┆   ┆ 05:29:00     ┆ 23:24:00     ┆                      ┆                      │\n",
       "│ 2017-01-04   ┆ 2017 ┆ 0      ┆ 1     ┆ … ┆ 2017-03-20   ┆ 2017-06-20   ┆ 2017-09-22 15:02:00  ┆ 2017-12-21 11:28:00  │\n",
       "│ 23:59:00     ┆      ┆        ┆       ┆   ┆ 05:29:00     ┆ 23:24:00     ┆                      ┆                      │\n",
       "│ 2017-01-05   ┆ 2017 ┆ 0      ┆ 1     ┆ … ┆ 2017-03-20   ┆ 2017-06-20   ┆ 2017-09-22 15:02:00  ┆ 2017-12-21 11:28:00  │\n",
       "│ 23:59:00     ┆      ┆        ┆       ┆   ┆ 05:29:00     ┆ 23:24:00     ┆                      ┆                      │\n",
       "│ …            ┆ …    ┆ …      ┆ …     ┆ … ┆ …            ┆ …            ┆ …                    ┆ …                    │\n",
       "│ 2025-07-06   ┆ 2025 ┆ 2      ┆ 7     ┆ … ┆ 2025-03-20   ┆ 2025-06-20   ┆ 2025-09-22 13:19:00  ┆ 2025-12-21 10:02:00  │\n",
       "│ 23:59:00     ┆      ┆        ┆       ┆   ┆ 04:01:00     ┆ 21:42:00     ┆                      ┆                      │\n",
       "│ 2025-07-07   ┆ 2025 ┆ 2      ┆ 7     ┆ … ┆ 2025-03-20   ┆ 2025-06-20   ┆ 2025-09-22 13:19:00  ┆ 2025-12-21 10:02:00  │\n",
       "│ 23:59:00     ┆      ┆        ┆       ┆   ┆ 04:01:00     ┆ 21:42:00     ┆                      ┆                      │\n",
       "│ 2025-07-08   ┆ 2025 ┆ 2      ┆ 7     ┆ … ┆ 2025-03-20   ┆ 2025-06-20   ┆ 2025-09-22 13:19:00  ┆ 2025-12-21 10:02:00  │\n",
       "│ 23:59:00     ┆      ┆        ┆       ┆   ┆ 04:01:00     ┆ 21:42:00     ┆                      ┆                      │\n",
       "│ 2025-07-09   ┆ 2025 ┆ 2      ┆ 7     ┆ … ┆ 2025-03-20   ┆ 2025-06-20   ┆ 2025-09-22 13:19:00  ┆ 2025-12-21 10:02:00  │\n",
       "│ 23:59:00     ┆      ┆        ┆       ┆   ┆ 04:01:00     ┆ 21:42:00     ┆                      ┆                      │\n",
       "│ 2025-07-10   ┆ 2025 ┆ 2      ┆ 7     ┆ … ┆ 2025-03-20   ┆ 2025-06-20   ┆ 2025-09-22 13:19:00  ┆ 2025-12-21 10:02:00  │\n",
       "│ 23:59:00     ┆      ┆        ┆       ┆   ┆ 04:01:00     ┆ 21:42:00     ┆                      ┆                      │\n",
       "└──────────────┴──────┴────────┴───────┴───┴──────────────┴──────────────┴──────────────────────┴──────────────────────┘"
      ]
     },
     "execution_count": 11,
     "metadata": {},
     "output_type": "execute_result"
    }
   ],
   "source": [
    "lf_full = lf_full.with_columns(\n",
    "\n",
    "    pl.col(\"DATE\").str.to_datetime(\"%Y-%m-%dT%H:%M:%S\").alias(\"DATE\"),\n",
    "    pl.col(\"SPRING_DT\").str.to_datetime(\"%Y-%m-%dT%H:%M:%S\").alias(\"SPRING_DT\"),\n",
    "    pl.col(\"SUMMER_DT\").str.to_datetime(\"%Y-%m-%dT%H:%M:%S\").alias(\"SUMMER_DT\"),\n",
    "    pl.col(\"AUTUMN_DT\").str.to_datetime(\"%Y-%m-%dT%H:%M:%S\").alias(\"AUTUMN_DT\"),\n",
    "    pl.col(\"WINTER_DT\").str.to_datetime(\"%Y-%m-%dT%H:%M:%S\").alias(\"WINTER_DT\")\n",
    "    \n",
    ")\n",
    "lf_full.collect()"
   ]
  },
  {
   "cell_type": "code",
   "execution_count": 12,
   "id": "d24ef995-8941-408a-a57f-3ca685749eec",
   "metadata": {},
   "outputs": [],
   "source": [
    "lf_full = lf_full.with_columns(\n",
    "\n",
    "    pl.when((pl.col(\"DATE\") >= pl.col(\"SPRING_DT\")) & (pl.col(\"DATE\") <= pl.col(\"SUMMER_DT\"))).then(3)\n",
    "        .when((pl.col(\"DATE\") >= pl.col(\"SUMMER_DT\")) & (pl.col(\"DATE\") <= pl.col(\"AUTUMN_DT\"))).then(2)\n",
    "        .when((pl.col(\"DATE\") >= pl.col(\"AUTUMN_DT\")) & (pl.col(\"DATE\") <= pl.col(\"WINTER_DT\"))).then(1)    \n",
    "        .otherwise(0).alias(\"SOLSTICE_SEASON\")\n",
    ")"
   ]
  },
  {
   "cell_type": "code",
   "execution_count": 13,
   "id": "196d52bf-eee1-4bda-863d-ef8e97621d11",
   "metadata": {},
   "outputs": [
    {
     "data": {
      "text/html": [
       "<div><style>\n",
       ".dataframe > thead > tr,\n",
       ".dataframe > tbody > tr {\n",
       "  text-align: right;\n",
       "  white-space: pre-wrap;\n",
       "}\n",
       "</style>\n",
       "<small>shape: (3_031, 9)</small><table border=\"1\" class=\"dataframe\"><thead><tr><th>YEAR</th><th>SEASON</th><th>SOLSTICE_SEASON</th><th>MONTH</th><th>DAY</th><th>HOUR</th><th>MINUTE</th><th>SECOND</th><th>TEMP</th></tr><tr><td>i32</td><td>i32</td><td>i32</td><td>i8</td><td>i8</td><td>i8</td><td>i8</td><td>i8</td><td>i64</td></tr></thead><tbody><tr><td>2017</td><td>0</td><td>0</td><td>1</td><td>1</td><td>23</td><td>59</td><td>0</td><td>72</td></tr><tr><td>2017</td><td>0</td><td>0</td><td>1</td><td>2</td><td>23</td><td>59</td><td>0</td><td>72</td></tr><tr><td>2017</td><td>0</td><td>0</td><td>1</td><td>3</td><td>23</td><td>59</td><td>0</td><td>70</td></tr><tr><td>2017</td><td>0</td><td>0</td><td>1</td><td>4</td><td>23</td><td>59</td><td>0</td><td>69</td></tr><tr><td>2017</td><td>0</td><td>0</td><td>1</td><td>5</td><td>23</td><td>59</td><td>0</td><td>70</td></tr><tr><td>&hellip;</td><td>&hellip;</td><td>&hellip;</td><td>&hellip;</td><td>&hellip;</td><td>&hellip;</td><td>&hellip;</td><td>&hellip;</td><td>&hellip;</td></tr><tr><td>2025</td><td>2</td><td>2</td><td>7</td><td>6</td><td>23</td><td>59</td><td>0</td><td>81</td></tr><tr><td>2025</td><td>2</td><td>2</td><td>7</td><td>7</td><td>23</td><td>59</td><td>0</td><td>80</td></tr><tr><td>2025</td><td>2</td><td>2</td><td>7</td><td>8</td><td>23</td><td>59</td><td>0</td><td>80</td></tr><tr><td>2025</td><td>2</td><td>2</td><td>7</td><td>9</td><td>23</td><td>59</td><td>0</td><td>80</td></tr><tr><td>2025</td><td>2</td><td>2</td><td>7</td><td>10</td><td>23</td><td>59</td><td>0</td><td>79</td></tr></tbody></table></div>"
      ],
      "text/plain": [
       "shape: (3_031, 9)\n",
       "┌──────┬────────┬─────────────────┬───────┬───┬──────┬────────┬────────┬──────┐\n",
       "│ YEAR ┆ SEASON ┆ SOLSTICE_SEASON ┆ MONTH ┆ … ┆ HOUR ┆ MINUTE ┆ SECOND ┆ TEMP │\n",
       "│ ---  ┆ ---    ┆ ---             ┆ ---   ┆   ┆ ---  ┆ ---    ┆ ---    ┆ ---  │\n",
       "│ i32  ┆ i32    ┆ i32             ┆ i8    ┆   ┆ i8   ┆ i8     ┆ i8     ┆ i64  │\n",
       "╞══════╪════════╪═════════════════╪═══════╪═══╪══════╪════════╪════════╪══════╡\n",
       "│ 2017 ┆ 0      ┆ 0               ┆ 1     ┆ … ┆ 23   ┆ 59     ┆ 0      ┆ 72   │\n",
       "│ 2017 ┆ 0      ┆ 0               ┆ 1     ┆ … ┆ 23   ┆ 59     ┆ 0      ┆ 72   │\n",
       "│ 2017 ┆ 0      ┆ 0               ┆ 1     ┆ … ┆ 23   ┆ 59     ┆ 0      ┆ 70   │\n",
       "│ 2017 ┆ 0      ┆ 0               ┆ 1     ┆ … ┆ 23   ┆ 59     ┆ 0      ┆ 69   │\n",
       "│ 2017 ┆ 0      ┆ 0               ┆ 1     ┆ … ┆ 23   ┆ 59     ┆ 0      ┆ 70   │\n",
       "│ …    ┆ …      ┆ …               ┆ …     ┆ … ┆ …    ┆ …      ┆ …      ┆ …    │\n",
       "│ 2025 ┆ 2      ┆ 2               ┆ 7     ┆ … ┆ 23   ┆ 59     ┆ 0      ┆ 81   │\n",
       "│ 2025 ┆ 2      ┆ 2               ┆ 7     ┆ … ┆ 23   ┆ 59     ┆ 0      ┆ 80   │\n",
       "│ 2025 ┆ 2      ┆ 2               ┆ 7     ┆ … ┆ 23   ┆ 59     ┆ 0      ┆ 80   │\n",
       "│ 2025 ┆ 2      ┆ 2               ┆ 7     ┆ … ┆ 23   ┆ 59     ┆ 0      ┆ 80   │\n",
       "│ 2025 ┆ 2      ┆ 2               ┆ 7     ┆ … ┆ 23   ┆ 59     ┆ 0      ┆ 79   │\n",
       "└──────┴────────┴─────────────────┴───────┴───┴──────┴────────┴────────┴──────┘"
      ]
     },
     "execution_count": 13,
     "metadata": {},
     "output_type": "execute_result"
    }
   ],
   "source": [
    "lf_full = lf_full.select([\"YEAR\", \"SEASON\", \"SOLSTICE_SEASON\", \"MONTH\", \"DAY\", \"HOUR\", \"MINUTE\", \"SECOND\", \"TEMP\"])\n",
    "lf_full.collect()"
   ]
  },
  {
   "cell_type": "code",
   "execution_count": 14,
   "id": "54a993a8-ca83-44c0-a9cf-19d79deb8c9d",
   "metadata": {},
   "outputs": [
    {
     "name": "stdout",
     "output_type": "stream",
     "text": [
      "YEAR: -0.08243845365006547\n",
      "SEASON: 0.20598960899704014\n",
      "SOLSTICE_SEASON: 0.4017484108520738\n",
      "MONTH: 0.4672829238362643\n",
      "DAY: 0.01566023823321537\n",
      "HOUR: nan\n",
      "MINUTE: nan\n",
      "SECOND: nan\n",
      "TEMP: 1.0\n"
     ]
    }
   ],
   "source": [
    "corr_schema = lf_full.collect_schema()\n",
    "\n",
    "for column in corr_schema.names():\n",
    "\n",
    "    corr = lf_full.select(pl.corr(column, \"TEMP\")).collect().item()\n",
    "    print(f\"{column}: {corr}\") "
   ]
  },
  {
   "cell_type": "code",
   "execution_count": null,
   "id": "85d21d2d-700b-4649-a1b1-71d532d3cd58",
   "metadata": {},
   "outputs": [],
   "source": []
  }
 ],
 "metadata": {
  "kernelspec": {
   "display_name": "Python 3 (ipykernel)",
   "language": "python",
   "name": "python3"
  },
  "language_info": {
   "codemirror_mode": {
    "name": "ipython",
    "version": 3
   },
   "file_extension": ".py",
   "mimetype": "text/x-python",
   "name": "python",
   "nbconvert_exporter": "python",
   "pygments_lexer": "ipython3",
   "version": "3.10.18"
  }
 },
 "nbformat": 4,
 "nbformat_minor": 5
}
